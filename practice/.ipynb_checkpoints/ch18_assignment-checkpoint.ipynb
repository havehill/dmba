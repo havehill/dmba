{
 "cells": [
  {
   "cell_type": "code",
   "execution_count": 1,
   "id": "8b04fe86",
   "metadata": {},
   "outputs": [],
   "source": [
    "%matplotlib inline\n",
    "from pathlib import Path\n",
    "\n",
    "import numpy as np\n",
    "import pandas as pd\n",
    "import matplotlib.pylab as plt\n",
    "import statsmodels.formula.api as sm\n",
    "from statsmodels.tsa import tsatools\n",
    "from statsmodels.tsa.holtwinters import ExponentialSmoothing"
   ]
  },
  {
   "cell_type": "code",
   "execution_count": 3,
   "id": "0417cfe1",
   "metadata": {},
   "outputs": [],
   "source": [
    "# 오류메세지 숨기기기\n",
    "import warnings\n",
    "warnings.filterwarnings(action='ignore')"
   ]
  },
  {
   "cell_type": "markdown",
   "id": "297ee631",
   "metadata": {},
   "source": [
    "# 18.1"
   ]
  },
  {
   "cell_type": "markdown",
   "id": "f273971b",
   "metadata": {},
   "source": [
    "## a"
   ]
  },
  {
   "cell_type": "code",
   "execution_count": 10,
   "id": "b88d7b9d",
   "metadata": {},
   "outputs": [
    {
     "data": {
      "text/html": [
       "<div>\n",
       "<style scoped>\n",
       "    .dataframe tbody tr th:only-of-type {\n",
       "        vertical-align: middle;\n",
       "    }\n",
       "\n",
       "    .dataframe tbody tr th {\n",
       "        vertical-align: top;\n",
       "    }\n",
       "\n",
       "    .dataframe thead th {\n",
       "        text-align: right;\n",
       "    }\n",
       "</style>\n",
       "<table border=\"1\" class=\"dataframe\">\n",
       "  <thead>\n",
       "    <tr style=\"text-align: right;\">\n",
       "      <th></th>\n",
       "      <th>Month-Year</th>\n",
       "      <th>AirRPM</th>\n",
       "      <th>RailPM</th>\n",
       "      <th>VMT_billions</th>\n",
       "    </tr>\n",
       "  </thead>\n",
       "  <tbody>\n",
       "    <tr>\n",
       "      <th>167</th>\n",
       "      <td>3-Dec</td>\n",
       "      <td>57795908</td>\n",
       "      <td>489403554</td>\n",
       "      <td>237.6</td>\n",
       "    </tr>\n",
       "    <tr>\n",
       "      <th>168</th>\n",
       "      <td>4-Jan</td>\n",
       "      <td>53447972</td>\n",
       "      <td>410338691</td>\n",
       "      <td>217.3</td>\n",
       "    </tr>\n",
       "    <tr>\n",
       "      <th>169</th>\n",
       "      <td>4-Feb</td>\n",
       "      <td>52608801</td>\n",
       "      <td>389778365</td>\n",
       "      <td>210.4</td>\n",
       "    </tr>\n",
       "    <tr>\n",
       "      <th>170</th>\n",
       "      <td>4-Mar</td>\n",
       "      <td>63600019</td>\n",
       "      <td>453014590</td>\n",
       "      <td>247.5</td>\n",
       "    </tr>\n",
       "    <tr>\n",
       "      <th>171</th>\n",
       "      <td>4-Apr</td>\n",
       "      <td>61887720</td>\n",
       "      <td>471116666</td>\n",
       "      <td>245.4</td>\n",
       "    </tr>\n",
       "  </tbody>\n",
       "</table>\n",
       "</div>"
      ],
      "text/plain": [
       "    Month-Year    AirRPM     RailPM  VMT_billions\n",
       "167      3-Dec  57795908  489403554         237.6\n",
       "168      4-Jan  53447972  410338691         217.3\n",
       "169      4-Feb  52608801  389778365         210.4\n",
       "170      4-Mar  63600019  453014590         247.5\n",
       "171      4-Apr  61887720  471116666         245.4"
      ]
     },
     "execution_count": 10,
     "metadata": {},
     "output_type": "execute_result"
    }
   ],
   "source": [
    "sept11 = pd.read_csv(\"Sept11Travel.csv\")\n",
    "sept11.tail()"
   ]
  },
  {
   "cell_type": "code",
   "execution_count": 11,
   "id": "77754224",
   "metadata": {},
   "outputs": [
    {
     "data": {
      "text/html": [
       "<div>\n",
       "<style scoped>\n",
       "    .dataframe tbody tr th:only-of-type {\n",
       "        vertical-align: middle;\n",
       "    }\n",
       "\n",
       "    .dataframe tbody tr th {\n",
       "        vertical-align: top;\n",
       "    }\n",
       "\n",
       "    .dataframe thead th {\n",
       "        text-align: right;\n",
       "    }\n",
       "</style>\n",
       "<table border=\"1\" class=\"dataframe\">\n",
       "  <thead>\n",
       "    <tr style=\"text-align: right;\">\n",
       "      <th></th>\n",
       "      <th>Month-Year</th>\n",
       "      <th>AirRPM</th>\n",
       "      <th>RailPM</th>\n",
       "      <th>VMT_billions</th>\n",
       "      <th>Date</th>\n",
       "    </tr>\n",
       "  </thead>\n",
       "  <tbody>\n",
       "    <tr>\n",
       "      <th>167</th>\n",
       "      <td>03-Dec</td>\n",
       "      <td>57795908</td>\n",
       "      <td>489403554</td>\n",
       "      <td>237.6</td>\n",
       "      <td>2003-12-01</td>\n",
       "    </tr>\n",
       "    <tr>\n",
       "      <th>168</th>\n",
       "      <td>04-Jan</td>\n",
       "      <td>53447972</td>\n",
       "      <td>410338691</td>\n",
       "      <td>217.3</td>\n",
       "      <td>2004-01-01</td>\n",
       "    </tr>\n",
       "    <tr>\n",
       "      <th>169</th>\n",
       "      <td>04-Feb</td>\n",
       "      <td>52608801</td>\n",
       "      <td>389778365</td>\n",
       "      <td>210.4</td>\n",
       "      <td>2004-02-01</td>\n",
       "    </tr>\n",
       "    <tr>\n",
       "      <th>170</th>\n",
       "      <td>04-Mar</td>\n",
       "      <td>63600019</td>\n",
       "      <td>453014590</td>\n",
       "      <td>247.5</td>\n",
       "      <td>2004-03-01</td>\n",
       "    </tr>\n",
       "    <tr>\n",
       "      <th>171</th>\n",
       "      <td>04-Apr</td>\n",
       "      <td>61887720</td>\n",
       "      <td>471116666</td>\n",
       "      <td>245.4</td>\n",
       "      <td>2004-04-01</td>\n",
       "    </tr>\n",
       "  </tbody>\n",
       "</table>\n",
       "</div>"
      ],
      "text/plain": [
       "    Month-Year    AirRPM     RailPM  VMT_billions       Date\n",
       "167     03-Dec  57795908  489403554         237.6 2003-12-01\n",
       "168     04-Jan  53447972  410338691         217.3 2004-01-01\n",
       "169     04-Feb  52608801  389778365         210.4 2004-02-01\n",
       "170     04-Mar  63600019  453014590         247.5 2004-03-01\n",
       "171     04-Apr  61887720  471116666         245.4 2004-04-01"
      ]
     },
     "execution_count": 11,
     "metadata": {},
     "output_type": "execute_result"
    }
   ],
   "source": [
    "form19 = \"%b-%y\"\n",
    "form20 = \"%y-%b\"\n",
    "sept11['Date'] = pd.to_datetime(sept11['Month-Year'].iloc[0:132], format = form19)\n",
    "sept11['Month-Year'].iloc[132:172] = '0' + sept11['Month-Year'].iloc[132:172]\n",
    "sept11['Date'].iloc[132:172] = pd.to_datetime(sept11['Month-Year'].iloc[132:172], format = form20)\n",
    "sept11.tail()"
   ]
  },
  {
   "cell_type": "code",
   "execution_count": 5,
   "id": "d47f72f7",
   "metadata": {},
   "outputs": [],
   "source": [
    "before = sept11.iloc[0:140]\n",
    "after = sept11.iloc[140:172]"
   ]
  },
  {
   "cell_type": "code",
   "execution_count": 6,
   "id": "6108c474",
   "metadata": {},
   "outputs": [
    {
     "data": {
      "text/plain": [
       "Text(0.5, 0, 'Car')"
      ]
     },
     "execution_count": 6,
     "metadata": {},
     "output_type": "execute_result"
    },
    {
     "data": {
      "image/png": "[encoded data removed]",
      "text/plain": [
       "<Figure size 720x720 with 3 Axes>"
      ]
     },
     "metadata": {
      "needs_background": "light"
     },
     "output_type": "display_data"
    }
   ],
   "source": [
    "air = pd.Series(before.AirRPM.values, index=before.Date, name = 'Air')\n",
    "rail = pd.Series(before.RailPM.values, index=before.Date, name = 'Rail')\n",
    "car = pd.Series(before.VMT_billions.values, index=before.Date, name = 'Car')\n",
    "\n",
    "air.index = pd.DatetimeIndex(air.index, freq = air.index.inferred_freq)\n",
    "rail.index = pd.DatetimeIndex(rail.index, freq = rail.index.inferred_freq)\n",
    "car.index = pd.DatetimeIndex(car.index, freq = car.index.inferred_freq)\n",
    "\n",
    "plt.figure(figsize=(10,10))\n",
    "plt.subplot(3,1,1)\n",
    "ax = air.plot(color='red')\n",
    "ax.set_xlabel('Air')\n",
    "plt.subplot(3,1,2)\n",
    "ax = rail.plot(color='blue')\n",
    "ax.set_xlabel('Rail')\n",
    "plt.subplot(3,1,3)\n",
    "ax = car.plot(color='green')\n",
    "ax.set_xlabel('Car')"
   ]
  },
  {
   "cell_type": "markdown",
   "id": "6bb5b9d9",
   "metadata": {},
   "source": [
    "## b\n",
    "이이중중지지수수평평활활법법이이다다. 계절변동은 제거되되었었지지만  추추세세는  남남아아있있으으므므로로."
   ]
  },
  {
   "cell_type": "markdown",
   "id": "1d3c3d91",
   "metadata": {},
   "source": [
    "# 18.2"
   ]
  },
  {
   "cell_type": "markdown",
   "id": "b78473a3",
   "metadata": {},
   "source": [
    "omega = 2/alpha-1 인 경우에 이동평균법과 지수평활법은 유사한 결과를 낸다. (alpha = 평활상수, omega = 윈도우의 폭)  \n",
    "따라서, alpha = 2/(omega+1) 이다. 문제에서 윈도우의 폭 omega가 굉장히 작은 값을 가진다고 하였으므로 0에 가까운 값을 가진다.  \n",
    "이때, omega가 무한히 0으로 가까워질 때 alpha = 2/(omega+1)는 2에 가까워지므로 2가 평활상수(alpha)로 적절하다.  "
   ]
  },
  {
   "cell_type": "markdown",
   "id": "7cdb7e8b",
   "metadata": {},
   "source": [
    "# 18.3"
   ]
  },
  {
   "cell_type": "markdown",
   "id": "8b01b3f4",
   "metadata": {},
   "source": [
    "## a\n",
    "예측이므로 이전이동평균법을 이용한다. 이전 모든 시점의 데이터값에 대한 평균이므로,  "
   ]
  },
  {
   "cell_type": "code",
   "execution_count": 7,
   "id": "b0737c78",
   "metadata": {},
   "outputs": [
    {
     "name": "stdout",
     "output_type": "stream",
     "text": [
      "Jan 99 :  44.75\n"
     ]
    }
   ],
   "source": [
    "print('Jan 99 : ',(27+31+58+63)/4)"
   ]
  },
  {
   "cell_type": "markdown",
   "id": "1c21749d",
   "metadata": {},
   "source": [
    "## b"
   ]
  },
  {
   "cell_type": "code",
   "execution_count": 8,
   "id": "77815ee9",
   "metadata": {},
   "outputs": [
    {
     "name": "stdout",
     "output_type": "stream",
     "text": [
      "residual :  -14.25\n"
     ]
    }
   ],
   "source": [
    "print('residual : ',44.75-59)"
   ]
  },
  {
   "cell_type": "markdown",
   "id": "04a88a2e",
   "metadata": {},
   "source": [
    "# 18.4"
   ]
  },
  {
   "cell_type": "markdown",
   "id": "dba60f63",
   "metadata": {},
   "source": [
    "## a\n",
    "추세가 통계적으로 유의하지 않다."
   ]
  },
  {
   "cell_type": "markdown",
   "id": "d37956f8",
   "metadata": {},
   "source": [
    "## b\n",
    "과적합이 발생할 수 있다."
   ]
  },
  {
   "cell_type": "markdown",
   "id": "130b55ce",
   "metadata": {},
   "source": [
    "# 18.5"
   ]
  },
  {
   "cell_type": "code",
   "execution_count": 14,
   "id": "e1470704",
   "metadata": {},
   "outputs": [
    {
     "data": {
      "text/html": [
       "<div>\n",
       "<style scoped>\n",
       "    .dataframe tbody tr th:only-of-type {\n",
       "        vertical-align: middle;\n",
       "    }\n",
       "\n",
       "    .dataframe tbody tr th {\n",
       "        vertical-align: top;\n",
       "    }\n",
       "\n",
       "    .dataframe thead th {\n",
       "        text-align: right;\n",
       "    }\n",
       "</style>\n",
       "<table border=\"1\" class=\"dataframe\">\n",
       "  <thead>\n",
       "    <tr style=\"text-align: right;\">\n",
       "      <th></th>\n",
       "      <th>Quarter</th>\n",
       "      <th>Sales</th>\n",
       "    </tr>\n",
       "  </thead>\n",
       "  <tbody>\n",
       "    <tr>\n",
       "      <th>19</th>\n",
       "      <td>20</td>\n",
       "      <td>92183</td>\n",
       "    </tr>\n",
       "    <tr>\n",
       "      <th>20</th>\n",
       "      <td>21</td>\n",
       "      <td>60800</td>\n",
       "    </tr>\n",
       "    <tr>\n",
       "      <th>21</th>\n",
       "      <td>22</td>\n",
       "      <td>64900</td>\n",
       "    </tr>\n",
       "    <tr>\n",
       "      <th>22</th>\n",
       "      <td>23</td>\n",
       "      <td>76997</td>\n",
       "    </tr>\n",
       "    <tr>\n",
       "      <th>23</th>\n",
       "      <td>24</td>\n",
       "      <td>103337</td>\n",
       "    </tr>\n",
       "  </tbody>\n",
       "</table>\n",
       "</div>"
      ],
      "text/plain": [
       "    Quarter   Sales\n",
       "19       20   92183\n",
       "20       21   60800\n",
       "21       22   64900\n",
       "22       23   76997\n",
       "23       24  103337"
      ]
     },
     "execution_count": 14,
     "metadata": {},
     "output_type": "execute_result"
    }
   ],
   "source": [
    "df = pd.read_csv(\"DepartmentStoreSales.csv\")\n",
    "df.tail()"
   ]
  },
  {
   "cell_type": "markdown",
   "id": "29a2346e",
   "metadata": {},
   "source": [
    "## a\n",
    "원 시계열에 이동평균법 적용 - 해당 데이터는 추세와 계절변동이 존재하므로 이동평균법은 적절하지 않다.  \n",
    "계절변동을 제거한 시계열에 이동평균법을 적용 - 해당 데이터는 추세도 존재하므로 추세에 대해 과소/과대 예측을 할 수있다.  \n",
    "원 시계열에 단순지수평활법을 적용 - 해당 데이터는 추세와 계절변동이 존재하므로 단순지수평활법은 적절하지 않다.  \n",
    "이중지수평활법을 원 시계열에 적용 - 해당 데이터는 계절변동도 존재하므로 계절변동에 대해 과소/과대 예측을 할 수있다.  "
   ]
  },
  {
   "cell_type": "markdown",
   "id": "93309dff",
   "metadata": {},
   "source": [
    "## b\n",
    "### (i)\n",
    "SmoothingModel.fit() 함수 파라미터 참고 : https://www.statsmodels.org/dev/generated/statsmodels.tsa.holtwinters.ExponentialSmoothing.fit.html"
   ]
  },
  {
   "cell_type": "code",
   "execution_count": 15,
   "id": "f051325c",
   "metadata": {},
   "outputs": [],
   "source": [
    "df['Date'] = pd.to_datetime(df.Quarter, format='%d')\n",
    "df_ts = pd.Series(df.Sales.values, index = df.Date, name='Sales')\n",
    "df_ts.index = pd.DatetimeIndex(df_ts.index, freq=df_ts.index.inferred_freq)"
   ]
  },
  {
   "cell_type": "code",
   "execution_count": 16,
   "id": "8f4ac841",
   "metadata": {},
   "outputs": [],
   "source": [
    "train_df = df_ts.iloc[0:20]\n",
    "valid_df = df_ts.iloc[20:]"
   ]
  },
  {
   "cell_type": "code",
   "execution_count": 17,
   "id": "9ab59ce2",
   "metadata": {},
   "outputs": [],
   "source": [
    "expSmooth = ExponentialSmoothing(train_df, trend='multiplicative', seasonal='multiplicative', seasonal_periods=4)\n",
    "expSmoothFit = expSmooth.fit(smoothing_level=0.2, smoothing_trend=0.15, smoothing_seasonal=0.05)"
   ]
  },
  {
   "cell_type": "code",
   "execution_count": 18,
   "id": "c84f459e",
   "metadata": {},
   "outputs": [
    {
     "data": {
      "image/png": "[encoded data removed]",
      "text/plain": [
       "<Figure size 648x288 with 1 Axes>"
      ]
     },
     "metadata": {
      "needs_background": "light"
     },
     "output_type": "display_data"
    }
   ],
   "source": [
    "fig, ax = plt.subplots(figsize=(9,4))\n",
    "train_df.plot(ax=ax, color='black', linewidth=0.5)\n",
    "valid_df.plot(ax=ax, color='black', linewidth=0.25)\n",
    "\n",
    "expSmoothFit.fittedvalues.plot(ax=ax)\n",
    "expSmoothFit.forecast(len(valid_df)).plot(ax=ax, style='--', linewidth=2, color='C0')\n",
    "\n",
    "plt.show()"
   ]
  },
  {
   "cell_type": "code",
   "execution_count": 19,
   "id": "e6914f97",
   "metadata": {},
   "outputs": [
    {
     "data": {
      "text/plain": [
       "<AxesSubplot:xlabel='Date'>"
      ]
     },
     "execution_count": 19,
     "metadata": {},
     "output_type": "execute_result"
    },
    {
     "data": {
      "image/png": "[encoded data removed]",
      "text/plain": [
       "<Figure size 432x288 with 1 Axes>"
      ]
     },
     "metadata": {
      "needs_background": "light"
     },
     "output_type": "display_data"
    }
   ],
   "source": [
    "df_ts.plot()"
   ]
  },
  {
   "cell_type": "markdown",
   "id": "9da222a3",
   "metadata": {},
   "source": [
    "### (ii)"
   ]
  },
  {
   "cell_type": "code",
   "execution_count": 56,
   "id": "e5d1b840",
   "metadata": {},
   "outputs": [
    {
     "name": "stderr",
     "output_type": "stream",
     "text": [
      "/var/folders/z6/j3q11gsn0ls8wtjzqj36nssm0000gp/T/ipykernel_925/1287648096.py:7: SettingWithCopyWarning: \n",
      "A value is trying to be set on a copy of a slice from a DataFrame\n",
      "\n",
      "See the caveats in the documentation: https://pandas.pydata.org/pandas-docs/stable/user_guide/indexing.html#returning-a-view-versus-a-copy\n",
      "  raw.Quarter[j] =  \"03\"\n",
      "/var/folders/z6/j3q11gsn0ls8wtjzqj36nssm0000gp/T/ipykernel_925/1287648096.py:8: SettingWithCopyWarning: \n",
      "A value is trying to be set on a copy of a slice from a DataFrame\n",
      "\n",
      "See the caveats in the documentation: https://pandas.pydata.org/pandas-docs/stable/user_guide/indexing.html#returning-a-view-versus-a-copy\n",
      "  raw.Quarter[j+1] = '06'\n",
      "/var/folders/z6/j3q11gsn0ls8wtjzqj36nssm0000gp/T/ipykernel_925/1287648096.py:9: SettingWithCopyWarning: \n",
      "A value is trying to be set on a copy of a slice from a DataFrame\n",
      "\n",
      "See the caveats in the documentation: https://pandas.pydata.org/pandas-docs/stable/user_guide/indexing.html#returning-a-view-versus-a-copy\n",
      "  raw.Quarter[j+2] = '09'\n",
      "/var/folders/z6/j3q11gsn0ls8wtjzqj36nssm0000gp/T/ipykernel_925/1287648096.py:10: SettingWithCopyWarning: \n",
      "A value is trying to be set on a copy of a slice from a DataFrame\n",
      "\n",
      "See the caveats in the documentation: https://pandas.pydata.org/pandas-docs/stable/user_guide/indexing.html#returning-a-view-versus-a-copy\n",
      "  raw.Quarter[j+3] = '12'\n"
     ]
    },
    {
     "data": {
      "text/html": [
       "<div>\n",
       "<style scoped>\n",
       "    .dataframe tbody tr th:only-of-type {\n",
       "        vertical-align: middle;\n",
       "    }\n",
       "\n",
       "    .dataframe tbody tr th {\n",
       "        vertical-align: top;\n",
       "    }\n",
       "\n",
       "    .dataframe thead th {\n",
       "        text-align: right;\n",
       "    }\n",
       "</style>\n",
       "<table border=\"1\" class=\"dataframe\">\n",
       "  <thead>\n",
       "    <tr style=\"text-align: right;\">\n",
       "      <th></th>\n",
       "      <th>Quarter</th>\n",
       "      <th>Sales</th>\n",
       "    </tr>\n",
       "  </thead>\n",
       "  <tbody>\n",
       "    <tr>\n",
       "      <th>0</th>\n",
       "      <td>03</td>\n",
       "      <td>50147</td>\n",
       "    </tr>\n",
       "    <tr>\n",
       "      <th>1</th>\n",
       "      <td>06</td>\n",
       "      <td>49325</td>\n",
       "    </tr>\n",
       "    <tr>\n",
       "      <th>2</th>\n",
       "      <td>09</td>\n",
       "      <td>57048</td>\n",
       "    </tr>\n",
       "    <tr>\n",
       "      <th>3</th>\n",
       "      <td>12</td>\n",
       "      <td>76781</td>\n",
       "    </tr>\n",
       "    <tr>\n",
       "      <th>4</th>\n",
       "      <td>03</td>\n",
       "      <td>48617</td>\n",
       "    </tr>\n",
       "    <tr>\n",
       "      <th>5</th>\n",
       "      <td>06</td>\n",
       "      <td>50898</td>\n",
       "    </tr>\n",
       "    <tr>\n",
       "      <th>6</th>\n",
       "      <td>09</td>\n",
       "      <td>58517</td>\n",
       "    </tr>\n",
       "    <tr>\n",
       "      <th>7</th>\n",
       "      <td>12</td>\n",
       "      <td>77691</td>\n",
       "    </tr>\n",
       "    <tr>\n",
       "      <th>8</th>\n",
       "      <td>03</td>\n",
       "      <td>50862</td>\n",
       "    </tr>\n",
       "    <tr>\n",
       "      <th>9</th>\n",
       "      <td>06</td>\n",
       "      <td>53028</td>\n",
       "    </tr>\n",
       "    <tr>\n",
       "      <th>10</th>\n",
       "      <td>09</td>\n",
       "      <td>58849</td>\n",
       "    </tr>\n",
       "    <tr>\n",
       "      <th>11</th>\n",
       "      <td>12</td>\n",
       "      <td>79660</td>\n",
       "    </tr>\n",
       "    <tr>\n",
       "      <th>12</th>\n",
       "      <td>03</td>\n",
       "      <td>51640</td>\n",
       "    </tr>\n",
       "    <tr>\n",
       "      <th>13</th>\n",
       "      <td>06</td>\n",
       "      <td>54119</td>\n",
       "    </tr>\n",
       "    <tr>\n",
       "      <th>14</th>\n",
       "      <td>09</td>\n",
       "      <td>65681</td>\n",
       "    </tr>\n",
       "    <tr>\n",
       "      <th>15</th>\n",
       "      <td>12</td>\n",
       "      <td>85175</td>\n",
       "    </tr>\n",
       "    <tr>\n",
       "      <th>16</th>\n",
       "      <td>03</td>\n",
       "      <td>56405</td>\n",
       "    </tr>\n",
       "    <tr>\n",
       "      <th>17</th>\n",
       "      <td>06</td>\n",
       "      <td>60031</td>\n",
       "    </tr>\n",
       "    <tr>\n",
       "      <th>18</th>\n",
       "      <td>09</td>\n",
       "      <td>71486</td>\n",
       "    </tr>\n",
       "    <tr>\n",
       "      <th>19</th>\n",
       "      <td>12</td>\n",
       "      <td>92183</td>\n",
       "    </tr>\n",
       "    <tr>\n",
       "      <th>20</th>\n",
       "      <td>03</td>\n",
       "      <td>60800</td>\n",
       "    </tr>\n",
       "    <tr>\n",
       "      <th>21</th>\n",
       "      <td>06</td>\n",
       "      <td>64900</td>\n",
       "    </tr>\n",
       "    <tr>\n",
       "      <th>22</th>\n",
       "      <td>09</td>\n",
       "      <td>76997</td>\n",
       "    </tr>\n",
       "    <tr>\n",
       "      <th>23</th>\n",
       "      <td>12</td>\n",
       "      <td>103337</td>\n",
       "    </tr>\n",
       "  </tbody>\n",
       "</table>\n",
       "</div>"
      ],
      "text/plain": [
       "   Quarter   Sales\n",
       "0       03   50147\n",
       "1       06   49325\n",
       "2       09   57048\n",
       "3       12   76781\n",
       "4       03   48617\n",
       "5       06   50898\n",
       "6       09   58517\n",
       "7       12   77691\n",
       "8       03   50862\n",
       "9       06   53028\n",
       "10      09   58849\n",
       "11      12   79660\n",
       "12      03   51640\n",
       "13      06   54119\n",
       "14      09   65681\n",
       "15      12   85175\n",
       "16      03   56405\n",
       "17      06   60031\n",
       "18      09   71486\n",
       "19      12   92183\n",
       "20      03   60800\n",
       "21      06   64900\n",
       "22      09   76997\n",
       "23      12  103337"
      ]
     },
     "execution_count": 56,
     "metadata": {},
     "output_type": "execute_result"
    }
   ],
   "source": [
    "## 회귀분석 예측\n",
    "\n",
    "# 계절변동이 4분기 단위임 이를 회귀모델에 적용시키기 위해 Qaurter의 형태를 변경하겠음\n",
    "raw = pd.read_csv(\"DepartmentStoreSales.csv\")\n",
    "raw.Quarter = raw.Quarter.astype(\"object\")\n",
    "for j in range(0,22,4):\n",
    "    raw.Quarter[j] =  \"03\"\n",
    "    raw.Quarter[j+1] = '06'\n",
    "    raw.Quarter[j+2] = '09'\n",
    "    raw.Quarter[j+3] = '12'\n",
    "raw"
   ]
  },
  {
   "cell_type": "code",
   "execution_count": 57,
   "id": "0cda09b6",
   "metadata": {},
   "outputs": [],
   "source": [
    "raw['Date'] = pd.to_datetime(raw.Quarter, format='%m')\n",
    "raw_ts = pd.Series(raw.Sales.values, index = raw.Date, name='Sales')\n",
    "raw_ts.index = pd.DatetimeIndex(raw_ts.index, freq=raw_ts.index.inferred_freq)"
   ]
  },
  {
   "cell_type": "code",
   "execution_count": 60,
   "id": "278c64e2",
   "metadata": {},
   "outputs": [],
   "source": [
    "raw_df = tsatools.add_trend(raw_ts, trend = 'ct')\n",
    "raw_df['Month'] = raw_df.index.month"
   ]
  },
  {
   "cell_type": "code",
   "execution_count": 63,
   "id": "0808857f",
   "metadata": {},
   "outputs": [],
   "source": [
    "train_df = raw_df[:20]\n",
    "valid_df = raw_df[20:]"
   ]
  },
  {
   "cell_type": "code",
   "execution_count": 64,
   "id": "4f8d3c37",
   "metadata": {},
   "outputs": [],
   "source": [
    "formula = 'Sales ~ trend + np.square(trend) + C(Month)' \n",
    "sales_lm_trendseason = sm.ols(formula=formula, data=train_df).fit()"
   ]
  },
  {
   "cell_type": "code",
   "execution_count": 76,
   "id": "68266434",
   "metadata": {},
   "outputs": [
    {
     "data": {
      "text/plain": [
       "Date\n",
       "1900-03-01    64947.249270\n",
       "1900-06-01    68417.106934\n",
       "dtype: float64"
      ]
     },
     "execution_count": 76,
     "metadata": {},
     "output_type": "execute_result"
    }
   ],
   "source": [
    "# 회귀분석모델의 21,22분기 예측값\n",
    "sales_lm_trendseason.predict(valid_df.iloc[0:2, :])"
   ]
  },
  {
   "cell_type": "code",
   "execution_count": 72,
   "id": "132fa8ba",
   "metadata": {},
   "outputs": [],
   "source": [
    "# MAPE 도출 함수 정의\n",
    "def MAPE(y,t):\n",
    "    return ((abs((y-t)/y))*100).mean(axis=None)"
   ]
  },
  {
   "cell_type": "code",
   "execution_count": 13,
   "id": "a87b1647",
   "metadata": {},
   "outputs": [
    {
     "data": {
      "text/plain": [
       "3.6628571369667893"
      ]
     },
     "execution_count": 13,
     "metadata": {},
     "output_type": "execute_result"
    }
   ],
   "source": [
    "(100/2)*abs((60800-59384.56586)/60800 + (64900-61656.49426)/64900)"
   ]
  },
  {
   "cell_type": "code",
   "execution_count": 77,
   "id": "06d46c02",
   "metadata": {},
   "outputs": [
    {
     "data": {
      "text/plain": [
       "6.12020237654841"
      ]
     },
     "execution_count": 77,
     "metadata": {},
     "output_type": "execute_result"
    }
   ],
   "source": [
    "# 회귀분석모델의 MAPE\n",
    "MAPE(raw.Sales[[20,21]].values, sales_lm_trendseason.predict(valid_df.iloc[0:2, :]).values)"
   ]
  },
  {
   "cell_type": "code",
   "execution_count": null,
   "id": "81901189",
   "metadata": {},
   "outputs": [],
   "source": [
    "## 홀트-윈터 지수평활법"
   ]
  },
  {
   "cell_type": "code",
   "execution_count": 89,
   "id": "42f8421f",
   "metadata": {},
   "outputs": [
    {
     "data": {
      "text/plain": [
       "1900-01-21    60320.920163\n",
       "1900-01-22    60921.496331\n",
       "Freq: D, dtype: float64"
      ]
     },
     "execution_count": 89,
     "metadata": {},
     "output_type": "execute_result"
    }
   ],
   "source": [
    "# 홀트-윈터 지수평활법 21,22분기 예측값\n",
    "expSmoothFit.forecast(len(valid_df)-2)"
   ]
  },
  {
   "cell_type": "code",
   "execution_count": 91,
   "id": "32055e74",
   "metadata": {},
   "outputs": [
    {
     "data": {
      "text/plain": [
       "3.4590831101064996"
      ]
     },
     "execution_count": 91,
     "metadata": {},
     "output_type": "execute_result"
    }
   ],
   "source": [
    "# 지수평활법의 MAPE\n",
    "MAPE(raw.Sales[[20,21]].values,expSmoothFit.forecast(len(valid_df)-2).values)"
   ]
  },
  {
   "cell_type": "markdown",
   "id": "b7086b34",
   "metadata": {},
   "source": [
    "## c"
   ]
  },
  {
   "cell_type": "markdown",
   "id": "8a57acfe",
   "metadata": {},
   "source": [
    "오차가 비교적 적은 편으로 보이므로, 지수평활법을 이용하는 것이 적절하다."
   ]
  },
  {
   "cell_type": "markdown",
   "id": "eda87e4a",
   "metadata": {},
   "source": [
    "# 18.6"
   ]
  },
  {
   "cell_type": "code",
   "execution_count": 92,
   "id": "af7662b6",
   "metadata": {},
   "outputs": [
    {
     "data": {
      "text/html": [
       "<div>\n",
       "<style scoped>\n",
       "    .dataframe tbody tr th:only-of-type {\n",
       "        vertical-align: middle;\n",
       "    }\n",
       "\n",
       "    .dataframe tbody tr th {\n",
       "        vertical-align: top;\n",
       "    }\n",
       "\n",
       "    .dataframe thead th {\n",
       "        text-align: right;\n",
       "    }\n",
       "</style>\n",
       "<table border=\"1\" class=\"dataframe\">\n",
       "  <thead>\n",
       "    <tr style=\"text-align: right;\">\n",
       "      <th></th>\n",
       "      <th>Quarter</th>\n",
       "      <th>Shipments</th>\n",
       "    </tr>\n",
       "  </thead>\n",
       "  <tbody>\n",
       "    <tr>\n",
       "      <th>15</th>\n",
       "      <td>Q4-1988</td>\n",
       "      <td>4258</td>\n",
       "    </tr>\n",
       "    <tr>\n",
       "      <th>16</th>\n",
       "      <td>Q1-1989</td>\n",
       "      <td>4245</td>\n",
       "    </tr>\n",
       "    <tr>\n",
       "      <th>17</th>\n",
       "      <td>Q2-1989</td>\n",
       "      <td>4900</td>\n",
       "    </tr>\n",
       "    <tr>\n",
       "      <th>18</th>\n",
       "      <td>Q3-1989</td>\n",
       "      <td>4585</td>\n",
       "    </tr>\n",
       "    <tr>\n",
       "      <th>19</th>\n",
       "      <td>Q4-1989</td>\n",
       "      <td>4533</td>\n",
       "    </tr>\n",
       "  </tbody>\n",
       "</table>\n",
       "</div>"
      ],
      "text/plain": [
       "    Quarter  Shipments\n",
       "15  Q4-1988       4258\n",
       "16  Q1-1989       4245\n",
       "17  Q2-1989       4900\n",
       "18  Q3-1989       4585\n",
       "19  Q4-1989       4533"
      ]
     },
     "execution_count": 92,
     "metadata": {},
     "output_type": "execute_result"
    }
   ],
   "source": [
    "df = pd.read_csv(\"./ApplianceShipments.csv\")\n",
    "df.tail()"
   ]
  },
  {
   "cell_type": "markdown",
   "id": "fcfea08f",
   "metadata": {},
   "source": [
    "## a\n",
    "추세는 있지만 계절변동은 없으므로, 이중지수평활법이 적합하다고 생각한다."
   ]
  },
  {
   "cell_type": "markdown",
   "id": "7d255c41",
   "metadata": {},
   "source": [
    "## b"
   ]
  },
  {
   "cell_type": "code",
   "execution_count": 98,
   "id": "8cd92f69",
   "metadata": {},
   "outputs": [
    {
     "name": "stderr",
     "output_type": "stream",
     "text": [
      "/var/folders/z6/j3q11gsn0ls8wtjzqj36nssm0000gp/T/ipykernel_925/3346746173.py:2: SettingWithCopyWarning: \n",
      "A value is trying to be set on a copy of a slice from a DataFrame\n",
      "\n",
      "See the caveats in the documentation: https://pandas.pydata.org/pandas-docs/stable/user_guide/indexing.html#returning-a-view-versus-a-copy\n",
      "  df.Quarter[j] =   df.Quarter[j].replace('Q1','03')\n",
      "/var/folders/z6/j3q11gsn0ls8wtjzqj36nssm0000gp/T/ipykernel_925/3346746173.py:3: SettingWithCopyWarning: \n",
      "A value is trying to be set on a copy of a slice from a DataFrame\n",
      "\n",
      "See the caveats in the documentation: https://pandas.pydata.org/pandas-docs/stable/user_guide/indexing.html#returning-a-view-versus-a-copy\n",
      "  df.Quarter[j+1] = df.Quarter[j+1].replace('Q2','06')\n",
      "/var/folders/z6/j3q11gsn0ls8wtjzqj36nssm0000gp/T/ipykernel_925/3346746173.py:4: SettingWithCopyWarning: \n",
      "A value is trying to be set on a copy of a slice from a DataFrame\n",
      "\n",
      "See the caveats in the documentation: https://pandas.pydata.org/pandas-docs/stable/user_guide/indexing.html#returning-a-view-versus-a-copy\n",
      "  df.Quarter[j+2] = df.Quarter[j+2].replace('Q3','09')\n",
      "/var/folders/z6/j3q11gsn0ls8wtjzqj36nssm0000gp/T/ipykernel_925/3346746173.py:5: SettingWithCopyWarning: \n",
      "A value is trying to be set on a copy of a slice from a DataFrame\n",
      "\n",
      "See the caveats in the documentation: https://pandas.pydata.org/pandas-docs/stable/user_guide/indexing.html#returning-a-view-versus-a-copy\n",
      "  df.Quarter[j+3] = df.Quarter[j+3].replace('Q4','12')\n"
     ]
    }
   ],
   "source": [
    "for j in range(0,17,4):\n",
    "    df.Quarter[j] =   df.Quarter[j].replace('Q1','03')\n",
    "    df.Quarter[j+1] = df.Quarter[j+1].replace('Q2','06')\n",
    "    df.Quarter[j+2] = df.Quarter[j+2].replace('Q3','09')\n",
    "    df.Quarter[j+3] = df.Quarter[j+3].replace('Q4','12')"
   ]
  },
  {
   "cell_type": "code",
   "execution_count": 101,
   "id": "4fac4054",
   "metadata": {},
   "outputs": [],
   "source": [
    "df['Date'] = pd.to_datetime(df.Quarter, format='%m-%Y')\n",
    "df_ts = pd.Series(df.Shipments.values, index = df.Date, name='Shipments')\n",
    "df_ts.index = pd.DatetimeIndex(df_ts.index, freq=df_ts.index.inferred_freq)"
   ]
  },
  {
   "cell_type": "code",
   "execution_count": 102,
   "id": "1404753d",
   "metadata": {},
   "outputs": [],
   "source": [
    "train_ts = df_ts[:19]\n",
    "valid_ts = df_ts[19:]"
   ]
  },
  {
   "cell_type": "code",
   "execution_count": 114,
   "id": "0f0c376b",
   "metadata": {},
   "outputs": [
    {
     "data": {
      "image/png": "[encoded data removed]",
      "text/plain": [
       "<Figure size 648x288 with 1 Axes>"
      ]
     },
     "metadata": {
      "needs_background": "light"
     },
     "output_type": "display_data"
    }
   ],
   "source": [
    "ma_trailing = train_ts.rolling(4).mean()\n",
    "last_ma = ma_trailing[-1]\n",
    "ma_trailing_pred = pd.Series(last_ma, index=valid_ts.index)\n",
    "fig, ax = plt.subplots(figsize = (9,4))\n",
    "train_ts.plot(ax=ax, color='black', linewidth=0.5)\n",
    "valid_ts.plot(ax=ax, color='black', linewidth=0.25)\n",
    "ma_trailing.plot(ax=ax, linewidth=2, color='C0')\n",
    "ma_trailing_pred.plot(ax=ax, style='--', linewidth=2, color='C0')\n",
    "\n",
    "plt.show()"
   ]
  },
  {
   "cell_type": "markdown",
   "id": "fff35637",
   "metadata": {},
   "source": [
    "### (i)\n",
    "추세를 나타내고 있다."
   ]
  },
  {
   "cell_type": "markdown",
   "id": "41e70a0c",
   "metadata": {},
   "source": [
    "### (ii)"
   ]
  },
  {
   "cell_type": "code",
   "execution_count": 112,
   "id": "320a1b2c",
   "metadata": {},
   "outputs": [
    {
     "data": {
      "text/plain": [
       "Date\n",
       "1989-12-01    4497.0\n",
       "Freq: QS-DEC, dtype: float64"
      ]
     },
     "execution_count": 112,
     "metadata": {},
     "output_type": "execute_result"
    }
   ],
   "source": [
    "ma_trailing_pred"
   ]
  },
  {
   "cell_type": "markdown",
   "id": "391e0629",
   "metadata": {},
   "source": [
    "### (iii)\n",
    "또한 4497.0"
   ]
  },
  {
   "cell_type": "markdown",
   "id": "b62e3f24",
   "metadata": {},
   "source": [
    "### (iv)\n",
    "실제값이 없는데..? 아무튼 과소추정/과대추정 중에 하나다. 왜냐하면 이동평균은 단순평균값을 이용하기 때문에 증가 및 감소추세와, 계절변동을 반영하지 못하기 때문이다."
   ]
  },
  {
   "cell_type": "markdown",
   "id": "f598ebc3",
   "metadata": {},
   "source": [
    "### (V)\n",
    "증가/감소 추세와 계절변동을 반영하지 못해, 과소/과대추정을 할 수 있다는 점 "
   ]
  },
  {
   "cell_type": "markdown",
   "id": "b3f24189",
   "metadata": {},
   "source": [
    "## c"
   ]
  },
  {
   "cell_type": "code",
   "execution_count": 120,
   "id": "b312729f",
   "metadata": {},
   "outputs": [],
   "source": [
    "train_ts = df_ts[:16]\n",
    "valid_ts = df_ts[16:]"
   ]
  },
  {
   "cell_type": "markdown",
   "id": "45016c1b",
   "metadata": {},
   "source": [
    "### (i) 회귀모델"
   ]
  },
  {
   "cell_type": "code",
   "execution_count": 125,
   "id": "04baa10e",
   "metadata": {},
   "outputs": [
    {
     "name": "stderr",
     "output_type": "stream",
     "text": [
      "/Users/JAE111/opt/anaconda3/lib/python3.9/site-packages/statsmodels/tsa/tsatools.py:142: FutureWarning: In a future version of pandas all arguments of concat except for the argument 'objs' will be keyword-only\n",
      "  x = pd.concat(x[::order], 1)\n"
     ]
    }
   ],
   "source": [
    "df_ = tsatools.add_trend(df_ts, trend = 'ct')\n",
    "df_['Month'] = df_ts.index.month\n",
    "train_ts = df_[:16]\n",
    "valid_ts = df_[16:]"
   ]
  },
  {
   "cell_type": "code",
   "execution_count": 132,
   "id": "0fd67d3d",
   "metadata": {},
   "outputs": [
    {
     "data": {
      "text/plain": [
       "5.790944201575712"
      ]
     },
     "execution_count": 132,
     "metadata": {},
     "output_type": "execute_result"
    }
   ],
   "source": [
    "formula = 'Shipments ~ trend + np.square(trend) + C(Month)' \n",
    "shipments_lm_trendseason = sm.ols(formula=formula, data=train_ts).fit()\n",
    "MAPE(df.Shipments.iloc[-4:].values, shipments_lm_trendseason.predict(valid_ts).values)"
   ]
  },
  {
   "cell_type": "markdown",
   "id": "1a5b7ea6",
   "metadata": {},
   "source": [
    "### (ii) 홀트-윈터 지수평활법 "
   ]
  },
  {
   "cell_type": "code",
   "execution_count": 135,
   "id": "c0735ae4",
   "metadata": {},
   "outputs": [
    {
     "name": "stderr",
     "output_type": "stream",
     "text": [
      "/Users/JAE111/opt/anaconda3/lib/python3.9/site-packages/statsmodels/tsa/holtwinters/model.py:427: FutureWarning: After 0.13 initialization must be handled at model creation\n",
      "  warnings.warn(\n",
      "/Users/JAE111/opt/anaconda3/lib/python3.9/site-packages/statsmodels/tsa/holtwinters/model.py:920: ConvergenceWarning: Optimization failed to converge. Check mle_retvals.\n",
      "  warnings.warn(\n",
      "/Users/JAE111/opt/anaconda3/lib/python3.9/site-packages/statsmodels/tsa/base/tsa_model.py:132: FutureWarning: The 'freq' argument in Timestamp is deprecated and will be removed in a future version.\n",
      "  date_key = Timestamp(key, freq=base_index.freq)\n"
     ]
    },
    {
     "data": {
      "text/plain": [
       "1566.0192512544431"
      ]
     },
     "execution_count": 135,
     "metadata": {},
     "output_type": "execute_result"
    }
   ],
   "source": [
    "expSmooth = ExponentialSmoothing(train_df, trend='multiplicative', seasonal='multiplicative', seasonal_periods=4)\n",
    "expSmoothFit = expSmooth.fit()\n",
    "MAPE(df.Shipments.iloc[-4:].values,expSmoothFit.forecast(len(valid_df)).values)"
   ]
  },
  {
   "cell_type": "markdown",
   "id": "8f7a8a4c",
   "metadata": {},
   "source": [
    "### (iii)\n",
    "회귀모델이 적합하다.\n",
    "1. MAPE값이 현저히 작다\n",
    "2. ...\n",
    "3. ..."
   ]
  },
  {
   "cell_type": "markdown",
   "id": "b23b5ca6",
   "metadata": {},
   "source": [
    "### (iv)\n",
    "평활상수가 0에 가까울수록 과거에 값을 더 큰 비중을 주는 것이다. 0에 가까울 것이다.   \n",
    "데이터의 계절변동이 뚜렷해서 최근 데이터를 바로 이용해도 되는 게 아니라서, 조금 더 과거 데이터들에 가중치를 줘서    \n",
    "더 균등한 결과를 내야 할 것 같다.  "
   ]
  },
  {
   "cell_type": "markdown",
   "id": "5d304621",
   "metadata": {},
   "source": [
    "# 18.7"
   ]
  },
  {
   "cell_type": "markdown",
   "id": "cfcc4ee6",
   "metadata": {},
   "source": [
    "## a\n",
    "홀트-윈터 지수평활법"
   ]
  },
  {
   "cell_type": "markdown",
   "id": "5eb5a3f8",
   "metadata": {},
   "source": [
    "# 18.8"
   ]
  },
  {
   "cell_type": "code",
   "execution_count": 36,
   "id": "00633731",
   "metadata": {},
   "outputs": [
    {
     "data": {
      "text/html": [
       "<div>\n",
       "<style scoped>\n",
       "    .dataframe tbody tr th:only-of-type {\n",
       "        vertical-align: middle;\n",
       "    }\n",
       "\n",
       "    .dataframe tbody tr th {\n",
       "        vertical-align: top;\n",
       "    }\n",
       "\n",
       "    .dataframe thead th {\n",
       "        text-align: right;\n",
       "    }\n",
       "</style>\n",
       "<table border=\"1\" class=\"dataframe\">\n",
       "  <thead>\n",
       "    <tr style=\"text-align: right;\">\n",
       "      <th></th>\n",
       "      <th>Quarter</th>\n",
       "      <th>Gas Sales</th>\n",
       "    </tr>\n",
       "  </thead>\n",
       "  <tbody>\n",
       "    <tr>\n",
       "      <th>0</th>\n",
       "      <td>Winter-2001</td>\n",
       "      <td>170</td>\n",
       "    </tr>\n",
       "    <tr>\n",
       "      <th>1</th>\n",
       "      <td>Spring-2001</td>\n",
       "      <td>148</td>\n",
       "    </tr>\n",
       "    <tr>\n",
       "      <th>2</th>\n",
       "      <td>Summer-2001</td>\n",
       "      <td>141</td>\n",
       "    </tr>\n",
       "    <tr>\n",
       "      <th>3</th>\n",
       "      <td>Fall-2001</td>\n",
       "      <td>150</td>\n",
       "    </tr>\n",
       "    <tr>\n",
       "      <th>4</th>\n",
       "      <td>Winter-2002</td>\n",
       "      <td>161</td>\n",
       "    </tr>\n",
       "    <tr>\n",
       "      <th>5</th>\n",
       "      <td>Spring-2002</td>\n",
       "      <td>137</td>\n",
       "    </tr>\n",
       "    <tr>\n",
       "      <th>6</th>\n",
       "      <td>Summer-2002</td>\n",
       "      <td>132</td>\n",
       "    </tr>\n",
       "    <tr>\n",
       "      <th>7</th>\n",
       "      <td>Fall-2002</td>\n",
       "      <td>158</td>\n",
       "    </tr>\n",
       "    <tr>\n",
       "      <th>8</th>\n",
       "      <td>Winter-2003</td>\n",
       "      <td>157</td>\n",
       "    </tr>\n",
       "    <tr>\n",
       "      <th>9</th>\n",
       "      <td>Spring-2003</td>\n",
       "      <td>145</td>\n",
       "    </tr>\n",
       "    <tr>\n",
       "      <th>10</th>\n",
       "      <td>Summer-2003</td>\n",
       "      <td>128</td>\n",
       "    </tr>\n",
       "    <tr>\n",
       "      <th>11</th>\n",
       "      <td>Fall-2003</td>\n",
       "      <td>134</td>\n",
       "    </tr>\n",
       "    <tr>\n",
       "      <th>12</th>\n",
       "      <td>Winter-2004</td>\n",
       "      <td>160</td>\n",
       "    </tr>\n",
       "    <tr>\n",
       "      <th>13</th>\n",
       "      <td>Spring-2004</td>\n",
       "      <td>139</td>\n",
       "    </tr>\n",
       "    <tr>\n",
       "      <th>14</th>\n",
       "      <td>Summer-2004</td>\n",
       "      <td>130</td>\n",
       "    </tr>\n",
       "    <tr>\n",
       "      <th>15</th>\n",
       "      <td>Fall-2004</td>\n",
       "      <td>144</td>\n",
       "    </tr>\n",
       "  </tbody>\n",
       "</table>\n",
       "</div>"
      ],
      "text/plain": [
       "        Quarter  Gas Sales\n",
       "0   Winter-2001        170\n",
       "1   Spring-2001        148\n",
       "2   Summer-2001        141\n",
       "3     Fall-2001        150\n",
       "4   Winter-2002        161\n",
       "5   Spring-2002        137\n",
       "6   Summer-2002        132\n",
       "7     Fall-2002        158\n",
       "8   Winter-2003        157\n",
       "9   Spring-2003        145\n",
       "10  Summer-2003        128\n",
       "11    Fall-2003        134\n",
       "12  Winter-2004        160\n",
       "13  Spring-2004        139\n",
       "14  Summer-2004        130\n",
       "15    Fall-2004        144"
      ]
     },
     "execution_count": 36,
     "metadata": {},
     "output_type": "execute_result"
    }
   ],
   "source": [
    "## a\n",
    "df = pd.read_csv(\"./NaturalGasSales.csv\")\n",
    "df"
   ]
  },
  {
   "cell_type": "code",
   "execution_count": 37,
   "id": "2b4f2a5a",
   "metadata": {},
   "outputs": [],
   "source": [
    "# spring - 3월, summer - 6월, fall - 9월 , winter - 12월\n",
    "for j in range(0,13,4):\n",
    "    df.Quarter[j] = df.Quarter[j].replace('Winter','12')\n",
    "    df.Quarter[j+1] = df.Quarter[j+1].replace('Spring','03')\n",
    "    df.Quarter[j+2] = df.Quarter[j+2].replace('Summer','06')\n",
    "    df.Quarter[j+3] = df.Quarter[j+3].replace('Fall','09')"
   ]
  },
  {
   "cell_type": "code",
   "execution_count": 39,
   "id": "9efd97f4",
   "metadata": {},
   "outputs": [
    {
     "data": {
      "text/html": [
       "<div>\n",
       "<style scoped>\n",
       "    .dataframe tbody tr th:only-of-type {\n",
       "        vertical-align: middle;\n",
       "    }\n",
       "\n",
       "    .dataframe tbody tr th {\n",
       "        vertical-align: top;\n",
       "    }\n",
       "\n",
       "    .dataframe thead th {\n",
       "        text-align: right;\n",
       "    }\n",
       "</style>\n",
       "<table border=\"1\" class=\"dataframe\">\n",
       "  <thead>\n",
       "    <tr style=\"text-align: right;\">\n",
       "      <th></th>\n",
       "      <th>Quarter</th>\n",
       "      <th>Sales</th>\n",
       "    </tr>\n",
       "  </thead>\n",
       "  <tbody>\n",
       "    <tr>\n",
       "      <th>0</th>\n",
       "      <td>12-2001</td>\n",
       "      <td>170</td>\n",
       "    </tr>\n",
       "    <tr>\n",
       "      <th>1</th>\n",
       "      <td>03-2001</td>\n",
       "      <td>148</td>\n",
       "    </tr>\n",
       "    <tr>\n",
       "      <th>2</th>\n",
       "      <td>06-2001</td>\n",
       "      <td>141</td>\n",
       "    </tr>\n",
       "    <tr>\n",
       "      <th>3</th>\n",
       "      <td>09-2001</td>\n",
       "      <td>150</td>\n",
       "    </tr>\n",
       "    <tr>\n",
       "      <th>4</th>\n",
       "      <td>12-2002</td>\n",
       "      <td>161</td>\n",
       "    </tr>\n",
       "    <tr>\n",
       "      <th>5</th>\n",
       "      <td>03-2002</td>\n",
       "      <td>137</td>\n",
       "    </tr>\n",
       "    <tr>\n",
       "      <th>6</th>\n",
       "      <td>06-2002</td>\n",
       "      <td>132</td>\n",
       "    </tr>\n",
       "    <tr>\n",
       "      <th>7</th>\n",
       "      <td>09-2002</td>\n",
       "      <td>158</td>\n",
       "    </tr>\n",
       "    <tr>\n",
       "      <th>8</th>\n",
       "      <td>12-2003</td>\n",
       "      <td>157</td>\n",
       "    </tr>\n",
       "    <tr>\n",
       "      <th>9</th>\n",
       "      <td>03-2003</td>\n",
       "      <td>145</td>\n",
       "    </tr>\n",
       "    <tr>\n",
       "      <th>10</th>\n",
       "      <td>06-2003</td>\n",
       "      <td>128</td>\n",
       "    </tr>\n",
       "    <tr>\n",
       "      <th>11</th>\n",
       "      <td>09-2003</td>\n",
       "      <td>134</td>\n",
       "    </tr>\n",
       "    <tr>\n",
       "      <th>12</th>\n",
       "      <td>12-2004</td>\n",
       "      <td>160</td>\n",
       "    </tr>\n",
       "    <tr>\n",
       "      <th>13</th>\n",
       "      <td>03-2004</td>\n",
       "      <td>139</td>\n",
       "    </tr>\n",
       "    <tr>\n",
       "      <th>14</th>\n",
       "      <td>06-2004</td>\n",
       "      <td>130</td>\n",
       "    </tr>\n",
       "    <tr>\n",
       "      <th>15</th>\n",
       "      <td>09-2004</td>\n",
       "      <td>144</td>\n",
       "    </tr>\n",
       "  </tbody>\n",
       "</table>\n",
       "</div>"
      ],
      "text/plain": [
       "    Quarter  Sales\n",
       "0   12-2001    170\n",
       "1   03-2001    148\n",
       "2   06-2001    141\n",
       "3   09-2001    150\n",
       "4   12-2002    161\n",
       "5   03-2002    137\n",
       "6   06-2002    132\n",
       "7   09-2002    158\n",
       "8   12-2003    157\n",
       "9   03-2003    145\n",
       "10  06-2003    128\n",
       "11  09-2003    134\n",
       "12  12-2004    160\n",
       "13  03-2004    139\n",
       "14  06-2004    130\n",
       "15  09-2004    144"
      ]
     },
     "execution_count": 39,
     "metadata": {},
     "output_type": "execute_result"
    }
   ],
   "source": [
    "df = df.rename(columns={'Gas Sales':'Sales'})\n",
    "df"
   ]
  },
  {
   "cell_type": "code",
   "execution_count": 41,
   "id": "8a797ec5",
   "metadata": {},
   "outputs": [],
   "source": [
    "df['Date'] = pd.to_datetime(df.Quarter, format='%m-%Y')\n",
    "df_ts = pd.Series(df.Sales.values, index=df.Date, name='Sales')\n",
    "df_ts.index = pd.DatetimeIndex(df_ts.index, freq=df_ts.index.inferred_freq)"
   ]
  },
  {
   "cell_type": "code",
   "execution_count": 52,
   "id": "8638d8e2",
   "metadata": {},
   "outputs": [],
   "source": [
    "ma_trailing = df_ts.rolling(4).mean()"
   ]
  },
  {
   "cell_type": "code",
   "execution_count": 53,
   "id": "270230bb",
   "metadata": {},
   "outputs": [
    {
     "data": {
      "image/png": "[encoded data removed]",
      "text/plain": [
       "<Figure size 720x288 with 1 Axes>"
      ]
     },
     "metadata": {
      "needs_background": "light"
     },
     "output_type": "display_data"
    }
   ],
   "source": [
    "fig, ax = plt.subplots(figsize=(10,4))\n",
    "ax = df_ts.plot(ax=ax, color='black', linewidth=0.25)\n",
    "ma_trailing.plot(ax=ax, linestyle='--', linewidth=2)\n",
    "ax.set_xlabel('Time')\n",
    "ax.set_ylabel('Sales')\n",
    "ax.legend(['Sales','Trailing Moving Average'])\n",
    "\n",
    "plt.show()"
   ]
  },
  {
   "cell_type": "markdown",
   "id": "d144b5dd",
   "metadata": {},
   "source": [
    "## b\n",
    "시계열 데이터의 추세를 확인할 수 있다."
   ]
  },
  {
   "cell_type": "markdown",
   "id": "83769a43",
   "metadata": {},
   "source": [
    "## c"
   ]
  },
  {
   "cell_type": "code",
   "execution_count": 63,
   "id": "a17345ba",
   "metadata": {},
   "outputs": [
    {
     "data": {
      "text/plain": [
       "143.25"
      ]
     },
     "execution_count": 63,
     "metadata": {},
     "output_type": "execute_result"
    }
   ],
   "source": [
    "ma_trailing[-1]"
   ]
  },
  {
   "cell_type": "markdown",
   "id": "3b4d88a7",
   "metadata": {},
   "source": [
    "과소추정될 것이다. 시계열의 계절변동을 보면 겨울 때 값이 증가하는 패턴을 보이는데,   \n",
    "이동평균법을 사용하여 예측하면 학습데이터의 마지막 값(가을)을 그대로 사용하기 때문에 겨울에 값이 증가하는 것을 반영하지 못한다. "
   ]
  },
  {
   "cell_type": "markdown",
   "id": "030521ae",
   "metadata": {},
   "source": [
    "# 18.9"
   ]
  },
  {
   "cell_type": "code",
   "execution_count": 67,
   "id": "94bec807",
   "metadata": {},
   "outputs": [
    {
     "data": {
      "text/html": [
       "<div>\n",
       "<style scoped>\n",
       "    .dataframe tbody tr th:only-of-type {\n",
       "        vertical-align: middle;\n",
       "    }\n",
       "\n",
       "    .dataframe tbody tr th {\n",
       "        vertical-align: top;\n",
       "    }\n",
       "\n",
       "    .dataframe thead th {\n",
       "        text-align: right;\n",
       "    }\n",
       "</style>\n",
       "<table border=\"1\" class=\"dataframe\">\n",
       "  <thead>\n",
       "    <tr style=\"text-align: right;\">\n",
       "      <th></th>\n",
       "      <th>Month</th>\n",
       "      <th>Drywhite</th>\n",
       "      <th>Fortified</th>\n",
       "      <th>Red</th>\n",
       "      <th>Rose</th>\n",
       "      <th>Sparkling</th>\n",
       "      <th>Sweetwhite</th>\n",
       "    </tr>\n",
       "  </thead>\n",
       "  <tbody>\n",
       "    <tr>\n",
       "      <th>182</th>\n",
       "      <td>1995-03</td>\n",
       "      <td>4067</td>\n",
       "      <td>1818</td>\n",
       "      <td>2459</td>\n",
       "      <td>45.0</td>\n",
       "      <td>1897</td>\n",
       "      <td>188</td>\n",
       "    </tr>\n",
       "    <tr>\n",
       "      <th>183</th>\n",
       "      <td>1995-04</td>\n",
       "      <td>4022</td>\n",
       "      <td>2262</td>\n",
       "      <td>2618</td>\n",
       "      <td>52.0</td>\n",
       "      <td>1862</td>\n",
       "      <td>195</td>\n",
       "    </tr>\n",
       "    <tr>\n",
       "      <th>184</th>\n",
       "      <td>1995-05</td>\n",
       "      <td>3937</td>\n",
       "      <td>2612</td>\n",
       "      <td>2585</td>\n",
       "      <td>28.0</td>\n",
       "      <td>1670</td>\n",
       "      <td>189</td>\n",
       "    </tr>\n",
       "    <tr>\n",
       "      <th>185</th>\n",
       "      <td>1995-06</td>\n",
       "      <td>4365</td>\n",
       "      <td>2967</td>\n",
       "      <td>3310</td>\n",
       "      <td>40.0</td>\n",
       "      <td>1688</td>\n",
       "      <td>220</td>\n",
       "    </tr>\n",
       "    <tr>\n",
       "      <th>186</th>\n",
       "      <td>1995-07</td>\n",
       "      <td>4290</td>\n",
       "      <td>3179</td>\n",
       "      <td>3923</td>\n",
       "      <td>62.0</td>\n",
       "      <td>2031</td>\n",
       "      <td>274</td>\n",
       "    </tr>\n",
       "  </tbody>\n",
       "</table>\n",
       "</div>"
      ],
      "text/plain": [
       "       Month  Drywhite  Fortified   Red  Rose  Sparkling  Sweetwhite\n",
       "182  1995-03      4067       1818  2459  45.0       1897         188\n",
       "183  1995-04      4022       2262  2618  52.0       1862         195\n",
       "184  1995-05      3937       2612  2585  28.0       1670         189\n",
       "185  1995-06      4365       2967  3310  40.0       1688         220\n",
       "186  1995-07      4290       3179  3923  62.0       2031         274"
      ]
     },
     "execution_count": 67,
     "metadata": {},
     "output_type": "execute_result"
    }
   ],
   "source": [
    "df = pd.read_csv(\"AustralianWines.csv\")\n",
    "df.tail()"
   ]
  },
  {
   "cell_type": "markdown",
   "id": "57ba386b",
   "metadata": {},
   "source": [
    "## a\n",
    "홀트-윈터 지수 평활법. Sweet Wine Sales 같은 경우, 데이터 값의 갑작스러운 변동을 보인다.  \n",
    "모델을 회귀분석으로는 이러한 갑작스러운 변동을 적절히 반영하지 못하므로, 데이터로부터 값을 예측하는 평활법이 적절하며,  \n",
    "대부분의 품목의 시계열에서 뚜렷한 계절변동과 추세를 보이므로 홀트-윈터 지수 평활법이 적절하다.  "
   ]
  },
  {
   "cell_type": "markdown",
   "id": "817dee6b",
   "metadata": {},
   "source": [
    "## b (fortified / forecasting after 2 months )\n"
   ]
  },
  {
   "cell_type": "code",
   "execution_count": 68,
   "id": "e40f764a",
   "metadata": {},
   "outputs": [
    {
     "data": {
      "text/html": [
       "<div>\n",
       "<style scoped>\n",
       "    .dataframe tbody tr th:only-of-type {\n",
       "        vertical-align: middle;\n",
       "    }\n",
       "\n",
       "    .dataframe tbody tr th {\n",
       "        vertical-align: top;\n",
       "    }\n",
       "\n",
       "    .dataframe thead th {\n",
       "        text-align: right;\n",
       "    }\n",
       "</style>\n",
       "<table border=\"1\" class=\"dataframe\">\n",
       "  <thead>\n",
       "    <tr style=\"text-align: right;\">\n",
       "      <th></th>\n",
       "      <th>Month</th>\n",
       "      <th>Fortified</th>\n",
       "    </tr>\n",
       "  </thead>\n",
       "  <tbody>\n",
       "    <tr>\n",
       "      <th>0</th>\n",
       "      <td>1980-01</td>\n",
       "      <td>2585</td>\n",
       "    </tr>\n",
       "    <tr>\n",
       "      <th>1</th>\n",
       "      <td>1980-02</td>\n",
       "      <td>3368</td>\n",
       "    </tr>\n",
       "    <tr>\n",
       "      <th>2</th>\n",
       "      <td>1980-03</td>\n",
       "      <td>3210</td>\n",
       "    </tr>\n",
       "    <tr>\n",
       "      <th>3</th>\n",
       "      <td>1980-04</td>\n",
       "      <td>3111</td>\n",
       "    </tr>\n",
       "    <tr>\n",
       "      <th>4</th>\n",
       "      <td>1980-05</td>\n",
       "      <td>3756</td>\n",
       "    </tr>\n",
       "    <tr>\n",
       "      <th>...</th>\n",
       "      <td>...</td>\n",
       "      <td>...</td>\n",
       "    </tr>\n",
       "    <tr>\n",
       "      <th>182</th>\n",
       "      <td>1995-03</td>\n",
       "      <td>1818</td>\n",
       "    </tr>\n",
       "    <tr>\n",
       "      <th>183</th>\n",
       "      <td>1995-04</td>\n",
       "      <td>2262</td>\n",
       "    </tr>\n",
       "    <tr>\n",
       "      <th>184</th>\n",
       "      <td>1995-05</td>\n",
       "      <td>2612</td>\n",
       "    </tr>\n",
       "    <tr>\n",
       "      <th>185</th>\n",
       "      <td>1995-06</td>\n",
       "      <td>2967</td>\n",
       "    </tr>\n",
       "    <tr>\n",
       "      <th>186</th>\n",
       "      <td>1995-07</td>\n",
       "      <td>3179</td>\n",
       "    </tr>\n",
       "  </tbody>\n",
       "</table>\n",
       "<p>187 rows × 2 columns</p>\n",
       "</div>"
      ],
      "text/plain": [
       "       Month  Fortified\n",
       "0    1980-01       2585\n",
       "1    1980-02       3368\n",
       "2    1980-03       3210\n",
       "3    1980-04       3111\n",
       "4    1980-05       3756\n",
       "..       ...        ...\n",
       "182  1995-03       1818\n",
       "183  1995-04       2262\n",
       "184  1995-05       2612\n",
       "185  1995-06       2967\n",
       "186  1995-07       3179\n",
       "\n",
       "[187 rows x 2 columns]"
      ]
     },
     "execution_count": 68,
     "metadata": {},
     "output_type": "execute_result"
    }
   ],
   "source": [
    "df = df[['Month','Fortified']]\n",
    "df"
   ]
  },
  {
   "cell_type": "code",
   "execution_count": 71,
   "id": "bae42fa8",
   "metadata": {},
   "outputs": [],
   "source": [
    "df['Date'] = pd.to_datetime(df.Month, format='%Y-%m')\n",
    "df_ts = pd.Series(df.Fortified.values, index=df.Date, name='Fortified')\n",
    "df_ts.index = pd.DatetimeIndex(df_ts.index, freq=df_ts.index.inferred_freq)"
   ]
  },
  {
   "cell_type": "code",
   "execution_count": 72,
   "id": "47b74f59",
   "metadata": {},
   "outputs": [],
   "source": [
    "train_ts = df_ts.iloc[:168]\n",
    "valid_ts = df_ts.iloc[168:]"
   ]
  },
  {
   "cell_type": "code",
   "execution_count": 74,
   "id": "ef85df7f",
   "metadata": {},
   "outputs": [
    {
     "data": {
      "text/plain": [
       "<AxesSubplot:xlabel='Date'>"
      ]
     },
     "execution_count": 74,
     "metadata": {},
     "output_type": "execute_result"
    },
    {
     "data": {
      "image/png": "[encoded data removed]",
      "text/plain": [
       "<Figure size 648x288 with 1 Axes>"
      ]
     },
     "metadata": {
      "needs_background": "light"
     },
     "output_type": "display_data"
    }
   ],
   "source": [
    "expSmooth = ExponentialSmoothing(train_ts, trend='additive', seasonal='additive', seasonal_periods=12, freq='MS')\n",
    "expSmoothFit = expSmooth.fit()\n",
    "fig, ax = plt.subplots(figsize=(9,4))\n",
    "train_ts.plot(ax=ax, color='black', linewidth=0.5)\n",
    "valid_ts.plot(ax=ax, color='black', linewidth=0.25)\n",
    "\n",
    "expSmoothFit.fittedvalues.plot(ax=ax)\n",
    "expSmoothFit.forecast(len(valid_ts)).plot(ax=ax, style='--', linewidth=2, color='C0')\n"
   ]
  },
  {
   "cell_type": "markdown",
   "id": "6146941d",
   "metadata": {},
   "source": [
    "12개월이 적당하다."
   ]
  },
  {
   "cell_type": "code",
   "execution_count": 78,
   "id": "2bea8843",
   "metadata": {},
   "outputs": [],
   "source": [
    "residuals = train_ts.values - expSmoothFit.fittedvalues.values"
   ]
  },
  {
   "cell_type": "code",
   "execution_count": 82,
   "id": "07f45f42",
   "metadata": {},
   "outputs": [
    {
     "data": {
      "image/png": "[encoded data removed]",
      "text/plain": [
       "<Figure size 432x288 with 1 Axes>"
      ]
     },
     "metadata": {
      "needs_background": "light"
     },
     "output_type": "display_data"
    }
   ],
   "source": [
    "from statsmodels.tsa import tsatools, stattools\n",
    "from statsmodels.graphics import tsaplots\n",
    "\n",
    "tsaplots.plot_acf(residuals) # tsaplots.plot_acf() : ㅈㅏ기상관함수 plotting\n",
    "plt.xlim(-1, 13)\n",
    "plt.show()"
   ]
  },
  {
   "cell_type": "markdown",
   "id": "db60e671",
   "metadata": {},
   "source": [
    "### (i)\n",
    "잘 모르겟...\n",
    "lag가 뭐엿지...\n",
    "같은 달의 판매량 사이에는 강한 상관관계가 있다. (?)"
   ]
  },
  {
   "cell_type": "markdown",
   "id": "f058862e",
   "metadata": {},
   "source": [
    "### (ii)\n",
    "상기 효과가 뭘 말하는 건지 모르겠는딩????"
   ]
  }
 ],
 "metadata": {
  "kernelspec": {
   "display_name": "Python 3 (ipykernel)",
   "language": "python",
   "name": "python3"
  },
  "language_info": {
   "codemirror_mode": {
    "name": "ipython",
    "version": 3
   },
   "file_extension": ".py",
   "mimetype": "text/x-python",
   "name": "python",
   "nbconvert_exporter": "python",
   "pygments_lexer": "ipython3",
   "version": "3.9.7"
  }
 },
 "nbformat": 4,
 "nbformat_minor": 5
}
