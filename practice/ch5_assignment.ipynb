{
 "cells": [
  {
   "cell_type": "code",
   "execution_count": 1,
   "id": "e71a37ff",
   "metadata": {},
   "outputs": [],
   "source": [
    "%matplotlib inline\n",
    "\n",
    "\n",
    "import math\n",
    "from pathlib import Path\n",
    "import pandas as pd\n",
    "from sklearn.model_selection import train_test_split\n",
    "from sklearn.linear_model import LinearRegression\n",
    "from sklearn.metrics import accuracy_score, roc_curve, auc\n",
    "import matplotlib.pylab as plt\n",
    "\n",
    "from dmba import regressionSummary, classificationSummary, liftChart, gainsChart"
   ]
  },
  {
   "cell_type": "markdown",
   "id": "0a79eb3f",
   "metadata": {},
   "source": [
    "## 5.1\n",
    "88개 레코드를 사기로 분류(그 중 30개가 올바름), 952개 비사기로 분류(그 중 920개가 올바름).  \n",
    "정오행렬 구하고, 전체적인 오차율 구하라"
   ]
  },
  {
   "cell_type": "code",
   "execution_count": 26,
   "id": "fcd65cfb",
   "metadata": {},
   "outputs": [
    {
     "data": {
      "text/html": [
       "<div>\n",
       "<style scoped>\n",
       "    .dataframe tbody tr th:only-of-type {\n",
       "        vertical-align: middle;\n",
       "    }\n",
       "\n",
       "    .dataframe tbody tr th {\n",
       "        vertical-align: top;\n",
       "    }\n",
       "\n",
       "    .dataframe thead th {\n",
       "        text-align: right;\n",
       "    }\n",
       "</style>\n",
       "<table border=\"1\" class=\"dataframe\">\n",
       "  <thead>\n",
       "    <tr style=\"text-align: right;\">\n",
       "      <th></th>\n",
       "      <th>fraud</th>\n",
       "      <th>nonfraud</th>\n",
       "    </tr>\n",
       "  </thead>\n",
       "  <tbody>\n",
       "    <tr>\n",
       "      <th>fraud</th>\n",
       "      <td>30</td>\n",
       "      <td>55</td>\n",
       "    </tr>\n",
       "    <tr>\n",
       "      <th>nonfruad</th>\n",
       "      <td>32</td>\n",
       "      <td>920</td>\n",
       "    </tr>\n",
       "  </tbody>\n",
       "</table>\n",
       "</div>"
      ],
      "text/plain": [
       "          fraud  nonfraud\n",
       "fraud        30        55\n",
       "nonfruad     32       920"
      ]
     },
     "execution_count": 26,
     "metadata": {},
     "output_type": "execute_result"
    }
   ],
   "source": [
    "conf = pd.DataFrame({'fraud':[30,32], 'nonfraud':[55,920]}, index=['fraud','nonfruad'])\n",
    "conf"
   ]
  },
  {
   "cell_type": "code",
   "execution_count": 21,
   "id": "1c361c7e",
   "metadata": {},
   "outputs": [
    {
     "data": {
      "text/plain": [
       "0.08365384615384615"
      ]
     },
     "execution_count": 21,
     "metadata": {},
     "output_type": "execute_result"
    }
   ],
   "source": [
    "err = (55 + 32)/1040\n",
    "err"
   ]
  },
  {
   "cell_type": "code",
   "execution_count": 22,
   "id": "ae4ab47f",
   "metadata": {},
   "outputs": [
    {
     "data": {
      "text/plain": [
       "0.9163461538461538"
      ]
     },
     "execution_count": 22,
     "metadata": {},
     "output_type": "execute_result"
    }
   ],
   "source": [
    "1-err"
   ]
  },
  {
   "cell_type": "markdown",
   "id": "eaad5855",
   "metadata": {},
   "source": [
    "## 5.2\n",
    "**사기로 분류된** 레코드의 비율을 재조정할 수 있는 컷오프 매커니즘 있음. 컷오프 값을 내리거나 올리면 어떤 효과?"
   ]
  },
  {
   "cell_type": "markdown",
   "id": "618acc4a",
   "metadata": {},
   "source": [
    "### a. 정말 사기인 레코드에대한 분류 오차율\n",
    "컷오프 값을 내리면, 더 많은 레코드를 사기로 분류하게 됨 = 더 많은 비사기 레코드를 사기 레코드로 오분류하게 됨. -> 오분류율 증가   \n",
    "컷오프 값을 올리면, 더 적은 레코드를 사기로 분류하게 됨 = 더 많은 사기 레코드를 비사기 레코드로 오분류하게 됨. -> 오분류율 감소  \n",
    "\n",
    "\n",
    "### b. 정말 비사기인 레코드에대한 분류 오차율 \n",
    "컷오프 값을 내리면, 더 적은 레코드를 비사기로 분류하게 됨 = 더 많은 비사기 레코드를 사기 레코드로 오분류하게 됨. -> 오분류율 감소   \n",
    "컷오프 값을 올리면, 더 많은 레코드를 비사기로 분류하게 됨 = 더 많은 사기 레코드를 비사기 레코드로 오분류하게 됨. -> 오분류율 증가  "
   ]
  },
  {
   "cell_type": "markdown",
   "id": "a514f8c3",
   "metadata": {},
   "source": [
    "## 5.3"
   ]
  },
  {
   "cell_type": "markdown",
   "id": "cc00d1d4",
   "metadata": {},
   "source": [
    "## 5.4\n",
    "### a. 왼쪽에서 첫번째와 두번쨰 막대의 의미를 해석하시오.\n",
    "첫번째 : 상위 10%의 레코드를 취하면 10%의 데이터를 임의로 선택하는 것보다 약 6배 이상 더 많은 1(응답)을 얻을 수 있다.  \n",
    "두번째 : 상위 10~20%의 레코드를 취하면 10%의 데이터를 임의로 선택하는 것보다 약 3배 많은 1(응답)을 얻을 수 있다.\n",
    "### b. 이 정보를 실제로 어떻게 사용할 수 있는지?\n",
    "이득이 높은 레코드를 선택해야 상황에서 유용하다. 예를 들어, 마케팅용 이메일을 보내는 데 1000원이 들고 마케팅이 성공했을 때의 이득이 100,000원이라고 하자. 이때 무작위로 고객을 골라 이메일을 보내는 것보다, 예측 모델로 응답률이 높은 상위 10%의 고객을 골라서 이메일을 보내는 것이 더 많은 이득을 취할 수 있다. 즉, 이 십분위차트는 모델을 이용해서 구한 상위의 고객을 골랐을 때 얼마나 더 큰 이득을 취할 수 있는지 확인할 수 있는 지표로 쓰일 수 있다.\n",
    "### c. 모든 것을 비사기로 분류하여 모델의 정확도를 개선할 수 있다고 한다. 그렇게 한다면 오차율은 무엇인가?\n",
    "error = 1 - accuracy 이므로, accuracy가 개선된다면 error는 감소한다. \n",
    "### d. 이 상황에서 모델 성능 측도로서의 오차율(error rate)과 향상도(lift)의 유용성에 대해 설명하라.\n",
    "- 오차율 : 오차율은 해당 모델이 얼마나 응답/비응답을 실제 데이터에 맞게 구분해내는지 나타낸다.(작을수록 더 잘 구분해 냄) 이 모델은 상위 10%의 데이터가 임의로 선택한 것 보다 6배나 더 많은 응답을 나타내고 있으므로, 오차율은 이 모델의 뛰어난 정확성을 나타내기에 적합할 것으로 생각된다.  \n",
    "- 향상도 : 모델로 예측된 상위 레코드들에 대한 향상정도가 뚜렷하기 때문에, 향상도는 해당 모델의 성능(얼마나 응답률이 높은 상위 레코드들을 잘 가려냈는지)을 보여주기에 적합하다."
   ]
  },
  {
   "cell_type": "markdown",
   "id": "bd822472",
   "metadata": {},
   "source": [
    "## 5.5\n",
    "부정청구 예측 모델. 1%가 사기임.  \n",
    "응답률이 적어 확대샘플링 사용됨 -> 800개 샘플 중, 310개 사기와 270개 비사기를 올바르게 구분. 90개의 사기를 놓치고(90개 비사기) 130개를 사기라고 잘못 분류(130개 사기)."
   ]
  },
  {
   "cell_type": "markdown",
   "id": "54f860cb",
   "metadata": {},
   "source": [
    "### a. 정오행렬 작성하시오"
   ]
  },
  {
   "cell_type": "code",
   "execution_count": 27,
   "id": "cc592c02",
   "metadata": {},
   "outputs": [
    {
     "data": {
      "text/html": [
       "<div>\n",
       "<style scoped>\n",
       "    .dataframe tbody tr th:only-of-type {\n",
       "        vertical-align: middle;\n",
       "    }\n",
       "\n",
       "    .dataframe tbody tr th {\n",
       "        vertical-align: top;\n",
       "    }\n",
       "\n",
       "    .dataframe thead th {\n",
       "        text-align: right;\n",
       "    }\n",
       "</style>\n",
       "<table border=\"1\" class=\"dataframe\">\n",
       "  <thead>\n",
       "    <tr style=\"text-align: right;\">\n",
       "      <th></th>\n",
       "      <th>fraud</th>\n",
       "      <th>nonfraud</th>\n",
       "    </tr>\n",
       "  </thead>\n",
       "  <tbody>\n",
       "    <tr>\n",
       "      <th>fraud</th>\n",
       "      <td>310</td>\n",
       "      <td>130</td>\n",
       "    </tr>\n",
       "    <tr>\n",
       "      <th>nonfruad</th>\n",
       "      <td>90</td>\n",
       "      <td>270</td>\n",
       "    </tr>\n",
       "  </tbody>\n",
       "</table>\n",
       "</div>"
      ],
      "text/plain": [
       "          fraud  nonfraud\n",
       "fraud       310       130\n",
       "nonfruad     90       270"
      ]
     },
     "execution_count": 27,
     "metadata": {},
     "output_type": "execute_result"
    }
   ],
   "source": [
    "ins_conf = pd.DataFrame({'fraud':[310,90], 'nonfraud':[130,270]}, index=['fraud','nonfruad'])\n",
    "ins_conf "
   ]
  },
  {
   "cell_type": "markdown",
   "id": "28725aac",
   "metadata": {},
   "source": [
    "### b. (확대샘플링하여 조정된) 오분류율 구하시오.\n"
   ]
  },
  {
   "cell_type": "code",
   "execution_count": 31,
   "id": "9ada205f",
   "metadata": {},
   "outputs": [
    {
     "data": {
      "text/plain": [
       "0.275"
      ]
     },
     "execution_count": 31,
     "metadata": {},
     "output_type": "execute_result"
    }
   ],
   "source": [
    "ins_err = (130+90)/800\n",
    "ins_err"
   ]
  },
  {
   "cell_type": "markdown",
   "id": "0adb0cc6",
   "metadata": {},
   "source": [
    "### c. 새로운 레코드의 몇 퍼샌트가 사기라고 분류되리라 예상하는가?"
   ]
  },
  {
   "cell_type": "code",
   "execution_count": 32,
   "id": "5520c54f",
   "metadata": {},
   "outputs": [
    {
     "data": {
      "text/plain": [
       "0.55"
      ]
     },
     "execution_count": 32,
     "metadata": {},
     "output_type": "execute_result"
    }
   ],
   "source": [
    "(310+130)/800"
   ]
  },
  {
   "cell_type": "markdown",
   "id": "77ced931",
   "metadata": {},
   "source": [
    "## 5.6\n",
    "500명 레코드 -> 예측 모델 / 목표값 : 각 판매로부터 추정되는 수익, 평균 2128달러 / 판매 영업비용 : 각 고객에 대해 2500달러"
   ]
  },
  {
   "cell_type": "markdown",
   "id": "843831b4",
   "metadata": {},
   "source": [
    "### a. 예측모델 사용 x, 1000명의 새 데이터로 작업하면 추정 수익은?"
   ]
  },
  {
   "cell_type": "code",
   "execution_count": 33,
   "id": "e37ab0ea",
   "metadata": {},
   "outputs": [
    {
     "data": {
      "text/plain": [
       "2500000.0"
      ]
     },
     "execution_count": 33,
     "metadata": {},
     "output_type": "execute_result"
    }
   ],
   "source": [
    "(500000/200)*1000 #달러"
   ]
  },
  {
   "cell_type": "markdown",
   "id": "30dc657d",
   "metadata": {},
   "source": [
    "### b. 영업비용의 두 배를 평균 수익으로 얻기를 원함. 얼마나 적은 상위 레코드로 진행해야하는가?"
   ]
  },
  {
   "cell_type": "markdown",
   "id": "14c0c658",
   "metadata": {},
   "source": [
    "상위 10%의 레코드(= 100명의 상위 고객)로 진행해야 한다. "
   ]
  },
  {
   "cell_type": "markdown",
   "id": "89f81eb7",
   "metadata": {},
   "source": [
    "### c. 2500달러보다 낮은 컷오프를 적용한다면, 랭크된 리스트에서 얼마나 진행해야 하는가?"
   ]
  },
  {
   "cell_type": "markdown",
   "id": "d7a25319",
   "metadata": {},
   "source": [
    "컷오프 낮아짐 -> 더 많은 비구매를 구매 레코드로 오분류함 ->  구매 오분류율 증가, 비구매 오분류율 감소   \n",
    "-> 십분위 차트의 막대가 전체적으로 낮아질것. (오분류율이 증가하면 무작위로 고를때의 이득과 모델을 이용하여 고를때의 이득이 비슷해지기 때문)\n",
    "\n",
    "따라서 적어도 상위 10% 이내의 레코드에서 진행해야 한다."
   ]
  },
  {
   "cell_type": "markdown",
   "id": "9937a736",
   "metadata": {},
   "source": [
    "### d. 왜 단순히 1000명의 새로운 데이터에 대한 모델을 개발하지 않는가?\n",
    "데이터는 시간이 지날수록 꾸준히 생성된다. 하지만 새로운 레코드가 들어올때마다 그 레코드에 맞는 새로운 모델을 만든다면 시간/비용적인 면에서 효율성이 떨어진다. 최대한 과적합을 방지한 모델을 만들어서 새로운 레코드가 들어올 때마다 해당 모델에 적용시키는 것이 좋다.  "
   ]
  },
  {
   "cell_type": "markdown",
   "id": "88e526cb",
   "metadata": {},
   "source": [
    "## 5.7 \n",
    "실제 값, 경향 보여주는 예측모델 검증결과"
   ]
  },
  {
   "cell_type": "markdown",
   "id": "09e22bde",
   "metadata": {},
   "source": [
    "### a. 0.25, 0.5, 0.75 컷오프 값을 이용하여 요차율(error), 민감도(sensitivity), 특이도(specificity) 계산하시오."
   ]
  },
  {
   "cell_type": "code",
   "execution_count": 94,
   "id": "a14b76bd",
   "metadata": {},
   "outputs": [
    {
     "data": {
      "text/html": [
       "<div>\n",
       "<style scoped>\n",
       "    .dataframe tbody tr th:only-of-type {\n",
       "        vertical-align: middle;\n",
       "    }\n",
       "\n",
       "    .dataframe tbody tr th {\n",
       "        vertical-align: top;\n",
       "    }\n",
       "\n",
       "    .dataframe thead th {\n",
       "        text-align: right;\n",
       "    }\n",
       "</style>\n",
       "<table border=\"1\" class=\"dataframe\">\n",
       "  <thead>\n",
       "    <tr style=\"text-align: right;\">\n",
       "      <th></th>\n",
       "      <th>propensity</th>\n",
       "      <th>actual</th>\n",
       "    </tr>\n",
       "  </thead>\n",
       "  <tbody>\n",
       "    <tr>\n",
       "      <th>0</th>\n",
       "      <td>0.03</td>\n",
       "      <td>0</td>\n",
       "    </tr>\n",
       "    <tr>\n",
       "      <th>1</th>\n",
       "      <td>0.52</td>\n",
       "      <td>0</td>\n",
       "    </tr>\n",
       "    <tr>\n",
       "      <th>2</th>\n",
       "      <td>0.38</td>\n",
       "      <td>0</td>\n",
       "    </tr>\n",
       "    <tr>\n",
       "      <th>3</th>\n",
       "      <td>0.82</td>\n",
       "      <td>1</td>\n",
       "    </tr>\n",
       "    <tr>\n",
       "      <th>4</th>\n",
       "      <td>0.33</td>\n",
       "      <td>0</td>\n",
       "    </tr>\n",
       "  </tbody>\n",
       "</table>\n",
       "</div>"
      ],
      "text/plain": [
       "   propensity  actual\n",
       "0        0.03       0\n",
       "1        0.52       0\n",
       "2        0.38       0\n",
       "3        0.82       1\n",
       "4        0.33       0"
      ]
     },
     "execution_count": 94,
     "metadata": {},
     "output_type": "execute_result"
    }
   ],
   "source": [
    "df1 = pd.DataFrame([0.03, 0.52, 0.38, 0.82, 0.33, 0.42,0.55,0.59,0.09,\n",
    "                    0.21,0.43,0.04,0.08,0.13,0.01,0.79,0.42,0.29,0.08,0.02])\n",
    "df2 = pd.DataFrame([0,0,0,1,0,0,1,0,0,0,0,0,0,0,0,1,0,0,0,0])\n",
    "df = pd.concat([df1,df2], axis = 1)\n",
    "df.columns = ['propensity','actual']\n",
    "df.head()"
   ]
  },
  {
   "cell_type": "code",
   "execution_count": 85,
   "id": "cdc50e8b",
   "metadata": {},
   "outputs": [
    {
     "name": "stdout",
     "output_type": "stream",
     "text": [
      "Confusion Matrix (Accuracy 0.6000)\n",
      "\n",
      "       Prediction\n",
      "Actual zero  one\n",
      "  zero    9    8\n",
      "   one    0    3\n"
     ]
    }
   ],
   "source": [
    "## cutoff = 0.25\n",
    "\n",
    "def conf_mat(cutoff):\n",
    "    predicted = [1 if p>cutoff else 0 for p in df.propensity]\n",
    "    classificationSummary(df.actual, predicted, class_names=['zero','one'])\n",
    "    \n",
    "conf_mat(0.25)"
   ]
  },
  {
   "cell_type": "code",
   "execution_count": 91,
   "id": "9e9c3fac",
   "metadata": {},
   "outputs": [
    {
     "name": "stdout",
     "output_type": "stream",
     "text": [
      "error = 0.4\n",
      "sensitivity = 1.0\n",
      "specificity = 0.5294117647058824\n"
     ]
    }
   ],
   "source": [
    "err = 8/20\n",
    "sen = 3/(0+3)\n",
    "spe = 9/(9+8)\n",
    "print('error = {}\\nsensitivity = {}\\nspecificity = {}'.format(err,sen,spe))"
   ]
  },
  {
   "cell_type": "code",
   "execution_count": 86,
   "id": "5acf1396",
   "metadata": {},
   "outputs": [
    {
     "name": "stdout",
     "output_type": "stream",
     "text": [
      "Confusion Matrix (Accuracy 0.9000)\n",
      "\n",
      "       Prediction\n",
      "Actual zero  one\n",
      "  zero   15    2\n",
      "   one    0    3\n"
     ]
    }
   ],
   "source": [
    "## cutoff = 0.5\n",
    "\n",
    "conf_mat(0.5)"
   ]
  },
  {
   "cell_type": "code",
   "execution_count": 95,
   "id": "0065c8e1",
   "metadata": {},
   "outputs": [
    {
     "name": "stdout",
     "output_type": "stream",
     "text": [
      "error = 0.1\n",
      "sensitivity = 1.0\n",
      "specificity = 0.8823529411764706\n"
     ]
    }
   ],
   "source": [
    "err = 2/20\n",
    "sen = 3/(0+3)\n",
    "spe = 15/(15+2)\n",
    "print('error = {}\\nsensitivity = {}\\nspecificity = {}'.format(err,sen,spe))"
   ]
  },
  {
   "cell_type": "code",
   "execution_count": 87,
   "id": "6682e736",
   "metadata": {},
   "outputs": [
    {
     "name": "stdout",
     "output_type": "stream",
     "text": [
      "Confusion Matrix (Accuracy 0.9500)\n",
      "\n",
      "       Prediction\n",
      "Actual zero  one\n",
      "  zero   17    0\n",
      "   one    1    2\n"
     ]
    }
   ],
   "source": [
    "## cutoff = 0.75\n",
    "\n",
    "conf_mat(0.75)"
   ]
  },
  {
   "cell_type": "code",
   "execution_count": 96,
   "id": "c4cd699f",
   "metadata": {},
   "outputs": [
    {
     "name": "stdout",
     "output_type": "stream",
     "text": [
      "error = 0.05\n",
      "sensitivity = 0.6666666666666666\n",
      "specificity = 1.0\n"
     ]
    }
   ],
   "source": [
    "err = 1/20\n",
    "sen = 2/(1+2)\n",
    "spe = 17/(17+0)\n",
    "print('error = {}\\nsensitivity = {}\\nspecificity = {}'.format(err,sen,spe))"
   ]
  },
  {
   "cell_type": "markdown",
   "id": "04157b24",
   "metadata": {},
   "source": [
    "### b. 십분위 향상차트 작성하시오."
   ]
  },
  {
   "cell_type": "code",
   "execution_count": 76,
   "id": "b22d45a2",
   "metadata": {},
   "outputs": [
    {
     "data": {
      "text/html": [
       "<div>\n",
       "<style scoped>\n",
       "    .dataframe tbody tr th:only-of-type {\n",
       "        vertical-align: middle;\n",
       "    }\n",
       "\n",
       "    .dataframe tbody tr th {\n",
       "        vertical-align: top;\n",
       "    }\n",
       "\n",
       "    .dataframe thead th {\n",
       "        text-align: right;\n",
       "    }\n",
       "</style>\n",
       "<table border=\"1\" class=\"dataframe\">\n",
       "  <thead>\n",
       "    <tr style=\"text-align: right;\">\n",
       "      <th></th>\n",
       "      <th>propensity</th>\n",
       "      <th>actual</th>\n",
       "    </tr>\n",
       "  </thead>\n",
       "  <tbody>\n",
       "    <tr>\n",
       "      <th>3</th>\n",
       "      <td>0.82</td>\n",
       "      <td>1</td>\n",
       "    </tr>\n",
       "    <tr>\n",
       "      <th>15</th>\n",
       "      <td>0.79</td>\n",
       "      <td>1</td>\n",
       "    </tr>\n",
       "    <tr>\n",
       "      <th>7</th>\n",
       "      <td>0.59</td>\n",
       "      <td>0</td>\n",
       "    </tr>\n",
       "    <tr>\n",
       "      <th>6</th>\n",
       "      <td>0.55</td>\n",
       "      <td>1</td>\n",
       "    </tr>\n",
       "    <tr>\n",
       "      <th>1</th>\n",
       "      <td>0.52</td>\n",
       "      <td>0</td>\n",
       "    </tr>\n",
       "  </tbody>\n",
       "</table>\n",
       "</div>"
      ],
      "text/plain": [
       "    propensity  actual\n",
       "3         0.82       1\n",
       "15        0.79       1\n",
       "7         0.59       0\n",
       "6         0.55       1\n",
       "1         0.52       0"
      ]
     },
     "execution_count": 76,
     "metadata": {},
     "output_type": "execute_result"
    }
   ],
   "source": [
    "pred = df.sort_values(by=['propensity'], ascending = False)\n",
    "pred.head()"
   ]
  },
  {
   "cell_type": "code",
   "execution_count": 78,
   "id": "c6de9725",
   "metadata": {},
   "outputs": [
    {
     "data": {
      "image/png": "[encoded data removed]",
      "text/plain": [
       "<Figure size 432x288 with 1 Axes>"
      ]
     },
     "metadata": {
      "needs_background": "light"
     },
     "output_type": "display_data"
    }
   ],
   "source": [
    "liftChart(pred.actual, labelBars=False)\n",
    "plt.show()"
   ]
  }
 ],
 "metadata": {
  "kernelspec": {
   "display_name": "Python 3 (ipykernel)",
   "language": "python",
   "name": "python3"
  },
  "language_info": {
   "codemirror_mode": {
    "name": "ipython",
    "version": 3
   },
   "file_extension": ".py",
   "mimetype": "text/x-python",
   "name": "python",
   "nbconvert_exporter": "python",
   "pygments_lexer": "ipython3",
   "version": "3.9.7"
  }
 },
 "nbformat": 4,
 "nbformat_minor": 5
}
