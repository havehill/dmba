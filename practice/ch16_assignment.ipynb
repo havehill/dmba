{
 "cells": [
  {
   "cell_type": "code",
   "execution_count": 1,
   "id": "ed5ade80",
   "metadata": {},
   "outputs": [],
   "source": [
    "%matplotlib inline\n",
    "\n",
    "from pathlib import Path\n",
    "\n",
    "import pandas as pd\n",
    "import matplotlib.pylab as plt\n",
    "import statsmodels.formula.api as sm\n",
    "from statsmodels.tsa import tsatools\n",
    "from dmba import regressionSummary"
   ]
  },
  {
   "cell_type": "markdown",
   "id": "b9e8b7af",
   "metadata": {},
   "source": [
    "# 16.1\n",
    "2001/9/11 테러로 인한 여파  \n",
    "목적 : 9.11 테러 전후 장거리 여행 승객 수의 변화 알아보기 -> 1990/1 - 2004/5 사이의 매월 승객의 변화를 분석"
   ]
  },
  {
   "cell_type": "code",
   "execution_count": 40,
   "id": "4d51691c",
   "metadata": {},
   "outputs": [
    {
     "data": {
      "text/html": [
       "<div>\n",
       "<style scoped>\n",
       "    .dataframe tbody tr th:only-of-type {\n",
       "        vertical-align: middle;\n",
       "    }\n",
       "\n",
       "    .dataframe tbody tr th {\n",
       "        vertical-align: top;\n",
       "    }\n",
       "\n",
       "    .dataframe thead th {\n",
       "        text-align: right;\n",
       "    }\n",
       "</style>\n",
       "<table border=\"1\" class=\"dataframe\">\n",
       "  <thead>\n",
       "    <tr style=\"text-align: right;\">\n",
       "      <th></th>\n",
       "      <th>Month-Year</th>\n",
       "      <th>AirRPM</th>\n",
       "      <th>RailPM</th>\n",
       "      <th>VMT_billions</th>\n",
       "    </tr>\n",
       "  </thead>\n",
       "  <tbody>\n",
       "    <tr>\n",
       "      <th>0</th>\n",
       "      <td>Jan-90</td>\n",
       "      <td>35153577</td>\n",
       "      <td>454115779</td>\n",
       "      <td>163.28</td>\n",
       "    </tr>\n",
       "    <tr>\n",
       "      <th>1</th>\n",
       "      <td>Feb-90</td>\n",
       "      <td>32965187</td>\n",
       "      <td>435086002</td>\n",
       "      <td>153.25</td>\n",
       "    </tr>\n",
       "    <tr>\n",
       "      <th>2</th>\n",
       "      <td>Mar-90</td>\n",
       "      <td>39993913</td>\n",
       "      <td>568289732</td>\n",
       "      <td>178.42</td>\n",
       "    </tr>\n",
       "    <tr>\n",
       "      <th>3</th>\n",
       "      <td>Apr-90</td>\n",
       "      <td>37981886</td>\n",
       "      <td>568101697</td>\n",
       "      <td>178.68</td>\n",
       "    </tr>\n",
       "    <tr>\n",
       "      <th>4</th>\n",
       "      <td>May-90</td>\n",
       "      <td>38419672</td>\n",
       "      <td>539628385</td>\n",
       "      <td>188.88</td>\n",
       "    </tr>\n",
       "    <tr>\n",
       "      <th>...</th>\n",
       "      <td>...</td>\n",
       "      <td>...</td>\n",
       "      <td>...</td>\n",
       "      <td>...</td>\n",
       "    </tr>\n",
       "    <tr>\n",
       "      <th>167</th>\n",
       "      <td>3-Dec</td>\n",
       "      <td>57795908</td>\n",
       "      <td>489403554</td>\n",
       "      <td>237.60</td>\n",
       "    </tr>\n",
       "    <tr>\n",
       "      <th>168</th>\n",
       "      <td>4-Jan</td>\n",
       "      <td>53447972</td>\n",
       "      <td>410338691</td>\n",
       "      <td>217.30</td>\n",
       "    </tr>\n",
       "    <tr>\n",
       "      <th>169</th>\n",
       "      <td>4-Feb</td>\n",
       "      <td>52608801</td>\n",
       "      <td>389778365</td>\n",
       "      <td>210.40</td>\n",
       "    </tr>\n",
       "    <tr>\n",
       "      <th>170</th>\n",
       "      <td>4-Mar</td>\n",
       "      <td>63600019</td>\n",
       "      <td>453014590</td>\n",
       "      <td>247.50</td>\n",
       "    </tr>\n",
       "    <tr>\n",
       "      <th>171</th>\n",
       "      <td>4-Apr</td>\n",
       "      <td>61887720</td>\n",
       "      <td>471116666</td>\n",
       "      <td>245.40</td>\n",
       "    </tr>\n",
       "  </tbody>\n",
       "</table>\n",
       "<p>172 rows × 4 columns</p>\n",
       "</div>"
      ],
      "text/plain": [
       "    Month-Year    AirRPM     RailPM  VMT_billions\n",
       "0       Jan-90  35153577  454115779        163.28\n",
       "1       Feb-90  32965187  435086002        153.25\n",
       "2       Mar-90  39993913  568289732        178.42\n",
       "3       Apr-90  37981886  568101697        178.68\n",
       "4       May-90  38419672  539628385        188.88\n",
       "..         ...       ...        ...           ...\n",
       "167      3-Dec  57795908  489403554        237.60\n",
       "168      4-Jan  53447972  410338691        217.30\n",
       "169      4-Feb  52608801  389778365        210.40\n",
       "170      4-Mar  63600019  453014590        247.50\n",
       "171      4-Apr  61887720  471116666        245.40\n",
       "\n",
       "[172 rows x 4 columns]"
      ]
     },
     "execution_count": 40,
     "metadata": {},
     "output_type": "execute_result"
    }
   ],
   "source": [
    "sept11 = pd.read_csv(\"Sept11Travel.csv\")\n",
    "sept11\n",
    "\n",
    "# AirRPM : 실제 항공기 유상여객 마일리지\n",
    "# RailRM : 철도 승객 마일리지\n",
    "# VMT_billions : 자동차 마일리지"
   ]
  },
  {
   "cell_type": "code",
   "execution_count": null,
   "id": "5bd07ac4",
   "metadata": {},
   "outputs": [],
   "source": []
  },
  {
   "cell_type": "markdown",
   "id": "2fea8512",
   "metadata": {},
   "source": [
    "9/11 전의 데이터를 이용해서 미래의 데이터를 예측, 실제 데이터와 비교하여 9/11 사태의 여파를 살핌  \n",
    "그를 위해 시계열 데이터를 9/11 전과 후로 나누고 첫 번째 데이터를 이용한다."
   ]
  },
  {
   "cell_type": "markdown",
   "id": "6868a4f8",
   "metadata": {},
   "source": [
    "### a\n",
    "예측적 분석이다"
   ]
  },
  {
   "cell_type": "markdown",
   "id": "6283e56b",
   "metadata": {},
   "source": [
    "### b"
   ]
  },
  {
   "cell_type": "code",
   "execution_count": null,
   "id": "03cbb7bd",
   "metadata": {},
   "outputs": [],
   "source": [
    "# Datetime으로 형변환"
   ]
  },
  {
   "cell_type": "code",
   "execution_count": 39,
   "id": "cb69fdad",
   "metadata": {},
   "outputs": [
    {
     "data": {
      "text/html": [
       "<div>\n",
       "<style scoped>\n",
       "    .dataframe tbody tr th:only-of-type {\n",
       "        vertical-align: middle;\n",
       "    }\n",
       "\n",
       "    .dataframe tbody tr th {\n",
       "        vertical-align: top;\n",
       "    }\n",
       "\n",
       "    .dataframe thead th {\n",
       "        text-align: right;\n",
       "    }\n",
       "</style>\n",
       "<table border=\"1\" class=\"dataframe\">\n",
       "  <thead>\n",
       "    <tr style=\"text-align: right;\">\n",
       "      <th></th>\n",
       "      <th>Month-Year</th>\n",
       "      <th>AirRPM</th>\n",
       "      <th>RailPM</th>\n",
       "      <th>VMT_billions</th>\n",
       "    </tr>\n",
       "  </thead>\n",
       "  <tbody>\n",
       "    <tr>\n",
       "      <th>120</th>\n",
       "      <td>Jan-00</td>\n",
       "      <td>49745428</td>\n",
       "      <td>366607410</td>\n",
       "      <td>203.58</td>\n",
       "    </tr>\n",
       "    <tr>\n",
       "      <th>121</th>\n",
       "      <td>Feb-00</td>\n",
       "      <td>49876910</td>\n",
       "      <td>366139276</td>\n",
       "      <td>199.64</td>\n",
       "    </tr>\n",
       "    <tr>\n",
       "      <th>122</th>\n",
       "      <td>Mar-00</td>\n",
       "      <td>61378569</td>\n",
       "      <td>453096388</td>\n",
       "      <td>232.63</td>\n",
       "    </tr>\n",
       "    <tr>\n",
       "      <th>123</th>\n",
       "      <td>Apr-00</td>\n",
       "      <td>58981617</td>\n",
       "      <td>473751011</td>\n",
       "      <td>227.81</td>\n",
       "    </tr>\n",
       "    <tr>\n",
       "      <th>124</th>\n",
       "      <td>May-00</td>\n",
       "      <td>61165486</td>\n",
       "      <td>481725263</td>\n",
       "      <td>242.11</td>\n",
       "    </tr>\n",
       "    <tr>\n",
       "      <th>125</th>\n",
       "      <td>Jun-00</td>\n",
       "      <td>65524091</td>\n",
       "      <td>517102460</td>\n",
       "      <td>243.01</td>\n",
       "    </tr>\n",
       "    <tr>\n",
       "      <th>126</th>\n",
       "      <td>Jul-00</td>\n",
       "      <td>67883256</td>\n",
       "      <td>564747276</td>\n",
       "      <td>245.08</td>\n",
       "    </tr>\n",
       "    <tr>\n",
       "      <th>127</th>\n",
       "      <td>Aug-00</td>\n",
       "      <td>66924512</td>\n",
       "      <td>558060051</td>\n",
       "      <td>247.77</td>\n",
       "    </tr>\n",
       "    <tr>\n",
       "      <th>128</th>\n",
       "      <td>Sep-00</td>\n",
       "      <td>56441629</td>\n",
       "      <td>446489429</td>\n",
       "      <td>227.33</td>\n",
       "    </tr>\n",
       "    <tr>\n",
       "      <th>129</th>\n",
       "      <td>Oct-00</td>\n",
       "      <td>58834210</td>\n",
       "      <td>462329685</td>\n",
       "      <td>236.55</td>\n",
       "    </tr>\n",
       "    <tr>\n",
       "      <th>130</th>\n",
       "      <td>Nov-00</td>\n",
       "      <td>56283261</td>\n",
       "      <td>442268378</td>\n",
       "      <td>222.80</td>\n",
       "    </tr>\n",
       "    <tr>\n",
       "      <th>131</th>\n",
       "      <td>Dec-00</td>\n",
       "      <td>55380280</td>\n",
       "      <td>461651082</td>\n",
       "      <td>218.44</td>\n",
       "    </tr>\n",
       "    <tr>\n",
       "      <th>132</th>\n",
       "      <td>1-Jan</td>\n",
       "      <td>53129922</td>\n",
       "      <td>379458113</td>\n",
       "      <td>209.26</td>\n",
       "    </tr>\n",
       "    <tr>\n",
       "      <th>133</th>\n",
       "      <td>1-Feb</td>\n",
       "      <td>49992995</td>\n",
       "      <td>366288212</td>\n",
       "      <td>199.91</td>\n",
       "    </tr>\n",
       "    <tr>\n",
       "      <th>134</th>\n",
       "      <td>1-Mar</td>\n",
       "      <td>62323049</td>\n",
       "      <td>448912584</td>\n",
       "      <td>231.49</td>\n",
       "    </tr>\n",
       "    <tr>\n",
       "      <th>135</th>\n",
       "      <td>1-Apr</td>\n",
       "      <td>59801562</td>\n",
       "      <td>455496342</td>\n",
       "      <td>231.37</td>\n",
       "    </tr>\n",
       "    <tr>\n",
       "      <th>136</th>\n",
       "      <td>1-May</td>\n",
       "      <td>60246477</td>\n",
       "      <td>462376555</td>\n",
       "      <td>244.25</td>\n",
       "    </tr>\n",
       "    <tr>\n",
       "      <th>137</th>\n",
       "      <td>1-Jun</td>\n",
       "      <td>64987625</td>\n",
       "      <td>528690495</td>\n",
       "      <td>242.58</td>\n",
       "    </tr>\n",
       "    <tr>\n",
       "      <th>138</th>\n",
       "      <td>1-Jul</td>\n",
       "      <td>68573410</td>\n",
       "      <td>564037290</td>\n",
       "      <td>248.79</td>\n",
       "    </tr>\n",
       "    <tr>\n",
       "      <th>139</th>\n",
       "      <td>1-Aug</td>\n",
       "      <td>69003617</td>\n",
       "      <td>562266005</td>\n",
       "      <td>251.69</td>\n",
       "    </tr>\n",
       "  </tbody>\n",
       "</table>\n",
       "</div>"
      ],
      "text/plain": [
       "    Month-Year    AirRPM     RailPM  VMT_billions\n",
       "120     Jan-00  49745428  366607410        203.58\n",
       "121     Feb-00  49876910  366139276        199.64\n",
       "122     Mar-00  61378569  453096388        232.63\n",
       "123     Apr-00  58981617  473751011        227.81\n",
       "124     May-00  61165486  481725263        242.11\n",
       "125     Jun-00  65524091  517102460        243.01\n",
       "126     Jul-00  67883256  564747276        245.08\n",
       "127     Aug-00  66924512  558060051        247.77\n",
       "128     Sep-00  56441629  446489429        227.33\n",
       "129     Oct-00  58834210  462329685        236.55\n",
       "130     Nov-00  56283261  442268378        222.80\n",
       "131     Dec-00  55380280  461651082        218.44\n",
       "132      1-Jan  53129922  379458113        209.26\n",
       "133      1-Feb  49992995  366288212        199.91\n",
       "134      1-Mar  62323049  448912584        231.49\n",
       "135      1-Apr  59801562  455496342        231.37\n",
       "136      1-May  60246477  462376555        244.25\n",
       "137      1-Jun  64987625  528690495        242.58\n",
       "138      1-Jul  68573410  564037290        248.79\n",
       "139      1-Aug  69003617  562266005        251.69"
      ]
     },
     "execution_count": 39,
     "metadata": {},
     "output_type": "execute_result"
    }
   ],
   "source": [
    "sept11.iloc[120:140]"
   ]
  },
  {
   "cell_type": "code",
   "execution_count": 41,
   "id": "aa846058",
   "metadata": {},
   "outputs": [
    {
     "name": "stderr",
     "output_type": "stream",
     "text": [
      "/Users/JAE111/opt/anaconda3/lib/python3.9/site-packages/pandas/core/indexing.py:1732: SettingWithCopyWarning: \n",
      "A value is trying to be set on a copy of a slice from a DataFrame\n",
      "\n",
      "See the caveats in the documentation: https://pandas.pydata.org/pandas-docs/stable/user_guide/indexing.html#returning-a-view-versus-a-copy\n",
      "  self._setitem_single_block(indexer, value, name)\n"
     ]
    },
    {
     "data": {
      "text/html": [
       "<div>\n",
       "<style scoped>\n",
       "    .dataframe tbody tr th:only-of-type {\n",
       "        vertical-align: middle;\n",
       "    }\n",
       "\n",
       "    .dataframe tbody tr th {\n",
       "        vertical-align: top;\n",
       "    }\n",
       "\n",
       "    .dataframe thead th {\n",
       "        text-align: right;\n",
       "    }\n",
       "</style>\n",
       "<table border=\"1\" class=\"dataframe\">\n",
       "  <thead>\n",
       "    <tr style=\"text-align: right;\">\n",
       "      <th></th>\n",
       "      <th>Month-Year</th>\n",
       "      <th>AirRPM</th>\n",
       "      <th>RailPM</th>\n",
       "      <th>VMT_billions</th>\n",
       "      <th>Date</th>\n",
       "    </tr>\n",
       "  </thead>\n",
       "  <tbody>\n",
       "    <tr>\n",
       "      <th>0</th>\n",
       "      <td>Jan-90</td>\n",
       "      <td>35153577</td>\n",
       "      <td>454115779</td>\n",
       "      <td>163.28</td>\n",
       "      <td>1990-01-01</td>\n",
       "    </tr>\n",
       "    <tr>\n",
       "      <th>1</th>\n",
       "      <td>Feb-90</td>\n",
       "      <td>32965187</td>\n",
       "      <td>435086002</td>\n",
       "      <td>153.25</td>\n",
       "      <td>1990-02-01</td>\n",
       "    </tr>\n",
       "    <tr>\n",
       "      <th>2</th>\n",
       "      <td>Mar-90</td>\n",
       "      <td>39993913</td>\n",
       "      <td>568289732</td>\n",
       "      <td>178.42</td>\n",
       "      <td>1990-03-01</td>\n",
       "    </tr>\n",
       "    <tr>\n",
       "      <th>3</th>\n",
       "      <td>Apr-90</td>\n",
       "      <td>37981886</td>\n",
       "      <td>568101697</td>\n",
       "      <td>178.68</td>\n",
       "      <td>1990-04-01</td>\n",
       "    </tr>\n",
       "    <tr>\n",
       "      <th>4</th>\n",
       "      <td>May-90</td>\n",
       "      <td>38419672</td>\n",
       "      <td>539628385</td>\n",
       "      <td>188.88</td>\n",
       "      <td>1990-05-01</td>\n",
       "    </tr>\n",
       "    <tr>\n",
       "      <th>...</th>\n",
       "      <td>...</td>\n",
       "      <td>...</td>\n",
       "      <td>...</td>\n",
       "      <td>...</td>\n",
       "      <td>...</td>\n",
       "    </tr>\n",
       "    <tr>\n",
       "      <th>167</th>\n",
       "      <td>03-Dec</td>\n",
       "      <td>57795908</td>\n",
       "      <td>489403554</td>\n",
       "      <td>237.60</td>\n",
       "      <td>2003-12-01</td>\n",
       "    </tr>\n",
       "    <tr>\n",
       "      <th>168</th>\n",
       "      <td>04-Jan</td>\n",
       "      <td>53447972</td>\n",
       "      <td>410338691</td>\n",
       "      <td>217.30</td>\n",
       "      <td>2004-01-01</td>\n",
       "    </tr>\n",
       "    <tr>\n",
       "      <th>169</th>\n",
       "      <td>04-Feb</td>\n",
       "      <td>52608801</td>\n",
       "      <td>389778365</td>\n",
       "      <td>210.40</td>\n",
       "      <td>2004-02-01</td>\n",
       "    </tr>\n",
       "    <tr>\n",
       "      <th>170</th>\n",
       "      <td>04-Mar</td>\n",
       "      <td>63600019</td>\n",
       "      <td>453014590</td>\n",
       "      <td>247.50</td>\n",
       "      <td>2004-03-01</td>\n",
       "    </tr>\n",
       "    <tr>\n",
       "      <th>171</th>\n",
       "      <td>04-Apr</td>\n",
       "      <td>61887720</td>\n",
       "      <td>471116666</td>\n",
       "      <td>245.40</td>\n",
       "      <td>2004-04-01</td>\n",
       "    </tr>\n",
       "  </tbody>\n",
       "</table>\n",
       "<p>172 rows × 5 columns</p>\n",
       "</div>"
      ],
      "text/plain": [
       "    Month-Year    AirRPM     RailPM  VMT_billions       Date\n",
       "0       Jan-90  35153577  454115779        163.28 1990-01-01\n",
       "1       Feb-90  32965187  435086002        153.25 1990-02-01\n",
       "2       Mar-90  39993913  568289732        178.42 1990-03-01\n",
       "3       Apr-90  37981886  568101697        178.68 1990-04-01\n",
       "4       May-90  38419672  539628385        188.88 1990-05-01\n",
       "..         ...       ...        ...           ...        ...\n",
       "167     03-Dec  57795908  489403554        237.60 2003-12-01\n",
       "168     04-Jan  53447972  410338691        217.30 2004-01-01\n",
       "169     04-Feb  52608801  389778365        210.40 2004-02-01\n",
       "170     04-Mar  63600019  453014590        247.50 2004-03-01\n",
       "171     04-Apr  61887720  471116666        245.40 2004-04-01\n",
       "\n",
       "[172 rows x 5 columns]"
      ]
     },
     "execution_count": 41,
     "metadata": {},
     "output_type": "execute_result"
    }
   ],
   "source": [
    "# datetime 형식으로 바꾸기 \n",
    "\n",
    "form19 = \"%b-%y\"\n",
    "form20 = \"%y-%b\"\n",
    "sept11['Date'] = pd.to_datetime(sept11['Month-Year'].iloc[0:132], format = form19)\n",
    "sept11['Month-Year'].iloc[132:172] = '0' + sept11['Month-Year'].iloc[132:172]\n",
    "sept11['Date'].iloc[132:172] = pd.to_datetime(sept11['Month-Year'].iloc[132:172], format = form20)\n",
    "sept11"
   ]
  },
  {
   "cell_type": "code",
   "execution_count": 96,
   "id": "901b287a",
   "metadata": {},
   "outputs": [],
   "source": [
    "# air/rail/car 시계열 데이터를 분할 및 series로 변환 \n",
    "\n",
    "air = pd.Series(sept11.AirRPM.values, index=sept11.Date, name = 'Air')\n",
    "rail = pd.Series(sept11.RailPM.values, index=sept11.Date, name = 'Rail')\n",
    "car = pd.Series(sept11.VMT_billions.values, index=sept11.Date, name = 'Car')"
   ]
  },
  {
   "cell_type": "code",
   "execution_count": 97,
   "id": "354a234a",
   "metadata": {},
   "outputs": [],
   "source": [
    "# 인덱스를 DatetimeIndex로 형변환\n",
    "\n",
    "air.index = pd.DatetimeIndex(air.index, freq = air.index.inferred_freq)\n",
    "rail.index = pd.DatetimeIndex(rail.index, freq = rail.index.inferred_freq)\n",
    "car.index = pd.DatetimeIndex(car.index, freq = car.index.inferred_freq)"
   ]
  },
  {
   "cell_type": "code",
   "execution_count": 52,
   "id": "9ab9cf97",
   "metadata": {},
   "outputs": [
    {
     "data": {
      "text/plain": [
       "Text(0, 0.5, 'Air')"
      ]
     },
     "execution_count": 52,
     "metadata": {},
     "output_type": "execute_result"
    },
    {
     "data": {
      "image/png": "[encoded data removed]",
      "text/plain": [
       "<Figure size 432x288 with 1 Axes>"
      ]
     },
     "metadata": {
      "needs_background": "light"
     },
     "output_type": "display_data"
    }
   ],
   "source": [
    "ax = air.plot()\n",
    "ax.set_ylabel('Air')"
   ]
  },
  {
   "cell_type": "code",
   "execution_count": 53,
   "id": "fa9f8786",
   "metadata": {},
   "outputs": [
    {
     "data": {
      "text/plain": [
       "Text(0, 0.5, 'Rail')"
      ]
     },
     "execution_count": 53,
     "metadata": {},
     "output_type": "execute_result"
    },
    {
     "data": {
      "image/png": "[encoded data removed]",
      "text/plain": [
       "<Figure size 432x288 with 1 Axes>"
      ]
     },
     "metadata": {
      "needs_background": "light"
     },
     "output_type": "display_data"
    }
   ],
   "source": [
    "ax = rail.plot()\n",
    "ax.set_ylabel('Rail')"
   ]
  },
  {
   "cell_type": "code",
   "execution_count": 54,
   "id": "b17b8eff",
   "metadata": {},
   "outputs": [
    {
     "data": {
      "text/plain": [
       "Text(0, 0.5, 'Car')"
      ]
     },
     "execution_count": 54,
     "metadata": {},
     "output_type": "execute_result"
    },
    {
     "data": {
      "image/png": "[encoded data removed]",
      "text/plain": [
       "<Figure size 432x288 with 1 Axes>"
      ]
     },
     "metadata": {
      "needs_background": "light"
     },
     "output_type": "display_data"
    }
   ],
   "source": [
    "ax = car.plot()\n",
    "ax.set_ylabel('Car')"
   ]
  },
  {
   "cell_type": "markdown",
   "id": "dd84d45a",
   "metadata": {},
   "source": [
    "### (i)\n",
    "항공기 사용이 게속 증가하다가 2001년 이후로 급감하는 모습을 보였다.  \n",
    "철도 사용은 1994년 기점으로 감소하다가 조금 증가한다.  \n",
    "자동차는 꾸준히 증가하는 모습을 보인다.  "
   ]
  },
  {
   "cell_type": "markdown",
   "id": "b2a83f6c",
   "metadata": {},
   "source": [
    "### (ii)"
   ]
  },
  {
   "cell_type": "code",
   "execution_count": 58,
   "id": "4f67f5a5",
   "metadata": {},
   "outputs": [],
   "source": [
    "# 로그변환 "
   ]
  },
  {
   "cell_type": "code",
   "execution_count": 98,
   "id": "d80fd426",
   "metadata": {},
   "outputs": [
    {
     "data": {
      "text/plain": [
       "Date\n",
       "1990-01-01    19.933863\n",
       "1990-02-01    19.891054\n",
       "1990-03-01    20.158142\n",
       "1990-04-01    20.157811\n",
       "1990-05-01    20.106391\n",
       "                ...    \n",
       "2003-12-01    20.008698\n",
       "2004-01-01    19.832493\n",
       "2004-02-01    19.781089\n",
       "2004-03-01    19.931435\n",
       "2004-04-01    19.970616\n",
       "Freq: MS, Name: Rail, Length: 172, dtype: float64"
      ]
     },
     "execution_count": 98,
     "metadata": {},
     "output_type": "execute_result"
    }
   ],
   "source": [
    "import numpy as np\n",
    "air = air.map(np.log)\n",
    "rail = rail.map(np.log)\n",
    "car = car.map(np.log)\n",
    "rail"
   ]
  },
  {
   "cell_type": "code",
   "execution_count": 72,
   "id": "e47b9820",
   "metadata": {},
   "outputs": [],
   "source": [
    "# 계절변동 감소 - 월간 데이터를 연간 데이터로"
   ]
  },
  {
   "cell_type": "markdown",
   "id": "ec7003dc",
   "metadata": {},
   "source": [
    "데이터 주기 변환 (resample 함수) 참고 : https://wikidocs.net/158101"
   ]
  },
  {
   "cell_type": "code",
   "execution_count": 99,
   "id": "33354244",
   "metadata": {},
   "outputs": [],
   "source": [
    "air_y = air.resample(rule='1Y').mean()\n",
    "rail_y = rail.resample(rule='1Y').mean()\n",
    "car_y = car.resample(rule='1Y').mean()"
   ]
  },
  {
   "cell_type": "code",
   "execution_count": 76,
   "id": "1a56795d",
   "metadata": {},
   "outputs": [
    {
     "data": {
      "text/plain": [
       "Date\n",
       "1990-12-31    20.091590\n",
       "1991-12-31    20.112716\n",
       "1992-12-31    20.105623\n",
       "1993-12-31    20.090186\n",
       "1994-12-31    20.064352\n",
       "1995-12-31    19.985307\n",
       "1996-12-31    19.884436\n",
       "1997-12-31    19.893141\n",
       "1998-12-31    19.905815\n",
       "1999-12-31    19.900309\n",
       "2000-12-31    19.951758\n",
       "2001-12-31    19.951485\n",
       "2002-12-31    19.909848\n",
       "2003-12-31    19.976231\n",
       "2004-12-31    19.878908\n",
       "Freq: A-DEC, Name: Rail, dtype: float64"
      ]
     },
     "execution_count": 76,
     "metadata": {},
     "output_type": "execute_result"
    }
   ],
   "source": [
    "rail_y"
   ]
  },
  {
   "cell_type": "code",
   "execution_count": 78,
   "id": "01509d77",
   "metadata": {},
   "outputs": [],
   "source": [
    "# 각 시계열데이터에 추세선 추가 "
   ]
  },
  {
   "cell_type": "code",
   "execution_count": 100,
   "id": "9861ec06",
   "metadata": {},
   "outputs": [
    {
     "name": "stderr",
     "output_type": "stream",
     "text": [
      "/Users/JAE111/opt/anaconda3/lib/python3.9/site-packages/statsmodels/tsa/tsatools.py:142: FutureWarning: In a future version of pandas all arguments of concat except for the argument 'objs' will be keyword-only\n",
      "  x = pd.concat(x[::order], 1)\n"
     ]
    }
   ],
   "source": [
    "air_tr = tsatools.add_trend(air_y, trend='ctt')\n",
    "air_lm = sm.ols(formula='Air ~ trend + trend_squared',\n",
    "                     data = air_tr).fit()"
   ]
  },
  {
   "cell_type": "code",
   "execution_count": 101,
   "id": "2687658b",
   "metadata": {},
   "outputs": [],
   "source": [
    "rail_tr = tsatools.add_trend(rail_y, trend='ctt')\n",
    "rail_lm = sm.ols(formula='Rail ~ trend + trend_squared',\n",
    "                     data = rail_tr).fit()"
   ]
  },
  {
   "cell_type": "code",
   "execution_count": 102,
   "id": "f8458de0",
   "metadata": {},
   "outputs": [],
   "source": [
    "car_tr = tsatools.add_trend(car_y, trend='ctt')\n",
    "car_lm = sm.ols(formula='Car ~ trend + trend_squared',\n",
    "                     data = car_tr).fit()"
   ]
  },
  {
   "cell_type": "code",
   "execution_count": 77,
   "id": "be86b816",
   "metadata": {},
   "outputs": [],
   "source": [
    "# plot"
   ]
  },
  {
   "cell_type": "code",
   "execution_count": 103,
   "id": "07a1ddb0",
   "metadata": {},
   "outputs": [
    {
     "data": {
      "image/png": "[encoded data removed]",
      "text/plain": [
       "<Figure size 720x432 with 1 Axes>"
      ]
     },
     "metadata": {
      "needs_background": "light"
     },
     "output_type": "display_data"
    }
   ],
   "source": [
    "fig,axes = plt.subplots(figsize=(10,6))\n",
    "air_y.plot()\n",
    "#ax.set_ylim(1300, 2300)\n",
    "air_lm.predict(air_tr).plot()\n",
    "plt.show()"
   ]
  },
  {
   "cell_type": "markdown",
   "id": "dd058cae",
   "metadata": {},
   "source": [
    "**air**\n",
    "완만한 증가 추세 곡선"
   ]
  },
  {
   "cell_type": "code",
   "execution_count": 104,
   "id": "d4e25a09",
   "metadata": {},
   "outputs": [
    {
     "data": {
      "image/png": "[encoded data removed]",
      "text/plain": [
       "<Figure size 720x432 with 1 Axes>"
      ]
     },
     "metadata": {
      "needs_background": "light"
     },
     "output_type": "display_data"
    }
   ],
   "source": [
    "fig,axes = plt.subplots(figsize=(10,6))\n",
    "rail_y.plot()\n",
    "#ax.set_ylim(1300, 2300)\n",
    "rail_lm.predict(rail_tr).plot()\n",
    "plt.show()"
   ]
  },
  {
   "cell_type": "markdown",
   "id": "4a15af05",
   "metadata": {},
   "source": [
    "**rail** 완만한 감소 곡선"
   ]
  },
  {
   "cell_type": "code",
   "execution_count": 106,
   "id": "00685d29",
   "metadata": {},
   "outputs": [
    {
     "data": {
      "image/png": "[encoded data removed]",
      "text/plain": [
       "<Figure size 720x432 with 1 Axes>"
      ]
     },
     "metadata": {
      "needs_background": "light"
     },
     "output_type": "display_data"
    }
   ],
   "source": [
    "fig,axes = plt.subplots(figsize=(10,6))\n",
    "car_y.plot()\n",
    "#ax.set_ylim(1300, 2300)\n",
    "car_lm.predict(car_tr).plot()\n",
    "plt.show()"
   ]
  },
  {
   "cell_type": "markdown",
   "id": "7232694c",
   "metadata": {},
   "source": [
    "**car** 거의 (상향)직선에 가까운 추세 --> 로그 변환을 하였으므로 실제 데이터는 지수 함수에 가까운 곡선일 것 "
   ]
  },
  {
   "cell_type": "code",
   "execution_count": null,
   "id": "99022496",
   "metadata": {},
   "outputs": [],
   "source": [
    "# 근데 log 변환을 하든 안 하든 걍 똑같은 추세를 보임... 뭐ㅈㅣ"
   ]
  },
  {
   "cell_type": "markdown",
   "id": "1e318a2a",
   "metadata": {},
   "source": [
    "# 16.2"
   ]
  },
  {
   "cell_type": "markdown",
   "id": "b1e300f3",
   "metadata": {},
   "source": [
    "### a\n",
    "모델 A가 더 잘 설명하고 있다. 학습 데이터에 대한 RMSE가 모델 B보다 더 낮기 때문이다.   \n",
    "(오차가 적다는 뜻이므로 학습 데이터에 대한 설명을 잘 하고 있고, 따라서 시계열의 요소를 잘 나타내는 모델이다.)"
   ]
  },
  {
   "cell_type": "markdown",
   "id": "26480c69",
   "metadata": {},
   "source": [
    "### b\n",
    "모델 B가 더 좋다. 검증 데이터에 대한 RMSW가 모델 A보다 낮기 때문에, 새로운 데이터가 들어왔을 때 모델 B의 예측 오차가 더 작을 것이기 때문이다."
   ]
  },
  {
   "cell_type": "markdown",
   "id": "0a26fc04",
   "metadata": {},
   "source": [
    "# 16.3"
   ]
  },
  {
   "cell_type": "code",
   "execution_count": 188,
   "id": "2d7489d5",
   "metadata": {},
   "outputs": [
    {
     "data": {
      "text/html": [
       "<div>\n",
       "<style scoped>\n",
       "    .dataframe tbody tr th:only-of-type {\n",
       "        vertical-align: middle;\n",
       "    }\n",
       "\n",
       "    .dataframe tbody tr th {\n",
       "        vertical-align: top;\n",
       "    }\n",
       "\n",
       "    .dataframe thead th {\n",
       "        text-align: right;\n",
       "    }\n",
       "</style>\n",
       "<table border=\"1\" class=\"dataframe\">\n",
       "  <thead>\n",
       "    <tr style=\"text-align: right;\">\n",
       "      <th></th>\n",
       "      <th>Quarter</th>\n",
       "      <th>Sales</th>\n",
       "    </tr>\n",
       "  </thead>\n",
       "  <tbody>\n",
       "    <tr>\n",
       "      <th>0</th>\n",
       "      <td>1</td>\n",
       "      <td>50147</td>\n",
       "    </tr>\n",
       "    <tr>\n",
       "      <th>1</th>\n",
       "      <td>2</td>\n",
       "      <td>49325</td>\n",
       "    </tr>\n",
       "    <tr>\n",
       "      <th>2</th>\n",
       "      <td>3</td>\n",
       "      <td>57048</td>\n",
       "    </tr>\n",
       "    <tr>\n",
       "      <th>3</th>\n",
       "      <td>4</td>\n",
       "      <td>76781</td>\n",
       "    </tr>\n",
       "    <tr>\n",
       "      <th>4</th>\n",
       "      <td>5</td>\n",
       "      <td>48617</td>\n",
       "    </tr>\n",
       "    <tr>\n",
       "      <th>5</th>\n",
       "      <td>6</td>\n",
       "      <td>50898</td>\n",
       "    </tr>\n",
       "    <tr>\n",
       "      <th>6</th>\n",
       "      <td>7</td>\n",
       "      <td>58517</td>\n",
       "    </tr>\n",
       "    <tr>\n",
       "      <th>7</th>\n",
       "      <td>8</td>\n",
       "      <td>77691</td>\n",
       "    </tr>\n",
       "    <tr>\n",
       "      <th>8</th>\n",
       "      <td>9</td>\n",
       "      <td>50862</td>\n",
       "    </tr>\n",
       "    <tr>\n",
       "      <th>9</th>\n",
       "      <td>10</td>\n",
       "      <td>53028</td>\n",
       "    </tr>\n",
       "    <tr>\n",
       "      <th>10</th>\n",
       "      <td>11</td>\n",
       "      <td>58849</td>\n",
       "    </tr>\n",
       "    <tr>\n",
       "      <th>11</th>\n",
       "      <td>12</td>\n",
       "      <td>79660</td>\n",
       "    </tr>\n",
       "    <tr>\n",
       "      <th>12</th>\n",
       "      <td>13</td>\n",
       "      <td>51640</td>\n",
       "    </tr>\n",
       "    <tr>\n",
       "      <th>13</th>\n",
       "      <td>14</td>\n",
       "      <td>54119</td>\n",
       "    </tr>\n",
       "    <tr>\n",
       "      <th>14</th>\n",
       "      <td>15</td>\n",
       "      <td>65681</td>\n",
       "    </tr>\n",
       "    <tr>\n",
       "      <th>15</th>\n",
       "      <td>16</td>\n",
       "      <td>85175</td>\n",
       "    </tr>\n",
       "    <tr>\n",
       "      <th>16</th>\n",
       "      <td>17</td>\n",
       "      <td>56405</td>\n",
       "    </tr>\n",
       "    <tr>\n",
       "      <th>17</th>\n",
       "      <td>18</td>\n",
       "      <td>60031</td>\n",
       "    </tr>\n",
       "    <tr>\n",
       "      <th>18</th>\n",
       "      <td>19</td>\n",
       "      <td>71486</td>\n",
       "    </tr>\n",
       "    <tr>\n",
       "      <th>19</th>\n",
       "      <td>20</td>\n",
       "      <td>92183</td>\n",
       "    </tr>\n",
       "    <tr>\n",
       "      <th>20</th>\n",
       "      <td>21</td>\n",
       "      <td>60800</td>\n",
       "    </tr>\n",
       "    <tr>\n",
       "      <th>21</th>\n",
       "      <td>22</td>\n",
       "      <td>64900</td>\n",
       "    </tr>\n",
       "    <tr>\n",
       "      <th>22</th>\n",
       "      <td>23</td>\n",
       "      <td>76997</td>\n",
       "    </tr>\n",
       "    <tr>\n",
       "      <th>23</th>\n",
       "      <td>24</td>\n",
       "      <td>103337</td>\n",
       "    </tr>\n",
       "  </tbody>\n",
       "</table>\n",
       "</div>"
      ],
      "text/plain": [
       "    Quarter   Sales\n",
       "0         1   50147\n",
       "1         2   49325\n",
       "2         3   57048\n",
       "3         4   76781\n",
       "4         5   48617\n",
       "5         6   50898\n",
       "6         7   58517\n",
       "7         8   77691\n",
       "8         9   50862\n",
       "9        10   53028\n",
       "10       11   58849\n",
       "11       12   79660\n",
       "12       13   51640\n",
       "13       14   54119\n",
       "14       15   65681\n",
       "15       16   85175\n",
       "16       17   56405\n",
       "17       18   60031\n",
       "18       19   71486\n",
       "19       20   92183\n",
       "20       21   60800\n",
       "21       22   64900\n",
       "22       23   76997\n",
       "23       24  103337"
      ]
     },
     "execution_count": 188,
     "metadata": {},
     "output_type": "execute_result"
    }
   ],
   "source": [
    "df = pd.read_csv(\"DepartmentStoreSales.csv\")\n",
    "df"
   ]
  },
  {
   "cell_type": "code",
   "execution_count": 189,
   "id": "ac807101",
   "metadata": {},
   "outputs": [
    {
     "data": {
      "image/png": "[encoded data removed]",
      "text/plain": [
       "<Figure size 432x288 with 1 Axes>"
      ]
     },
     "metadata": {
      "needs_background": "light"
     },
     "output_type": "display_data"
    }
   ],
   "source": [
    "df = pd.Series(df.Sales.values, index=df.Quarter, name = 'df')\n",
    "ax = df.plot()"
   ]
  },
  {
   "cell_type": "markdown",
   "id": "00bbfe1d",
   "metadata": {},
   "source": [
    "### b\n",
    "계절변동 : 일년마다 값이 급증하다가 년도가 바뀜에따라 급락한다.   \n",
    "추세 : 점점 증가하고 있다."
   ]
  },
  {
   "cell_type": "markdown",
   "id": "1cf21588",
   "metadata": {},
   "source": [
    "# 16.4"
   ]
  },
  {
   "cell_type": "code",
   "execution_count": 190,
   "id": "b01d389e",
   "metadata": {},
   "outputs": [
    {
     "data": {
      "text/html": [
       "<div>\n",
       "<style scoped>\n",
       "    .dataframe tbody tr th:only-of-type {\n",
       "        vertical-align: middle;\n",
       "    }\n",
       "\n",
       "    .dataframe tbody tr th {\n",
       "        vertical-align: top;\n",
       "    }\n",
       "\n",
       "    .dataframe thead th {\n",
       "        text-align: right;\n",
       "    }\n",
       "</style>\n",
       "<table border=\"1\" class=\"dataframe\">\n",
       "  <thead>\n",
       "    <tr style=\"text-align: right;\">\n",
       "      <th></th>\n",
       "      <th>Quarter</th>\n",
       "      <th>Shipments</th>\n",
       "    </tr>\n",
       "  </thead>\n",
       "  <tbody>\n",
       "    <tr>\n",
       "      <th>0</th>\n",
       "      <td>Q1-1985</td>\n",
       "      <td>4009</td>\n",
       "    </tr>\n",
       "    <tr>\n",
       "      <th>1</th>\n",
       "      <td>Q2-1985</td>\n",
       "      <td>4321</td>\n",
       "    </tr>\n",
       "    <tr>\n",
       "      <th>2</th>\n",
       "      <td>Q3-1985</td>\n",
       "      <td>4224</td>\n",
       "    </tr>\n",
       "    <tr>\n",
       "      <th>3</th>\n",
       "      <td>Q4-1985</td>\n",
       "      <td>3944</td>\n",
       "    </tr>\n",
       "    <tr>\n",
       "      <th>4</th>\n",
       "      <td>Q1-1986</td>\n",
       "      <td>4123</td>\n",
       "    </tr>\n",
       "    <tr>\n",
       "      <th>5</th>\n",
       "      <td>Q2-1986</td>\n",
       "      <td>4522</td>\n",
       "    </tr>\n",
       "    <tr>\n",
       "      <th>6</th>\n",
       "      <td>Q3-1986</td>\n",
       "      <td>4657</td>\n",
       "    </tr>\n",
       "    <tr>\n",
       "      <th>7</th>\n",
       "      <td>Q4-1986</td>\n",
       "      <td>4030</td>\n",
       "    </tr>\n",
       "    <tr>\n",
       "      <th>8</th>\n",
       "      <td>Q1-1987</td>\n",
       "      <td>4493</td>\n",
       "    </tr>\n",
       "    <tr>\n",
       "      <th>9</th>\n",
       "      <td>Q2-1987</td>\n",
       "      <td>4806</td>\n",
       "    </tr>\n",
       "    <tr>\n",
       "      <th>10</th>\n",
       "      <td>Q3-1987</td>\n",
       "      <td>4551</td>\n",
       "    </tr>\n",
       "    <tr>\n",
       "      <th>11</th>\n",
       "      <td>Q4-1987</td>\n",
       "      <td>4485</td>\n",
       "    </tr>\n",
       "    <tr>\n",
       "      <th>12</th>\n",
       "      <td>Q1-1988</td>\n",
       "      <td>4595</td>\n",
       "    </tr>\n",
       "    <tr>\n",
       "      <th>13</th>\n",
       "      <td>Q2-1988</td>\n",
       "      <td>4799</td>\n",
       "    </tr>\n",
       "    <tr>\n",
       "      <th>14</th>\n",
       "      <td>Q3-1988</td>\n",
       "      <td>4417</td>\n",
       "    </tr>\n",
       "    <tr>\n",
       "      <th>15</th>\n",
       "      <td>Q4-1988</td>\n",
       "      <td>4258</td>\n",
       "    </tr>\n",
       "    <tr>\n",
       "      <th>16</th>\n",
       "      <td>Q1-1989</td>\n",
       "      <td>4245</td>\n",
       "    </tr>\n",
       "    <tr>\n",
       "      <th>17</th>\n",
       "      <td>Q2-1989</td>\n",
       "      <td>4900</td>\n",
       "    </tr>\n",
       "    <tr>\n",
       "      <th>18</th>\n",
       "      <td>Q3-1989</td>\n",
       "      <td>4585</td>\n",
       "    </tr>\n",
       "    <tr>\n",
       "      <th>19</th>\n",
       "      <td>Q4-1989</td>\n",
       "      <td>4533</td>\n",
       "    </tr>\n",
       "  </tbody>\n",
       "</table>\n",
       "</div>"
      ],
      "text/plain": [
       "    Quarter  Shipments\n",
       "0   Q1-1985       4009\n",
       "1   Q2-1985       4321\n",
       "2   Q3-1985       4224\n",
       "3   Q4-1985       3944\n",
       "4   Q1-1986       4123\n",
       "5   Q2-1986       4522\n",
       "6   Q3-1986       4657\n",
       "7   Q4-1986       4030\n",
       "8   Q1-1987       4493\n",
       "9   Q2-1987       4806\n",
       "10  Q3-1987       4551\n",
       "11  Q4-1987       4485\n",
       "12  Q1-1988       4595\n",
       "13  Q2-1988       4799\n",
       "14  Q3-1988       4417\n",
       "15  Q4-1988       4258\n",
       "16  Q1-1989       4245\n",
       "17  Q2-1989       4900\n",
       "18  Q3-1989       4585\n",
       "19  Q4-1989       4533"
      ]
     },
     "execution_count": 190,
     "metadata": {},
     "output_type": "execute_result"
    }
   ],
   "source": [
    "df = pd.read_csv(\"ApplianceShipments.csv\")\n",
    "df"
   ]
  },
  {
   "cell_type": "code",
   "execution_count": 158,
   "id": "d1b0b42a",
   "metadata": {},
   "outputs": [
    {
     "name": "stderr",
     "output_type": "stream",
     "text": [
      "/var/folders/z6/j3q11gsn0ls8wtjzqj36nssm0000gp/T/ipykernel_2825/1344633627.py:2: SettingWithCopyWarning: \n",
      "A value is trying to be set on a copy of a slice from a DataFrame\n",
      "\n",
      "See the caveats in the documentation: https://pandas.pydata.org/pandas-docs/stable/user_guide/indexing.html#returning-a-view-versus-a-copy\n",
      "  df.Quarter[j] =  df.Quarter[j].replace('Q1','03')\n",
      "/var/folders/z6/j3q11gsn0ls8wtjzqj36nssm0000gp/T/ipykernel_2825/1344633627.py:3: SettingWithCopyWarning: \n",
      "A value is trying to be set on a copy of a slice from a DataFrame\n",
      "\n",
      "See the caveats in the documentation: https://pandas.pydata.org/pandas-docs/stable/user_guide/indexing.html#returning-a-view-versus-a-copy\n",
      "  df.Quarter[j+1] = df.Quarter[j+1].replace('Q2','06')\n",
      "/var/folders/z6/j3q11gsn0ls8wtjzqj36nssm0000gp/T/ipykernel_2825/1344633627.py:4: SettingWithCopyWarning: \n",
      "A value is trying to be set on a copy of a slice from a DataFrame\n",
      "\n",
      "See the caveats in the documentation: https://pandas.pydata.org/pandas-docs/stable/user_guide/indexing.html#returning-a-view-versus-a-copy\n",
      "  df.Quarter[j+2] = df.Quarter[j+2].replace('Q3','09')\n",
      "/var/folders/z6/j3q11gsn0ls8wtjzqj36nssm0000gp/T/ipykernel_2825/1344633627.py:5: SettingWithCopyWarning: \n",
      "A value is trying to be set on a copy of a slice from a DataFrame\n",
      "\n",
      "See the caveats in the documentation: https://pandas.pydata.org/pandas-docs/stable/user_guide/indexing.html#returning-a-view-versus-a-copy\n",
      "  df.Quarter[j+3] = df.Quarter[j+3].replace('Q4','12')\n"
     ]
    }
   ],
   "source": [
    "for j in range(0,20,4):\n",
    "    df.Quarter[j] =  df.Quarter[j].replace('Q1','03')\n",
    "    df.Quarter[j+1] = df.Quarter[j+1].replace('Q2','06')\n",
    "    df.Quarter[j+2] = df.Quarter[j+2].replace('Q3','09')\n",
    "    df.Quarter[j+3] = df.Quarter[j+3].replace('Q4','12')"
   ]
  },
  {
   "cell_type": "code",
   "execution_count": 159,
   "id": "7483abe7",
   "metadata": {},
   "outputs": [
    {
     "data": {
      "text/html": [
       "<div>\n",
       "<style scoped>\n",
       "    .dataframe tbody tr th:only-of-type {\n",
       "        vertical-align: middle;\n",
       "    }\n",
       "\n",
       "    .dataframe tbody tr th {\n",
       "        vertical-align: top;\n",
       "    }\n",
       "\n",
       "    .dataframe thead th {\n",
       "        text-align: right;\n",
       "    }\n",
       "</style>\n",
       "<table border=\"1\" class=\"dataframe\">\n",
       "  <thead>\n",
       "    <tr style=\"text-align: right;\">\n",
       "      <th></th>\n",
       "      <th>Quarter</th>\n",
       "      <th>Shipments</th>\n",
       "    </tr>\n",
       "  </thead>\n",
       "  <tbody>\n",
       "    <tr>\n",
       "      <th>0</th>\n",
       "      <td>03-1985</td>\n",
       "      <td>4009</td>\n",
       "    </tr>\n",
       "    <tr>\n",
       "      <th>1</th>\n",
       "      <td>06-1985</td>\n",
       "      <td>4321</td>\n",
       "    </tr>\n",
       "    <tr>\n",
       "      <th>2</th>\n",
       "      <td>09-1985</td>\n",
       "      <td>4224</td>\n",
       "    </tr>\n",
       "    <tr>\n",
       "      <th>3</th>\n",
       "      <td>12-1985</td>\n",
       "      <td>3944</td>\n",
       "    </tr>\n",
       "    <tr>\n",
       "      <th>4</th>\n",
       "      <td>03-1986</td>\n",
       "      <td>4123</td>\n",
       "    </tr>\n",
       "    <tr>\n",
       "      <th>5</th>\n",
       "      <td>06-1986</td>\n",
       "      <td>4522</td>\n",
       "    </tr>\n",
       "    <tr>\n",
       "      <th>6</th>\n",
       "      <td>09-1986</td>\n",
       "      <td>4657</td>\n",
       "    </tr>\n",
       "    <tr>\n",
       "      <th>7</th>\n",
       "      <td>12-1986</td>\n",
       "      <td>4030</td>\n",
       "    </tr>\n",
       "    <tr>\n",
       "      <th>8</th>\n",
       "      <td>03-1987</td>\n",
       "      <td>4493</td>\n",
       "    </tr>\n",
       "    <tr>\n",
       "      <th>9</th>\n",
       "      <td>06-1987</td>\n",
       "      <td>4806</td>\n",
       "    </tr>\n",
       "    <tr>\n",
       "      <th>10</th>\n",
       "      <td>09-1987</td>\n",
       "      <td>4551</td>\n",
       "    </tr>\n",
       "    <tr>\n",
       "      <th>11</th>\n",
       "      <td>12-1987</td>\n",
       "      <td>4485</td>\n",
       "    </tr>\n",
       "    <tr>\n",
       "      <th>12</th>\n",
       "      <td>03-1988</td>\n",
       "      <td>4595</td>\n",
       "    </tr>\n",
       "    <tr>\n",
       "      <th>13</th>\n",
       "      <td>06-1988</td>\n",
       "      <td>4799</td>\n",
       "    </tr>\n",
       "    <tr>\n",
       "      <th>14</th>\n",
       "      <td>09-1988</td>\n",
       "      <td>4417</td>\n",
       "    </tr>\n",
       "    <tr>\n",
       "      <th>15</th>\n",
       "      <td>12-1988</td>\n",
       "      <td>4258</td>\n",
       "    </tr>\n",
       "    <tr>\n",
       "      <th>16</th>\n",
       "      <td>03-1989</td>\n",
       "      <td>4245</td>\n",
       "    </tr>\n",
       "    <tr>\n",
       "      <th>17</th>\n",
       "      <td>06-1989</td>\n",
       "      <td>4900</td>\n",
       "    </tr>\n",
       "    <tr>\n",
       "      <th>18</th>\n",
       "      <td>09-1989</td>\n",
       "      <td>4585</td>\n",
       "    </tr>\n",
       "    <tr>\n",
       "      <th>19</th>\n",
       "      <td>12-1989</td>\n",
       "      <td>4533</td>\n",
       "    </tr>\n",
       "  </tbody>\n",
       "</table>\n",
       "</div>"
      ],
      "text/plain": [
       "    Quarter  Shipments\n",
       "0   03-1985       4009\n",
       "1   06-1985       4321\n",
       "2   09-1985       4224\n",
       "3   12-1985       3944\n",
       "4   03-1986       4123\n",
       "5   06-1986       4522\n",
       "6   09-1986       4657\n",
       "7   12-1986       4030\n",
       "8   03-1987       4493\n",
       "9   06-1987       4806\n",
       "10  09-1987       4551\n",
       "11  12-1987       4485\n",
       "12  03-1988       4595\n",
       "13  06-1988       4799\n",
       "14  09-1988       4417\n",
       "15  12-1988       4258\n",
       "16  03-1989       4245\n",
       "17  06-1989       4900\n",
       "18  09-1989       4585\n",
       "19  12-1989       4533"
      ]
     },
     "execution_count": 159,
     "metadata": {},
     "output_type": "execute_result"
    }
   ],
   "source": [
    "df"
   ]
  },
  {
   "cell_type": "code",
   "execution_count": 160,
   "id": "7c58ad85",
   "metadata": {},
   "outputs": [],
   "source": [
    "df['Date'] = pd.to_datetime(df.Quarter, format = \"%m-%Y\")"
   ]
  },
  {
   "cell_type": "code",
   "execution_count": 162,
   "id": "a050fe8b",
   "metadata": {},
   "outputs": [
    {
     "data": {
      "image/png": "[encoded data removed]",
      "text/plain": [
       "<Figure size 432x288 with 1 Axes>"
      ]
     },
     "metadata": {
      "needs_background": "light"
     },
     "output_type": "display_data"
    }
   ],
   "source": [
    "df = pd.Series(df.Shipments.values, index=df.Date, name = 'df')\n",
    "df.index = pd.DatetimeIndex(df.index, freq = df.index.inferred_freq)\n",
    "ax = df.plot()"
   ]
  },
  {
   "cell_type": "code",
   "execution_count": 191,
   "id": "3057239a",
   "metadata": {},
   "outputs": [
    {
     "data": {
      "image/png": "[encoded data removed]",
      "text/plain": [
       "<Figure size 432x288 with 1 Axes>"
      ]
     },
     "metadata": {
      "needs_background": "light"
     },
     "output_type": "display_data"
    }
   ],
   "source": [
    "# datetime 변환 안 하고 바로 시계열 plot해도 되는구낭\n",
    "\n",
    "df = pd.Series(df.Shipments.values, index=df.Quarter, name = 'df')\n",
    "ax = df.plot()"
   ]
  },
  {
   "cell_type": "markdown",
   "id": "fa4cc55f",
   "metadata": {},
   "source": [
    "### b\n",
    "추세 : 점점 증가한다.  \n",
    "계절변동 : 값이 늘다가 3분기마다 값이 급락하고, 다시 4분기부터 2분기까지 증가한다. "
   ]
  },
  {
   "cell_type": "markdown",
   "id": "b12789c7",
   "metadata": {},
   "source": [
    "# 16.5"
   ]
  },
  {
   "cell_type": "code",
   "execution_count": 165,
   "id": "c433793d",
   "metadata": {},
   "outputs": [
    {
     "data": {
      "text/html": [
       "<div>\n",
       "<style scoped>\n",
       "    .dataframe tbody tr th:only-of-type {\n",
       "        vertical-align: middle;\n",
       "    }\n",
       "\n",
       "    .dataframe tbody tr th {\n",
       "        vertical-align: top;\n",
       "    }\n",
       "\n",
       "    .dataframe thead th {\n",
       "        text-align: right;\n",
       "    }\n",
       "</style>\n",
       "<table border=\"1\" class=\"dataframe\">\n",
       "  <thead>\n",
       "    <tr style=\"text-align: right;\">\n",
       "      <th></th>\n",
       "      <th>Year</th>\n",
       "      <th>Hours</th>\n",
       "    </tr>\n",
       "  </thead>\n",
       "  <tbody>\n",
       "    <tr>\n",
       "      <th>0</th>\n",
       "      <td>1966</td>\n",
       "      <td>37.2</td>\n",
       "    </tr>\n",
       "    <tr>\n",
       "      <th>1</th>\n",
       "      <td>1967</td>\n",
       "      <td>37.0</td>\n",
       "    </tr>\n",
       "    <tr>\n",
       "      <th>2</th>\n",
       "      <td>1968</td>\n",
       "      <td>37.4</td>\n",
       "    </tr>\n",
       "    <tr>\n",
       "      <th>3</th>\n",
       "      <td>1969</td>\n",
       "      <td>37.5</td>\n",
       "    </tr>\n",
       "    <tr>\n",
       "      <th>4</th>\n",
       "      <td>1970</td>\n",
       "      <td>37.7</td>\n",
       "    </tr>\n",
       "    <tr>\n",
       "      <th>5</th>\n",
       "      <td>1971</td>\n",
       "      <td>37.7</td>\n",
       "    </tr>\n",
       "    <tr>\n",
       "      <th>6</th>\n",
       "      <td>1972</td>\n",
       "      <td>37.4</td>\n",
       "    </tr>\n",
       "    <tr>\n",
       "      <th>7</th>\n",
       "      <td>1973</td>\n",
       "      <td>37.2</td>\n",
       "    </tr>\n",
       "    <tr>\n",
       "      <th>8</th>\n",
       "      <td>1974</td>\n",
       "      <td>37.3</td>\n",
       "    </tr>\n",
       "    <tr>\n",
       "      <th>9</th>\n",
       "      <td>1975</td>\n",
       "      <td>37.2</td>\n",
       "    </tr>\n",
       "    <tr>\n",
       "      <th>10</th>\n",
       "      <td>1976</td>\n",
       "      <td>36.9</td>\n",
       "    </tr>\n",
       "    <tr>\n",
       "      <th>11</th>\n",
       "      <td>1977</td>\n",
       "      <td>36.7</td>\n",
       "    </tr>\n",
       "    <tr>\n",
       "      <th>12</th>\n",
       "      <td>1978</td>\n",
       "      <td>36.7</td>\n",
       "    </tr>\n",
       "    <tr>\n",
       "      <th>13</th>\n",
       "      <td>1979</td>\n",
       "      <td>36.5</td>\n",
       "    </tr>\n",
       "    <tr>\n",
       "      <th>14</th>\n",
       "      <td>1980</td>\n",
       "      <td>36.3</td>\n",
       "    </tr>\n",
       "    <tr>\n",
       "      <th>15</th>\n",
       "      <td>1981</td>\n",
       "      <td>35.9</td>\n",
       "    </tr>\n",
       "    <tr>\n",
       "      <th>16</th>\n",
       "      <td>1982</td>\n",
       "      <td>35.8</td>\n",
       "    </tr>\n",
       "    <tr>\n",
       "      <th>17</th>\n",
       "      <td>1983</td>\n",
       "      <td>35.9</td>\n",
       "    </tr>\n",
       "    <tr>\n",
       "      <th>18</th>\n",
       "      <td>1984</td>\n",
       "      <td>36.0</td>\n",
       "    </tr>\n",
       "    <tr>\n",
       "      <th>19</th>\n",
       "      <td>1985</td>\n",
       "      <td>35.7</td>\n",
       "    </tr>\n",
       "    <tr>\n",
       "      <th>20</th>\n",
       "      <td>1986</td>\n",
       "      <td>35.6</td>\n",
       "    </tr>\n",
       "    <tr>\n",
       "      <th>21</th>\n",
       "      <td>1987</td>\n",
       "      <td>35.2</td>\n",
       "    </tr>\n",
       "    <tr>\n",
       "      <th>22</th>\n",
       "      <td>1988</td>\n",
       "      <td>34.8</td>\n",
       "    </tr>\n",
       "    <tr>\n",
       "      <th>23</th>\n",
       "      <td>1989</td>\n",
       "      <td>35.3</td>\n",
       "    </tr>\n",
       "    <tr>\n",
       "      <th>24</th>\n",
       "      <td>1990</td>\n",
       "      <td>35.6</td>\n",
       "    </tr>\n",
       "    <tr>\n",
       "      <th>25</th>\n",
       "      <td>1991</td>\n",
       "      <td>35.6</td>\n",
       "    </tr>\n",
       "    <tr>\n",
       "      <th>26</th>\n",
       "      <td>1992</td>\n",
       "      <td>35.6</td>\n",
       "    </tr>\n",
       "    <tr>\n",
       "      <th>27</th>\n",
       "      <td>1993</td>\n",
       "      <td>35.9</td>\n",
       "    </tr>\n",
       "    <tr>\n",
       "      <th>28</th>\n",
       "      <td>1994</td>\n",
       "      <td>36.0</td>\n",
       "    </tr>\n",
       "    <tr>\n",
       "      <th>29</th>\n",
       "      <td>1995</td>\n",
       "      <td>35.7</td>\n",
       "    </tr>\n",
       "    <tr>\n",
       "      <th>30</th>\n",
       "      <td>1996</td>\n",
       "      <td>35.7</td>\n",
       "    </tr>\n",
       "    <tr>\n",
       "      <th>31</th>\n",
       "      <td>1997</td>\n",
       "      <td>35.5</td>\n",
       "    </tr>\n",
       "    <tr>\n",
       "      <th>32</th>\n",
       "      <td>1998</td>\n",
       "      <td>35.6</td>\n",
       "    </tr>\n",
       "    <tr>\n",
       "      <th>33</th>\n",
       "      <td>1999</td>\n",
       "      <td>36.3</td>\n",
       "    </tr>\n",
       "    <tr>\n",
       "      <th>34</th>\n",
       "      <td>2000</td>\n",
       "      <td>36.5</td>\n",
       "    </tr>\n",
       "  </tbody>\n",
       "</table>\n",
       "</div>"
      ],
      "text/plain": [
       "    Year  Hours\n",
       "0   1966   37.2\n",
       "1   1967   37.0\n",
       "2   1968   37.4\n",
       "3   1969   37.5\n",
       "4   1970   37.7\n",
       "5   1971   37.7\n",
       "6   1972   37.4\n",
       "7   1973   37.2\n",
       "8   1974   37.3\n",
       "9   1975   37.2\n",
       "10  1976   36.9\n",
       "11  1977   36.7\n",
       "12  1978   36.7\n",
       "13  1979   36.5\n",
       "14  1980   36.3\n",
       "15  1981   35.9\n",
       "16  1982   35.8\n",
       "17  1983   35.9\n",
       "18  1984   36.0\n",
       "19  1985   35.7\n",
       "20  1986   35.6\n",
       "21  1987   35.2\n",
       "22  1988   34.8\n",
       "23  1989   35.3\n",
       "24  1990   35.6\n",
       "25  1991   35.6\n",
       "26  1992   35.6\n",
       "27  1993   35.9\n",
       "28  1994   36.0\n",
       "29  1995   35.7\n",
       "30  1996   35.7\n",
       "31  1997   35.5\n",
       "32  1998   35.6\n",
       "33  1999   36.3\n",
       "34  2000   36.5"
      ]
     },
     "execution_count": 165,
     "metadata": {},
     "output_type": "execute_result"
    }
   ],
   "source": [
    "df = pd.read_csv(\"CanadianWorkHours.csv\")\n",
    "df"
   ]
  },
  {
   "cell_type": "code",
   "execution_count": 167,
   "id": "a088d86e",
   "metadata": {},
   "outputs": [
    {
     "data": {
      "image/png": "[encoded data removed]",
      "text/plain": [
       "<Figure size 432x288 with 1 Axes>"
      ]
     },
     "metadata": {
      "needs_background": "light"
     },
     "output_type": "display_data"
    }
   ],
   "source": [
    "df['Date'] = pd.to_datetime(df.Year, format = \"%Y\")\n",
    "df = pd.Series(df.Hours.values, index=df.Date, name = 'df')\n",
    "df.index = pd.DatetimeIndex(df.index, freq = df.index.inferred_freq)\n",
    "ax = df.plot()"
   ]
  },
  {
   "cell_type": "markdown",
   "id": "fc46e2e6",
   "metadata": {},
   "source": [
    "### b\n",
    "추세 : 1988년도쯤에서 극솟값을 가지는 이차곡선의 모형  \n",
    "계절변동 : 크게 두드러지지 않는다."
   ]
  },
  {
   "cell_type": "markdown",
   "id": "1150143a",
   "metadata": {},
   "source": [
    "# 16.6"
   ]
  },
  {
   "cell_type": "markdown",
   "id": "87041698",
   "metadata": {},
   "source": [
    "### a"
   ]
  },
  {
   "cell_type": "code",
   "execution_count": 14,
   "id": "ddafd836",
   "metadata": {},
   "outputs": [
    {
     "data": {
      "text/html": [
       "<div>\n",
       "<style scoped>\n",
       "    .dataframe tbody tr th:only-of-type {\n",
       "        vertical-align: middle;\n",
       "    }\n",
       "\n",
       "    .dataframe tbody tr th {\n",
       "        vertical-align: top;\n",
       "    }\n",
       "\n",
       "    .dataframe thead th {\n",
       "        text-align: right;\n",
       "    }\n",
       "</style>\n",
       "<table border=\"1\" class=\"dataframe\">\n",
       "  <thead>\n",
       "    <tr style=\"text-align: right;\">\n",
       "      <th></th>\n",
       "      <th>Date</th>\n",
       "      <th>Sales</th>\n",
       "    </tr>\n",
       "  </thead>\n",
       "  <tbody>\n",
       "    <tr>\n",
       "      <th>0</th>\n",
       "      <td>Jan-95</td>\n",
       "      <td>1664.81</td>\n",
       "    </tr>\n",
       "    <tr>\n",
       "      <th>1</th>\n",
       "      <td>Feb-95</td>\n",
       "      <td>2397.53</td>\n",
       "    </tr>\n",
       "    <tr>\n",
       "      <th>2</th>\n",
       "      <td>Mar-95</td>\n",
       "      <td>2840.71</td>\n",
       "    </tr>\n",
       "    <tr>\n",
       "      <th>3</th>\n",
       "      <td>Apr-95</td>\n",
       "      <td>3547.29</td>\n",
       "    </tr>\n",
       "    <tr>\n",
       "      <th>4</th>\n",
       "      <td>May-95</td>\n",
       "      <td>3752.96</td>\n",
       "    </tr>\n",
       "    <tr>\n",
       "      <th>...</th>\n",
       "      <td>...</td>\n",
       "      <td>...</td>\n",
       "    </tr>\n",
       "    <tr>\n",
       "      <th>79</th>\n",
       "      <td>Aug-01</td>\n",
       "      <td>28586.52</td>\n",
       "    </tr>\n",
       "    <tr>\n",
       "      <th>80</th>\n",
       "      <td>Sep-01</td>\n",
       "      <td>30505.41</td>\n",
       "    </tr>\n",
       "    <tr>\n",
       "      <th>81</th>\n",
       "      <td>Oct-01</td>\n",
       "      <td>30821.33</td>\n",
       "    </tr>\n",
       "    <tr>\n",
       "      <th>82</th>\n",
       "      <td>Nov-01</td>\n",
       "      <td>46634.38</td>\n",
       "    </tr>\n",
       "    <tr>\n",
       "      <th>83</th>\n",
       "      <td>Dec-01</td>\n",
       "      <td>104660.67</td>\n",
       "    </tr>\n",
       "  </tbody>\n",
       "</table>\n",
       "<p>84 rows × 2 columns</p>\n",
       "</div>"
      ],
      "text/plain": [
       "      Date      Sales\n",
       "0   Jan-95    1664.81\n",
       "1   Feb-95    2397.53\n",
       "2   Mar-95    2840.71\n",
       "3   Apr-95    3547.29\n",
       "4   May-95    3752.96\n",
       "..     ...        ...\n",
       "79  Aug-01   28586.52\n",
       "80  Sep-01   30505.41\n",
       "81  Oct-01   30821.33\n",
       "82  Nov-01   46634.38\n",
       "83  Dec-01  104660.67\n",
       "\n",
       "[84 rows x 2 columns]"
      ]
     },
     "execution_count": 14,
     "metadata": {},
     "output_type": "execute_result"
    }
   ],
   "source": [
    "sales = pd.read_csv(\"SouvenirSales.csv\",encoding=\"koi8-r\")\n",
    "sales = sales.iloc[:,0:2]\n",
    "sales"
   ]
  },
  {
   "cell_type": "code",
   "execution_count": 15,
   "id": "622ec9eb",
   "metadata": {},
   "outputs": [],
   "source": [
    "sales['format_Date'] = pd.to_datetime(sales.Date, format = \"%b-%y\")"
   ]
  },
  {
   "cell_type": "code",
   "execution_count": 16,
   "id": "ca29ee0b",
   "metadata": {},
   "outputs": [
    {
     "data": {
      "image/png": "[encoded data removed]",
      "text/plain": [
       "<Figure size 432x288 with 1 Axes>"
      ]
     },
     "metadata": {
      "needs_background": "light"
     },
     "output_type": "display_data"
    }
   ],
   "source": [
    "sales = pd.Series(sales.Sales.values, index = sales.format_Date, name = 'sales')\n",
    "sales.index = pd.DatetimeIndex(sales.index, freq = sales.index.inferred_freq)\n",
    "ax = sales.plot()"
   ]
  },
  {
   "cell_type": "markdown",
   "id": "269a32ba",
   "metadata": {},
   "source": [
    "### b"
   ]
  },
  {
   "cell_type": "code",
   "execution_count": 17,
   "id": "e0528113",
   "metadata": {},
   "outputs": [],
   "source": [
    "import numpy as np\n",
    "\n",
    "# y축 변경\n",
    "sales_log = sales.map(np.log) "
   ]
  },
  {
   "cell_type": "code",
   "execution_count": 18,
   "id": "a2966c96",
   "metadata": {},
   "outputs": [
    {
     "data": {
      "image/png": "[encoded data removed]",
      "text/plain": [
       "<Figure size 432x288 with 1 Axes>"
      ]
     },
     "metadata": {
      "needs_background": "light"
     },
     "output_type": "display_data"
    }
   ],
   "source": [
    "ax = sales_log.plot()"
   ]
  },
  {
   "cell_type": "code",
   "execution_count": 30,
   "id": "fa16255a",
   "metadata": {
    "scrolled": true
   },
   "outputs": [
    {
     "data": {
      "image/png": "[encoded data removed]",
      "text/plain": [
       "<Figure size 432x288 with 1 Axes>"
      ]
     },
     "metadata": {
      "needs_background": "light"
     },
     "output_type": "display_data"
    }
   ],
   "source": [
    "# 저렇게 일일이 변형 안 해도 plt.yscale(\"log\") 함수를 이용해서 로그함수 그릴 수 있다. \n",
    "\n",
    "ax = sales.plot()\n",
    "plt.yscale(\"log\")\n",
    "plt.show()"
   ]
  },
  {
   "cell_type": "code",
   "execution_count": 29,
   "id": "6358d809",
   "metadata": {},
   "outputs": [
    {
     "data": {
      "image/png": "[encoded data removed]",
      "text/plain": [
       "<Figure size 432x288 with 1 Axes>"
      ]
     },
     "metadata": {
      "needs_background": "light"
     },
     "output_type": "display_data"
    }
   ],
   "source": [
    "# x축변경\n",
    "ax = sales.plot()\n",
    "plt.xscale(\"log\")\n",
    "plt.show()"
   ]
  },
  {
   "cell_type": "code",
   "execution_count": 31,
   "id": "97400c94",
   "metadata": {},
   "outputs": [
    {
     "data": {
      "image/png": "[encoded data removed]",
      "text/plain": [
       "<Figure size 432x288 with 1 Axes>"
      ]
     },
     "metadata": {
      "needs_background": "light"
     },
     "output_type": "display_data"
    }
   ],
   "source": [
    "# 둘 다 변경\n",
    "ax = sales.plot()\n",
    "plt.yscale(\"log\")\n",
    "plt.xscale(\"log\")\n",
    "plt.show()"
   ]
  },
  {
   "cell_type": "markdown",
   "id": "5fc9d61f",
   "metadata": {},
   "source": [
    "y축 로그변경이 가장 선형성을 띈다"
   ]
  },
  {
   "cell_type": "code",
   "execution_count": null,
   "id": "9d0ca755",
   "metadata": {},
   "outputs": [],
   "source": []
  },
  {
   "cell_type": "markdown",
   "id": "ee8e1268",
   "metadata": {},
   "source": [
    "# 16.7"
   ]
  },
  {
   "cell_type": "code",
   "execution_count": 193,
   "id": "2f0b8d0c",
   "metadata": {},
   "outputs": [
    {
     "data": {
      "text/html": [
       "<div>\n",
       "<style scoped>\n",
       "    .dataframe tbody tr th:only-of-type {\n",
       "        vertical-align: middle;\n",
       "    }\n",
       "\n",
       "    .dataframe tbody tr th {\n",
       "        vertical-align: top;\n",
       "    }\n",
       "\n",
       "    .dataframe thead th {\n",
       "        text-align: right;\n",
       "    }\n",
       "</style>\n",
       "<table border=\"1\" class=\"dataframe\">\n",
       "  <thead>\n",
       "    <tr style=\"text-align: right;\">\n",
       "      <th></th>\n",
       "      <th>Month</th>\n",
       "      <th>Shampoo Sales</th>\n",
       "    </tr>\n",
       "  </thead>\n",
       "  <tbody>\n",
       "    <tr>\n",
       "      <th>0</th>\n",
       "      <td>éðå-95</td>\n",
       "      <td>266.0</td>\n",
       "    </tr>\n",
       "    <tr>\n",
       "      <th>1</th>\n",
       "      <td>ôáø-95</td>\n",
       "      <td>145.9</td>\n",
       "    </tr>\n",
       "    <tr>\n",
       "      <th>2</th>\n",
       "      <td>îøõ-95</td>\n",
       "      <td>183.1</td>\n",
       "    </tr>\n",
       "    <tr>\n",
       "      <th>3</th>\n",
       "      <td>àôø-95</td>\n",
       "      <td>119.3</td>\n",
       "    </tr>\n",
       "    <tr>\n",
       "      <th>4</th>\n",
       "      <td>îàé-95</td>\n",
       "      <td>180.3</td>\n",
       "    </tr>\n",
       "    <tr>\n",
       "      <th>5</th>\n",
       "      <td>éåð-95</td>\n",
       "      <td>168.5</td>\n",
       "    </tr>\n",
       "    <tr>\n",
       "      <th>6</th>\n",
       "      <td>éåì-95</td>\n",
       "      <td>231.8</td>\n",
       "    </tr>\n",
       "    <tr>\n",
       "      <th>7</th>\n",
       "      <td>àåâ-95</td>\n",
       "      <td>224.5</td>\n",
       "    </tr>\n",
       "    <tr>\n",
       "      <th>8</th>\n",
       "      <td>ñôè-95</td>\n",
       "      <td>192.8</td>\n",
       "    </tr>\n",
       "    <tr>\n",
       "      <th>9</th>\n",
       "      <td>àå÷-95</td>\n",
       "      <td>122.9</td>\n",
       "    </tr>\n",
       "    <tr>\n",
       "      <th>10</th>\n",
       "      <td>ðåá-95</td>\n",
       "      <td>336.5</td>\n",
       "    </tr>\n",
       "    <tr>\n",
       "      <th>11</th>\n",
       "      <td>ãöî-95</td>\n",
       "      <td>185.9</td>\n",
       "    </tr>\n",
       "    <tr>\n",
       "      <th>12</th>\n",
       "      <td>éðå-96</td>\n",
       "      <td>194.3</td>\n",
       "    </tr>\n",
       "    <tr>\n",
       "      <th>13</th>\n",
       "      <td>ôáø-96</td>\n",
       "      <td>149.5</td>\n",
       "    </tr>\n",
       "    <tr>\n",
       "      <th>14</th>\n",
       "      <td>îøõ-96</td>\n",
       "      <td>210.1</td>\n",
       "    </tr>\n",
       "    <tr>\n",
       "      <th>15</th>\n",
       "      <td>àôø-96</td>\n",
       "      <td>273.3</td>\n",
       "    </tr>\n",
       "    <tr>\n",
       "      <th>16</th>\n",
       "      <td>îàé-96</td>\n",
       "      <td>191.4</td>\n",
       "    </tr>\n",
       "    <tr>\n",
       "      <th>17</th>\n",
       "      <td>éåð-96</td>\n",
       "      <td>287.0</td>\n",
       "    </tr>\n",
       "    <tr>\n",
       "      <th>18</th>\n",
       "      <td>éåì-96</td>\n",
       "      <td>226.0</td>\n",
       "    </tr>\n",
       "    <tr>\n",
       "      <th>19</th>\n",
       "      <td>àåâ-96</td>\n",
       "      <td>303.6</td>\n",
       "    </tr>\n",
       "    <tr>\n",
       "      <th>20</th>\n",
       "      <td>ñôè-96</td>\n",
       "      <td>289.9</td>\n",
       "    </tr>\n",
       "    <tr>\n",
       "      <th>21</th>\n",
       "      <td>àå÷-96</td>\n",
       "      <td>421.6</td>\n",
       "    </tr>\n",
       "    <tr>\n",
       "      <th>22</th>\n",
       "      <td>ðåá-96</td>\n",
       "      <td>264.5</td>\n",
       "    </tr>\n",
       "    <tr>\n",
       "      <th>23</th>\n",
       "      <td>ãöî-96</td>\n",
       "      <td>342.3</td>\n",
       "    </tr>\n",
       "    <tr>\n",
       "      <th>24</th>\n",
       "      <td>éðå-97</td>\n",
       "      <td>339.7</td>\n",
       "    </tr>\n",
       "    <tr>\n",
       "      <th>25</th>\n",
       "      <td>ôáø-97</td>\n",
       "      <td>440.4</td>\n",
       "    </tr>\n",
       "    <tr>\n",
       "      <th>26</th>\n",
       "      <td>îøõ-97</td>\n",
       "      <td>315.9</td>\n",
       "    </tr>\n",
       "    <tr>\n",
       "      <th>27</th>\n",
       "      <td>àôø-97</td>\n",
       "      <td>439.3</td>\n",
       "    </tr>\n",
       "    <tr>\n",
       "      <th>28</th>\n",
       "      <td>îàé-97</td>\n",
       "      <td>401.3</td>\n",
       "    </tr>\n",
       "    <tr>\n",
       "      <th>29</th>\n",
       "      <td>éåð-97</td>\n",
       "      <td>437.4</td>\n",
       "    </tr>\n",
       "    <tr>\n",
       "      <th>30</th>\n",
       "      <td>éåì-97</td>\n",
       "      <td>575.5</td>\n",
       "    </tr>\n",
       "    <tr>\n",
       "      <th>31</th>\n",
       "      <td>àåâ-97</td>\n",
       "      <td>407.6</td>\n",
       "    </tr>\n",
       "    <tr>\n",
       "      <th>32</th>\n",
       "      <td>ñôè-97</td>\n",
       "      <td>682.0</td>\n",
       "    </tr>\n",
       "    <tr>\n",
       "      <th>33</th>\n",
       "      <td>àå÷-97</td>\n",
       "      <td>475.3</td>\n",
       "    </tr>\n",
       "    <tr>\n",
       "      <th>34</th>\n",
       "      <td>ðåá-97</td>\n",
       "      <td>581.3</td>\n",
       "    </tr>\n",
       "    <tr>\n",
       "      <th>35</th>\n",
       "      <td>ãöî-97</td>\n",
       "      <td>646.9</td>\n",
       "    </tr>\n",
       "  </tbody>\n",
       "</table>\n",
       "</div>"
      ],
      "text/plain": [
       "     Month  Shampoo Sales\n",
       "0   éðå-95          266.0\n",
       "1   ôáø-95          145.9\n",
       "2   îøõ-95          183.1\n",
       "3   àôø-95          119.3\n",
       "4   îàé-95          180.3\n",
       "5   éåð-95          168.5\n",
       "6   éåì-95          231.8\n",
       "7   àåâ-95          224.5\n",
       "8   ñôè-95          192.8\n",
       "9   àå÷-95          122.9\n",
       "10  ðåá-95          336.5\n",
       "11  ãöî-95          185.9\n",
       "12  éðå-96          194.3\n",
       "13  ôáø-96          149.5\n",
       "14  îøõ-96          210.1\n",
       "15  àôø-96          273.3\n",
       "16  îàé-96          191.4\n",
       "17  éåð-96          287.0\n",
       "18  éåì-96          226.0\n",
       "19  àåâ-96          303.6\n",
       "20  ñôè-96          289.9\n",
       "21  àå÷-96          421.6\n",
       "22  ðåá-96          264.5\n",
       "23  ãöî-96          342.3\n",
       "24  éðå-97          339.7\n",
       "25  ôáø-97          440.4\n",
       "26  îøõ-97          315.9\n",
       "27  àôø-97          439.3\n",
       "28  îàé-97          401.3\n",
       "29  éåð-97          437.4\n",
       "30  éåì-97          575.5\n",
       "31  àåâ-97          407.6\n",
       "32  ñôè-97          682.0\n",
       "33  àå÷-97          475.3\n",
       "34  ðåá-97          581.3\n",
       "35  ãöî-97          646.9"
      ]
     },
     "execution_count": 193,
     "metadata": {},
     "output_type": "execute_result"
    }
   ],
   "source": [
    "shampoo = pd.read_csv(\"ShampooSales.csv\",encoding=\"ISO-8859-1\")\n",
    "shampoo"
   ]
  },
  {
   "cell_type": "code",
   "execution_count": 182,
   "id": "c4ce475b",
   "metadata": {},
   "outputs": [
    {
     "ename": "NameError",
     "evalue": "name 'output_lines' is not defined",
     "output_type": "error",
     "traceback": [
      "\u001b[0;31m---------------------------------------------------------------------------\u001b[0m",
      "\u001b[0;31mNameError\u001b[0m                                 Traceback (most recent call last)",
      "\u001b[0;32m/var/folders/z6/j3q11gsn0ls8wtjzqj36nssm0000gp/T/ipykernel_2825/678780608.py\u001b[0m in \u001b[0;36m<module>\u001b[0;34m\u001b[0m\n\u001b[1;32m      4\u001b[0m     \u001b[0;32mreturn\u001b[0m \u001b[0municode\u001b[0m\u001b[0;34m(\u001b[0m\u001b[0mv\u001b[0m\u001b[0;34m)\u001b[0m  \u001b[0;31m# convert anything not a string to unicode too\u001b[0m\u001b[0;34m\u001b[0m\u001b[0;34m\u001b[0m\u001b[0m\n\u001b[1;32m      5\u001b[0m \u001b[0;34m\u001b[0m\u001b[0m\n\u001b[0;32m----> 6\u001b[0;31m \u001b[0moutput_string\u001b[0m \u001b[0;34m=\u001b[0m \u001b[0;34mu'\\n'\u001b[0m\u001b[0;34m.\u001b[0m\u001b[0mjoin\u001b[0m\u001b[0;34m(\u001b[0m\u001b[0;34m[\u001b[0m\u001b[0mensure_unicode\u001b[0m\u001b[0;34m(\u001b[0m\u001b[0mline\u001b[0m\u001b[0;34m)\u001b[0m \u001b[0;32mfor\u001b[0m \u001b[0mline\u001b[0m \u001b[0;32min\u001b[0m \u001b[0moutput_lines\u001b[0m\u001b[0;34m]\u001b[0m\u001b[0;34m)\u001b[0m\u001b[0;34m\u001b[0m\u001b[0;34m\u001b[0m\u001b[0m\n\u001b[0m",
      "\u001b[0;31mNameError\u001b[0m: name 'output_lines' is not defined"
     ]
    }
   ],
   "source": [
    "def ensure_unicode(v):\n",
    "    if isinstance(v, str):\n",
    "        v = v.decode('utf8')\n",
    "    return unicode(v)  # convert anything not a string to unicode too\n",
    "\n",
    "output_string = u'\\n'.join([ensure_unicode(line) for line in output_lines])"
   ]
  },
  {
   "cell_type": "markdown",
   "id": "7b4c01a2",
   "metadata": {},
   "source": [
    "# 6,7번 둘 다 인코딩이 안됩니다 ㅠㅠㅠㅠㅠㅠㅠㅠ 구글링해서 웬만한 인코딩 다 써봣는데 다 안돼요 ㅠㅠㅠㅜ 혹시 성공하신 분들 있으시면 알려주세요 "
   ]
  }
 ],
 "metadata": {
  "kernelspec": {
   "display_name": "Python 3 (ipykernel)",
   "language": "python",
   "name": "python3"
  },
  "language_info": {
   "codemirror_mode": {
    "name": "ipython",
    "version": 3
   },
   "file_extension": ".py",
   "mimetype": "text/x-python",
   "name": "python",
   "nbconvert_exporter": "python",
   "pygments_lexer": "ipython3",
   "version": "3.9.7"
  }
 },
 "nbformat": 4,
 "nbformat_minor": 5
}
