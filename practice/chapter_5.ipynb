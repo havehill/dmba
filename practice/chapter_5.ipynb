{
 "cells": [
  {
   "cell_type": "code",
   "execution_count": 5,
   "id": "20891b0a",
   "metadata": {},
   "outputs": [
    {
     "name": "stdout",
     "output_type": "stream",
     "text": [
      "Collecting dmba\n",
      "  Downloading dmba-0.1.0-py3-none-any.whl (11.8 MB)\n",
      "\u001b[K     |████████████████████████████████| 11.8 MB 11.7 MB/s eta 0:00:01   |████████▉                       | 3.3 MB 4.0 MB/s eta 0:00:03\n",
      "\u001b[?25hInstalling collected packages: dmba\n",
      "Successfully installed dmba-0.1.0\n",
      "Note: you may need to restart the kernel to use updated packages.\n"
     ]
    }
   ],
   "source": [
    "pip install dmba"
   ]
  },
  {
   "cell_type": "code",
   "execution_count": 2,
   "id": "7356626b",
   "metadata": {},
   "outputs": [],
   "source": [
    "%matplotlib inline\n",
    "\n",
    "\n",
    "import math\n",
    "from pathlib import Path\n",
    "import pandas as pd\n",
    "from sklearn.model_selection import train_test_split\n",
    "from sklearn.linear_model import LinearRegression\n",
    "from sklearn.metrics import accuracy_score, roc_curve, auc\n",
    "import matplotlib.pylab as plt\n",
    "\n",
    "from dmba import regressionSummary, classificationSummary, liftChart, gainsChart"
   ]
  },
  {
   "cell_type": "markdown",
   "id": "be2dcca2",
   "metadata": {},
   "source": [
    "## 5.2 예측성능의 평가\n",
    "### code for accuracy measure"
   ]
  },
  {
   "cell_type": "code",
   "execution_count": 3,
   "id": "b821b7fd",
   "metadata": {},
   "outputs": [
    {
     "data": {
      "text/html": [
       "<div>\n",
       "<style scoped>\n",
       "    .dataframe tbody tr th:only-of-type {\n",
       "        vertical-align: middle;\n",
       "    }\n",
       "\n",
       "    .dataframe tbody tr th {\n",
       "        vertical-align: top;\n",
       "    }\n",
       "\n",
       "    .dataframe thead th {\n",
       "        text-align: right;\n",
       "    }\n",
       "</style>\n",
       "<table border=\"1\" class=\"dataframe\">\n",
       "  <thead>\n",
       "    <tr style=\"text-align: right;\">\n",
       "      <th></th>\n",
       "      <th>Id</th>\n",
       "      <th>Model</th>\n",
       "      <th>Price</th>\n",
       "      <th>Age_08_04</th>\n",
       "      <th>Mfg_Month</th>\n",
       "      <th>Mfg_Year</th>\n",
       "      <th>KM</th>\n",
       "      <th>Fuel_Type</th>\n",
       "      <th>HP</th>\n",
       "      <th>Met_Color</th>\n",
       "      <th>...</th>\n",
       "      <th>Powered_Windows</th>\n",
       "      <th>Power_Steering</th>\n",
       "      <th>Radio</th>\n",
       "      <th>Mistlamps</th>\n",
       "      <th>Sport_Model</th>\n",
       "      <th>Backseat_Divider</th>\n",
       "      <th>Metallic_Rim</th>\n",
       "      <th>Radio_cassette</th>\n",
       "      <th>Parking_Assistant</th>\n",
       "      <th>Tow_Bar</th>\n",
       "    </tr>\n",
       "  </thead>\n",
       "  <tbody>\n",
       "    <tr>\n",
       "      <th>0</th>\n",
       "      <td>1</td>\n",
       "      <td>TOYOTA Corolla 2.0 D4D HATCHB TERRA 2/3-Doors</td>\n",
       "      <td>13500</td>\n",
       "      <td>23</td>\n",
       "      <td>10</td>\n",
       "      <td>2002</td>\n",
       "      <td>46986</td>\n",
       "      <td>Diesel</td>\n",
       "      <td>90</td>\n",
       "      <td>1</td>\n",
       "      <td>...</td>\n",
       "      <td>1</td>\n",
       "      <td>1</td>\n",
       "      <td>0</td>\n",
       "      <td>0</td>\n",
       "      <td>0</td>\n",
       "      <td>1</td>\n",
       "      <td>0</td>\n",
       "      <td>0</td>\n",
       "      <td>0</td>\n",
       "      <td>0</td>\n",
       "    </tr>\n",
       "    <tr>\n",
       "      <th>1</th>\n",
       "      <td>2</td>\n",
       "      <td>TOYOTA Corolla 2.0 D4D HATCHB TERRA 2/3-Doors</td>\n",
       "      <td>13750</td>\n",
       "      <td>23</td>\n",
       "      <td>10</td>\n",
       "      <td>2002</td>\n",
       "      <td>72937</td>\n",
       "      <td>Diesel</td>\n",
       "      <td>90</td>\n",
       "      <td>1</td>\n",
       "      <td>...</td>\n",
       "      <td>0</td>\n",
       "      <td>1</td>\n",
       "      <td>0</td>\n",
       "      <td>0</td>\n",
       "      <td>0</td>\n",
       "      <td>1</td>\n",
       "      <td>0</td>\n",
       "      <td>0</td>\n",
       "      <td>0</td>\n",
       "      <td>0</td>\n",
       "    </tr>\n",
       "  </tbody>\n",
       "</table>\n",
       "<p>2 rows × 39 columns</p>\n",
       "</div>"
      ],
      "text/plain": [
       "   Id                                          Model  Price  Age_08_04  \\\n",
       "0   1  TOYOTA Corolla 2.0 D4D HATCHB TERRA 2/3-Doors  13500         23   \n",
       "1   2  TOYOTA Corolla 2.0 D4D HATCHB TERRA 2/3-Doors  13750         23   \n",
       "\n",
       "   Mfg_Month  Mfg_Year     KM Fuel_Type  HP  Met_Color  ... Powered_Windows  \\\n",
       "0         10      2002  46986    Diesel  90          1  ...               1   \n",
       "1         10      2002  72937    Diesel  90          1  ...               0   \n",
       "\n",
       "   Power_Steering  Radio  Mistlamps  Sport_Model  Backseat_Divider  \\\n",
       "0               1      0          0            0                 1   \n",
       "1               1      0          0            0                 1   \n",
       "\n",
       "   Metallic_Rim  Radio_cassette  Parking_Assistant  Tow_Bar  \n",
       "0             0               0                  0        0  \n",
       "1             0               0                  0        0  \n",
       "\n",
       "[2 rows x 39 columns]"
      ]
     },
     "execution_count": 3,
     "metadata": {},
     "output_type": "execute_result"
    }
   ],
   "source": [
    "# reduce data frame to the top 1000 rows and select columns for regression analysis\n",
    "car_df = pd.read_csv('ToyotaCorolla.csv')\n",
    "car_df.head(2)"
   ]
  },
  {
   "cell_type": "code",
   "execution_count": 4,
   "id": "b8ccaff2",
   "metadata": {},
   "outputs": [],
   "source": [
    "# create a list of predictor variables by removing output variables and text coulumns\n",
    "excludeColumns = ('Price', 'Id',  'Model', 'Fuel_Type', 'Color')\n",
    "predictors = [s for s in car_df.columns if s not in excludeColumns]\n",
    "outcome = 'Price'"
   ]
  },
  {
   "cell_type": "code",
   "execution_count": 5,
   "id": "230eb5ce",
   "metadata": {},
   "outputs": [],
   "source": [
    "# partition data\n",
    "x = car_df[predictors]\n",
    "y = car_df[outcome]\n",
    "train_x, valid_x, train_y, valid_y = train_test_split(x, y, test_size=0.4, random_state = 1)"
   ]
  },
  {
   "cell_type": "code",
   "execution_count": 6,
   "id": "722d152b",
   "metadata": {},
   "outputs": [
    {
     "data": {
      "text/plain": [
       "LinearRegression()"
      ]
     },
     "execution_count": 6,
     "metadata": {},
     "output_type": "execute_result"
    }
   ],
   "source": [
    "# train linear regression model\n",
    "reg = LinearRegression()\n",
    "reg.fit(train_x, train_y)"
   ]
  },
  {
   "cell_type": "code",
   "execution_count": 7,
   "id": "c6f92d4f",
   "metadata": {},
   "outputs": [
    {
     "name": "stdout",
     "output_type": "stream",
     "text": [
      "\n",
      "Regression statistics\n",
      "\n",
      "                      Mean Error (ME) : 0.0000\n",
      "       Root Mean Squared Error (RMSE) : 1121.0606\n",
      "            Mean Absolute Error (MAE) : 811.6770\n",
      "          Mean Percentage Error (MPE) : -0.8630\n",
      "Mean Absolute Percentage Error (MAPE) : 8.0054\n",
      "\n",
      "Regression statistics\n",
      "\n",
      "                      Mean Error (ME) : 97.1891\n",
      "       Root Mean Squared Error (RMSE) : 1382.0352\n",
      "            Mean Absolute Error (MAE) : 880.1396\n",
      "          Mean Percentage Error (MPE) : 0.0138\n",
      "Mean Absolute Percentage Error (MAPE) : 8.8744\n"
     ]
    }
   ],
   "source": [
    "# evaluate performance (예측 정확성 측도들을 보여줌)\n",
    "# training\n",
    "regressionSummary(train_y, reg.predict(train_x))\n",
    "# validation\n",
    "regressionSummary(valid_y, reg.predict(valid_x))"
   ]
  },
  {
   "cell_type": "markdown",
   "id": "fcde3b72",
   "metadata": {},
   "source": [
    "### code for creating Figure 5.1"
   ]
  },
  {
   "cell_type": "code",
   "execution_count": 8,
   "id": "81c9086e",
   "metadata": {},
   "outputs": [
    {
     "data": {
      "text/html": [
       "<div>\n",
       "<style scoped>\n",
       "    .dataframe tbody tr th:only-of-type {\n",
       "        vertical-align: middle;\n",
       "    }\n",
       "\n",
       "    .dataframe tbody tr th {\n",
       "        vertical-align: top;\n",
       "    }\n",
       "\n",
       "    .dataframe thead th {\n",
       "        text-align: right;\n",
       "    }\n",
       "</style>\n",
       "<table border=\"1\" class=\"dataframe\">\n",
       "  <thead>\n",
       "    <tr style=\"text-align: right;\">\n",
       "      <th></th>\n",
       "      <th>residual</th>\n",
       "      <th>data set</th>\n",
       "    </tr>\n",
       "  </thead>\n",
       "  <tbody>\n",
       "    <tr>\n",
       "      <th>1431</th>\n",
       "      <td>1789.218032</td>\n",
       "      <td>validation</td>\n",
       "    </tr>\n",
       "    <tr>\n",
       "      <th>1432</th>\n",
       "      <td>-551.272524</td>\n",
       "      <td>validation</td>\n",
       "    </tr>\n",
       "    <tr>\n",
       "      <th>1433</th>\n",
       "      <td>1050.051714</td>\n",
       "      <td>validation</td>\n",
       "    </tr>\n",
       "    <tr>\n",
       "      <th>1434</th>\n",
       "      <td>53.907218</td>\n",
       "      <td>validation</td>\n",
       "    </tr>\n",
       "    <tr>\n",
       "      <th>1435</th>\n",
       "      <td>-1048.185935</td>\n",
       "      <td>validation</td>\n",
       "    </tr>\n",
       "  </tbody>\n",
       "</table>\n",
       "</div>"
      ],
      "text/plain": [
       "         residual    data set\n",
       "1431  1789.218032  validation\n",
       "1432  -551.272524  validation\n",
       "1433  1050.051714  validation\n",
       "1434    53.907218  validation\n",
       "1435 -1048.185935  validation"
      ]
     },
     "execution_count": 8,
     "metadata": {},
     "output_type": "execute_result"
    }
   ],
   "source": [
    "pred_error_train = pd.DataFrame({ 'residual' : train_y - reg.predict(train_x),\n",
    "                                  'data set' : 'training'})\n",
    "pred_error_valid = pd.DataFrame({ 'residual' : valid_y - reg.predict(valid_x),\n",
    "                                  'data set' : 'validation'})\n",
    "boxdata_df = pred_error_train.append(pred_error_valid, ignore_index = True)\n",
    "boxdata_df.tail()"
   ]
  },
  {
   "cell_type": "code",
   "execution_count": 9,
   "id": "81267167",
   "metadata": {},
   "outputs": [
    {
     "data": {
      "image/png": "[encoded data removed]",
      "text/plain": [
       "<Figure size 648x288 with 3 Axes>"
      ]
     },
     "metadata": {
      "needs_background": "light"
     },
     "output_type": "display_data"
    }
   ],
   "source": [
    "fig, axes = plt.subplots(nrows=1, ncols=3)\n",
    "fig.set_size_inches(9,4)\n",
    "common = {'bins':100, 'range':[-6500, 6500]}\n",
    "pred_error_train.hist(ax=axes[0], **common)\n",
    "pred_error_valid.hist(ax=axes[1], **common)\n",
    "boxdata_df.boxplot(ax=axes[2], by='data set')\n",
    "\n",
    "axes[0].set_title('training')\n",
    "axes[1].set_title('validation')\n",
    "axes[2].set_title('')\n",
    "axes[2].set_ylim(-6500, 6500)\n",
    "\n",
    "plt.suptitle('Prediction errors')\n",
    "plt.subplots_adjust(bottom=0.1, top=0.85, wspace=0.35)\n",
    "plt.show()"
   ]
  },
  {
   "cell_type": "markdown",
   "id": "62487e8c",
   "metadata": {},
   "source": [
    "### code for generating cumulative gains and decline lift chart in Figure 5.2"
   ]
  },
  {
   "cell_type": "code",
   "execution_count": 10,
   "id": "0a134623",
   "metadata": {},
   "outputs": [
    {
     "data": {
      "text/plain": [
       "34     26916.095816\n",
       "174    23740.895466\n",
       "519    22166.103042\n",
       "569    21855.869942\n",
       "252    21782.133511\n",
       "           ...     \n",
       "518     5282.235373\n",
       "336     5151.788800\n",
       "268     4954.704555\n",
       "59      3600.518386\n",
       "28     -1033.225248\n",
       "Length: 575, dtype: float64"
      ]
     },
     "execution_count": 10,
     "metadata": {},
     "output_type": "execute_result"
    }
   ],
   "source": [
    "pred_v = pd.Series(reg.predict(valid_x)) # 아까 만든 회귀분석모델 계속 이용\n",
    "pred_v = pred_v.sort_values(ascending=False) # 예측값이 높은 것부터 내림차순으로 정렬\n",
    "pred_v"
   ]
  },
  {
   "cell_type": "code",
   "execution_count": 13,
   "id": "25dbb3e1",
   "metadata": {},
   "outputs": [
    {
     "data": {
      "image/png": "[encoded data removed]",
      "text/plain": [
       "<Figure size 432x288 with 2 Axes>"
      ]
     },
     "metadata": {
      "needs_background": "light"
     },
     "output_type": "display_data"
    }
   ],
   "source": [
    "fig, axes = plt.subplots(nrows = 1, ncols = 2)\n",
    "ax = gainsChart(pred_v, ax=axes[0]) # Cumulative chart 그리는 함수 : gainsChart (?)\n",
    "ax.set_ylabel('Cumulative Price')\n",
    "ax.set_title('Cumulative Gains Chart')\n",
    "\n",
    "ax = liftChart(pred_v, ax=axes[1], labelBars = False) # 10분위 상향차트 그리는 함수 : liftChart (?)\n",
    "ax.set_ylabel('Lift')\n",
    "\n",
    "plt.tight_layout()\n",
    "plt.show()"
   ]
  },
  {
   "cell_type": "markdown",
   "id": "2ca97236",
   "metadata": {},
   "source": [
    "### Table 5.5 Confusion matrices based on cutoffs of 0.5, 0.25 and 0.75 (riding mowers example)"
   ]
  },
  {
   "cell_type": "code",
   "execution_count": 16,
   "id": "438fb2c5",
   "metadata": {},
   "outputs": [
    {
     "data": {
      "text/html": [
       "<div>\n",
       "<style scoped>\n",
       "    .dataframe tbody tr th:only-of-type {\n",
       "        vertical-align: middle;\n",
       "    }\n",
       "\n",
       "    .dataframe tbody tr th {\n",
       "        vertical-align: top;\n",
       "    }\n",
       "\n",
       "    .dataframe thead th {\n",
       "        text-align: right;\n",
       "    }\n",
       "</style>\n",
       "<table border=\"1\" class=\"dataframe\">\n",
       "  <thead>\n",
       "    <tr style=\"text-align: right;\">\n",
       "      <th></th>\n",
       "      <th>Class</th>\n",
       "      <th>Probability</th>\n",
       "    </tr>\n",
       "  </thead>\n",
       "  <tbody>\n",
       "    <tr>\n",
       "      <th>0</th>\n",
       "      <td>owner</td>\n",
       "      <td>0.9959</td>\n",
       "    </tr>\n",
       "    <tr>\n",
       "      <th>1</th>\n",
       "      <td>owner</td>\n",
       "      <td>0.9875</td>\n",
       "    </tr>\n",
       "    <tr>\n",
       "      <th>2</th>\n",
       "      <td>owner</td>\n",
       "      <td>0.9844</td>\n",
       "    </tr>\n",
       "    <tr>\n",
       "      <th>3</th>\n",
       "      <td>owner</td>\n",
       "      <td>0.9804</td>\n",
       "    </tr>\n",
       "    <tr>\n",
       "      <th>4</th>\n",
       "      <td>owner</td>\n",
       "      <td>0.9481</td>\n",
       "    </tr>\n",
       "  </tbody>\n",
       "</table>\n",
       "</div>"
      ],
      "text/plain": [
       "   Class  Probability\n",
       "0  owner       0.9959\n",
       "1  owner       0.9875\n",
       "2  owner       0.9844\n",
       "3  owner       0.9804\n",
       "4  owner       0.9481"
      ]
     },
     "execution_count": 16,
     "metadata": {},
     "output_type": "execute_result"
    }
   ],
   "source": [
    "owner_df = pd.read_csv('ownerExample.csv')\n",
    "owner_df.head()"
   ]
  },
  {
   "cell_type": "code",
   "execution_count": 17,
   "id": "850f70cb",
   "metadata": {},
   "outputs": [],
   "source": [
    "## cutoff = 0.5\n",
    "\n",
    "predicted = ['owner' if p>0.5 else 'nonowner' for p in owner_df.Probability]"
   ]
  },
  {
   "cell_type": "code",
   "execution_count": 18,
   "id": "0f63bb64",
   "metadata": {},
   "outputs": [
    {
     "name": "stdout",
     "output_type": "stream",
     "text": [
      "Confusion Matrix (Accuracy 0.8750)\n",
      "\n",
      "         Prediction\n",
      "  Actual nonowner    owner\n",
      "nonowner       10        2\n",
      "   owner        1       11\n"
     ]
    }
   ],
   "source": [
    "classificationSummary(owner_df.Class, predicted, class_names = ['nonowner', 'owner'])\n",
    "# Confusion Matrix 생성 함수 : classificationSummary(진짜, 예측한거, 클래스 이름)"
   ]
  },
  {
   "cell_type": "code",
   "execution_count": 11,
   "id": "190382bd",
   "metadata": {},
   "outputs": [
    {
     "name": "stdout",
     "output_type": "stream",
     "text": [
      "Confusion Matrix (Accuracy 0.7917)\n",
      "\n",
      "         Prediction\n",
      "  Actual nonowner    owner\n",
      "nonowner        8        4\n",
      "   owner        1       11\n"
     ]
    }
   ],
   "source": [
    "## cutoff = 0.25\n",
    "\n",
    "predicted = ['owner' if p>0.25 else 'nonowner' for p in owner_df.Probability]\n",
    "classificationSummary(owner_df.Class, predicted, class_names = ['nonowner','owner'])"
   ]
  },
  {
   "cell_type": "code",
   "execution_count": 20,
   "id": "ea3da37c",
   "metadata": {},
   "outputs": [
    {
     "name": "stdout",
     "output_type": "stream",
     "text": [
      "Confusion Matrix (Accuracy 0.7500)\n",
      "\n",
      "         Prediction\n",
      "  Actual nonowner    owner\n",
      "nonowner       11        1\n",
      "   owner        5        7\n"
     ]
    }
   ],
   "source": [
    "## cutoff = 0.75\n",
    "\n",
    "predicted = ['owner' if p>0.75 else 'nonowner' for p in owner_df.Probability]\n",
    "classificationSummary(owner_df.Class, predicted, class_names = ['nonowner','owner'])"
   ]
  },
  {
   "cell_type": "markdown",
   "id": "ad280ecb",
   "metadata": {},
   "source": [
    "### code for creating Figure 5.4"
   ]
  },
  {
   "cell_type": "code",
   "execution_count": 21,
   "id": "62eeb028",
   "metadata": {},
   "outputs": [
    {
     "data": {
      "text/html": [
       "<div>\n",
       "<style scoped>\n",
       "    .dataframe tbody tr th:only-of-type {\n",
       "        vertical-align: middle;\n",
       "    }\n",
       "\n",
       "    .dataframe tbody tr th {\n",
       "        vertical-align: top;\n",
       "    }\n",
       "\n",
       "    .dataframe thead th {\n",
       "        text-align: right;\n",
       "    }\n",
       "</style>\n",
       "<table border=\"1\" class=\"dataframe\">\n",
       "  <thead>\n",
       "    <tr style=\"text-align: right;\">\n",
       "      <th></th>\n",
       "      <th>prob</th>\n",
       "      <th>actual</th>\n",
       "      <th>Unnamed: 2</th>\n",
       "      <th>Unnamed: 3</th>\n",
       "      <th>Unnamed: 4</th>\n",
       "    </tr>\n",
       "  </thead>\n",
       "  <tbody>\n",
       "    <tr>\n",
       "      <th>0</th>\n",
       "      <td>0.995</td>\n",
       "      <td>1</td>\n",
       "      <td>NaN</td>\n",
       "      <td>NaN</td>\n",
       "      <td>NaN</td>\n",
       "    </tr>\n",
       "    <tr>\n",
       "      <th>1</th>\n",
       "      <td>0.998</td>\n",
       "      <td>1</td>\n",
       "      <td>NaN</td>\n",
       "      <td>NaN</td>\n",
       "      <td>NaN</td>\n",
       "    </tr>\n",
       "    <tr>\n",
       "      <th>2</th>\n",
       "      <td>0.985</td>\n",
       "      <td>1</td>\n",
       "      <td>NaN</td>\n",
       "      <td>NaN</td>\n",
       "      <td>NaN</td>\n",
       "    </tr>\n",
       "    <tr>\n",
       "      <th>3</th>\n",
       "      <td>0.980</td>\n",
       "      <td>1</td>\n",
       "      <td>NaN</td>\n",
       "      <td>NaN</td>\n",
       "      <td>NaN</td>\n",
       "    </tr>\n",
       "    <tr>\n",
       "      <th>4</th>\n",
       "      <td>0.948</td>\n",
       "      <td>1</td>\n",
       "      <td>NaN</td>\n",
       "      <td>NaN</td>\n",
       "      <td>NaN</td>\n",
       "    </tr>\n",
       "  </tbody>\n",
       "</table>\n",
       "</div>"
      ],
      "text/plain": [
       "    prob  actual  Unnamed: 2  Unnamed: 3 Unnamed: 4\n",
       "0  0.995       1         NaN         NaN        NaN\n",
       "1  0.998       1         NaN         NaN        NaN\n",
       "2  0.985       1         NaN         NaN        NaN\n",
       "3  0.980       1         NaN         NaN        NaN\n",
       "4  0.948       1         NaN         NaN        NaN"
      ]
     },
     "execution_count": 21,
     "metadata": {},
     "output_type": "execute_result"
    }
   ],
   "source": [
    "df = pd.read_csv('liftexample.csv')\n",
    "df.head()"
   ]
  },
  {
   "cell_type": "code",
   "execution_count": 25,
   "id": "8f0af930",
   "metadata": {},
   "outputs": [],
   "source": [
    "cutoffs = [i*0.1 for i in range(0,11)]\n",
    "accT = []\n",
    "for cutoff in cutoffs:\n",
    "    predicted = [1 if p>cutoff else 0 for p in df.prob]\n",
    "    accT.append(accuracy_score(df.actual, predicted)) # accuracy_score : accuracy 값을 내놓는 함수"
   ]
  },
  {
   "cell_type": "code",
   "execution_count": 34,
   "id": "349535f0",
   "metadata": {},
   "outputs": [
    {
     "data": {
      "image/png": "[encoded data removed]",
      "text/plain": [
       "<Figure size 432x288 with 1 Axes>"
      ]
     },
     "metadata": {
      "needs_background": "light"
     },
     "output_type": "display_data"
    }
   ],
   "source": [
    "line_accuracy = plt.plot(cutoffs, accT, '-', label='Accuracy')[0] # 이것도 axes의 [0]번째에 그리고\n",
    "line_error = plt.plot(cutoffs, [1 - acc for acc in accT], '--', label='Overall error')[0] # 이것도 [0]번째에 그린다 (아마?)\n",
    "# err = 1 - accuracy\n",
    "plt.ylim([0,1])\n",
    "plt.xlabel('Cutoff Value')\n",
    "plt.legend(handles = [line_accuracy, line_error])\n",
    "plt.show()"
   ]
  },
  {
   "cell_type": "markdown",
   "id": "2b8e8271",
   "metadata": {},
   "source": [
    "### code for generating ROC curve and computing AUC"
   ]
  },
  {
   "cell_type": "code",
   "execution_count": 37,
   "id": "05535e09",
   "metadata": {},
   "outputs": [],
   "source": [
    "# compute ROC curve and AUC\n",
    "fpr, tpr, _ = roc_curve(df.actual, df.prob)\n",
    "roc_auc = auc(fpr, tpr)"
   ]
  },
  {
   "cell_type": "code",
   "execution_count": 43,
   "id": "2de4709e",
   "metadata": {},
   "outputs": [
    {
     "data": {
      "image/png": "[encoded data removed]",
      "text/plain": [
       "<Figure size 360x360 with 1 Axes>"
      ]
     },
     "metadata": {
      "needs_background": "light"
     },
     "output_type": "display_data"
    }
   ],
   "source": [
    "plt.figure(figsize=[5,5])\n",
    "plt.plot(fpr, tpr, color = 'darkorange',\n",
    "         lw=2, label='ROC curve (area=0.4f)' % roc_auc)\n",
    "plt.plot([0,1],[0,1],color='navy',lw=2,linestyle='--')\n",
    "plt.xlim([0.0,1.0])\n",
    "plt.ylim([0.0, 1.05])\n",
    "plt.xlabel('False Positive Rate (1 - Specificity)') # 1-특이도 / 특이도 : 중요하지 않은 클래스를 올바르게 제거하는 능력\n",
    "plt.ylabel('True Positive Rate (Sensivity)') # 민감도 : 중요한 클래스를 올바르게 검사하는 능력 \n",
    "plt.legend(loc='lower right')\n",
    "plt.show()"
   ]
  },
  {
   "cell_type": "markdown",
   "id": "bcc03f10",
   "metadata": {},
   "source": [
    "참고 : https://pyopyo03.tistory.com/8\n",
    "\n",
    "ROC커브의 밑면적(the Area Under a ROC Curve; AUC; AUROC) \n",
    "- ROC 커브의 X,Y축은 [0,1]의 범위며, (0,0) 에서 (1,1)을 잇는 곡선 \n",
    "\n",
    "- ROC 커브의 밑 면적이 1에 가까울수록(즉, 왼쪽 상단 꼭지점에 다가갈수록) 좋은 성능 \n",
    "\n",
    "- 이때의 면적(AUC)은 0.5~1의 범위를 가짐(0.5면 성능이 전혀 없음. 1이면 최고의 성능) \n",
    "\n",
    "\n",
    "AUC 해석 \n",
    "- 쉽게 1로 예측하는 경우 민감도는 높아지지만 모든 경우를 1이라고 하므로 특이도가 낮아진다. \n",
    "\n",
    "- 그러므로 이 민감도와 특이도 모두 1에 가까워야 의미가 있음 \n",
    "\n",
    "- 따라서ROC커브를 그릴때 특이도를 1-특이도를 X축에 놓고, Y축에 민감도를 놓는다. \n",
    "\n",
    "- 그러면 x=0일때 y=1인 경우 최적의 성능이고, 점점 우측 아래로 갈수록, 즉 특이도가 감소하는 속도에비해 얼마나 빠르게 민감도가 증가하는지를 나타냄. \n",
    "\n",
    "- AUC값은 전체적인 민감도와 특이도의 상관 관계를 보여줄 수 있어 매우 편리한 성능 측정 기준임 \n",
    "\n",
    "\n",
    "\n"
   ]
  },
  {
   "cell_type": "markdown",
   "id": "7427350b",
   "metadata": {},
   "source": [
    "### code for creating a cumulative gains chart"
   ]
  },
  {
   "cell_type": "code",
   "execution_count": 3,
   "id": "a6287d7f",
   "metadata": {},
   "outputs": [
    {
     "data": {
      "text/html": [
       "<div>\n",
       "<style scoped>\n",
       "    .dataframe tbody tr th:only-of-type {\n",
       "        vertical-align: middle;\n",
       "    }\n",
       "\n",
       "    .dataframe tbody tr th {\n",
       "        vertical-align: top;\n",
       "    }\n",
       "\n",
       "    .dataframe thead th {\n",
       "        text-align: right;\n",
       "    }\n",
       "</style>\n",
       "<table border=\"1\" class=\"dataframe\">\n",
       "  <thead>\n",
       "    <tr style=\"text-align: right;\">\n",
       "      <th></th>\n",
       "      <th>prob</th>\n",
       "      <th>actual</th>\n",
       "      <th>Unnamed: 2</th>\n",
       "      <th>Unnamed: 3</th>\n",
       "      <th>Unnamed: 4</th>\n",
       "    </tr>\n",
       "  </thead>\n",
       "  <tbody>\n",
       "    <tr>\n",
       "      <th>0</th>\n",
       "      <td>0.995</td>\n",
       "      <td>1</td>\n",
       "      <td>NaN</td>\n",
       "      <td>NaN</td>\n",
       "      <td>NaN</td>\n",
       "    </tr>\n",
       "    <tr>\n",
       "      <th>1</th>\n",
       "      <td>0.998</td>\n",
       "      <td>1</td>\n",
       "      <td>NaN</td>\n",
       "      <td>NaN</td>\n",
       "      <td>NaN</td>\n",
       "    </tr>\n",
       "    <tr>\n",
       "      <th>2</th>\n",
       "      <td>0.985</td>\n",
       "      <td>1</td>\n",
       "      <td>NaN</td>\n",
       "      <td>NaN</td>\n",
       "      <td>NaN</td>\n",
       "    </tr>\n",
       "    <tr>\n",
       "      <th>3</th>\n",
       "      <td>0.980</td>\n",
       "      <td>1</td>\n",
       "      <td>NaN</td>\n",
       "      <td>NaN</td>\n",
       "      <td>NaN</td>\n",
       "    </tr>\n",
       "    <tr>\n",
       "      <th>4</th>\n",
       "      <td>0.948</td>\n",
       "      <td>1</td>\n",
       "      <td>NaN</td>\n",
       "      <td>NaN</td>\n",
       "      <td>NaN</td>\n",
       "    </tr>\n",
       "  </tbody>\n",
       "</table>\n",
       "</div>"
      ],
      "text/plain": [
       "    prob  actual  Unnamed: 2  Unnamed: 3 Unnamed: 4\n",
       "0  0.995       1         NaN         NaN        NaN\n",
       "1  0.998       1         NaN         NaN        NaN\n",
       "2  0.985       1         NaN         NaN        NaN\n",
       "3  0.980       1         NaN         NaN        NaN\n",
       "4  0.948       1         NaN         NaN        NaN"
      ]
     },
     "execution_count": 3,
     "metadata": {},
     "output_type": "execute_result"
    }
   ],
   "source": [
    "df = pd.read_csv('liftexample.csv')\n",
    "df.head()"
   ]
  },
  {
   "cell_type": "code",
   "execution_count": 4,
   "id": "dee06bff",
   "metadata": {},
   "outputs": [
    {
     "data": {
      "text/html": [
       "<div>\n",
       "<style scoped>\n",
       "    .dataframe tbody tr th:only-of-type {\n",
       "        vertical-align: middle;\n",
       "    }\n",
       "\n",
       "    .dataframe tbody tr th {\n",
       "        vertical-align: top;\n",
       "    }\n",
       "\n",
       "    .dataframe thead th {\n",
       "        text-align: right;\n",
       "    }\n",
       "</style>\n",
       "<table border=\"1\" class=\"dataframe\">\n",
       "  <thead>\n",
       "    <tr style=\"text-align: right;\">\n",
       "      <th></th>\n",
       "      <th>prob</th>\n",
       "      <th>actual</th>\n",
       "      <th>Unnamed: 2</th>\n",
       "      <th>Unnamed: 3</th>\n",
       "      <th>Unnamed: 4</th>\n",
       "    </tr>\n",
       "  </thead>\n",
       "  <tbody>\n",
       "    <tr>\n",
       "      <th>1</th>\n",
       "      <td>0.998</td>\n",
       "      <td>1</td>\n",
       "      <td>NaN</td>\n",
       "      <td>NaN</td>\n",
       "      <td>NaN</td>\n",
       "    </tr>\n",
       "    <tr>\n",
       "      <th>0</th>\n",
       "      <td>0.995</td>\n",
       "      <td>1</td>\n",
       "      <td>NaN</td>\n",
       "      <td>NaN</td>\n",
       "      <td>NaN</td>\n",
       "    </tr>\n",
       "    <tr>\n",
       "      <th>2</th>\n",
       "      <td>0.985</td>\n",
       "      <td>1</td>\n",
       "      <td>NaN</td>\n",
       "      <td>NaN</td>\n",
       "      <td>NaN</td>\n",
       "    </tr>\n",
       "    <tr>\n",
       "      <th>3</th>\n",
       "      <td>0.980</td>\n",
       "      <td>1</td>\n",
       "      <td>NaN</td>\n",
       "      <td>NaN</td>\n",
       "      <td>NaN</td>\n",
       "    </tr>\n",
       "    <tr>\n",
       "      <th>4</th>\n",
       "      <td>0.948</td>\n",
       "      <td>1</td>\n",
       "      <td>NaN</td>\n",
       "      <td>NaN</td>\n",
       "      <td>NaN</td>\n",
       "    </tr>\n",
       "  </tbody>\n",
       "</table>\n",
       "</div>"
      ],
      "text/plain": [
       "    prob  actual  Unnamed: 2  Unnamed: 3 Unnamed: 4\n",
       "1  0.998       1         NaN         NaN        NaN\n",
       "0  0.995       1         NaN         NaN        NaN\n",
       "2  0.985       1         NaN         NaN        NaN\n",
       "3  0.980       1         NaN         NaN        NaN\n",
       "4  0.948       1         NaN         NaN        NaN"
      ]
     },
     "execution_count": 4,
     "metadata": {},
     "output_type": "execute_result"
    }
   ],
   "source": [
    "df = df.sort_values(by=['prob'], ascending=False) # 경향기준으로 내림차순 정렬\n",
    "df.head()"
   ]
  },
  {
   "cell_type": "code",
   "execution_count": 7,
   "id": "44fdeedc",
   "metadata": {},
   "outputs": [
    {
     "data": {
      "image/png": "[encoded data removed]",
      "text/plain": [
       "<Figure size 288x288 with 1 Axes>"
      ]
     },
     "metadata": {
      "needs_background": "light"
     },
     "output_type": "display_data"
    }
   ],
   "source": [
    "gainsChart(df.actual, figsize=(4,4))\n",
    "plt.show()"
   ]
  },
  {
   "cell_type": "markdown",
   "id": "6fa642d4",
   "metadata": {},
   "source": [
    "### code for creating a decline lift chart"
   ]
  },
  {
   "cell_type": "code",
   "execution_count": 8,
   "id": "6e35645b",
   "metadata": {},
   "outputs": [
    {
     "data": {
      "image/png": "[encoded data removed]",
      "text/plain": [
       "<Figure size 432x288 with 1 Axes>"
      ]
     },
     "metadata": {
      "needs_background": "light"
     },
     "output_type": "display_data"
    }
   ],
   "source": [
    "# use liftchart method from utilities\n",
    "liftChart(df.actual, labelBars=False)\n",
    "plt.show()"
   ]
  }
 ],
 "metadata": {
  "kernelspec": {
   "display_name": "Python 3 (ipykernel)",
   "language": "python",
   "name": "python3"
  },
  "language_info": {
   "codemirror_mode": {
    "name": "ipython",
    "version": 3
   },
   "file_extension": ".py",
   "mimetype": "text/x-python",
   "name": "python",
   "nbconvert_exporter": "python",
   "pygments_lexer": "ipython3",
   "version": "3.9.7"
  }
 },
 "nbformat": 4,
 "nbformat_minor": 5
}
