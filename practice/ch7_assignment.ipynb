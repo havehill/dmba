{
 "cells": [
  {
   "cell_type": "code",
   "execution_count": 13,
   "id": "d2877261",
   "metadata": {},
   "outputs": [],
   "source": [
    "%matplotlib inline\n",
    "\n",
    "from pathlib import Path\n",
    "\n",
    "import pandas as pd\n",
    "from sklearn import preprocessing\n",
    "from sklearn.model_selection import train_test_split\n",
    "from sklearn.metrics import accuracy_score\n",
    "from sklearn.neighbors import NearestNeighbors, KNeighborsClassifier\n",
    "import matplotlib.pylab as plt\n",
    "from dmba import classificationSummary"
   ]
  },
  {
   "cell_type": "code",
   "execution_count": 27,
   "id": "b1a2ddcd",
   "metadata": {},
   "outputs": [
    {
     "data": {
      "text/html": [
       "<div>\n",
       "<style scoped>\n",
       "    .dataframe tbody tr th:only-of-type {\n",
       "        vertical-align: middle;\n",
       "    }\n",
       "\n",
       "    .dataframe tbody tr th {\n",
       "        vertical-align: top;\n",
       "    }\n",
       "\n",
       "    .dataframe thead th {\n",
       "        text-align: right;\n",
       "    }\n",
       "</style>\n",
       "<table border=\"1\" class=\"dataframe\">\n",
       "  <thead>\n",
       "    <tr style=\"text-align: right;\">\n",
       "      <th></th>\n",
       "      <th>customer</th>\n",
       "      <th>year</th>\n",
       "      <th>course</th>\n",
       "    </tr>\n",
       "  </thead>\n",
       "  <tbody>\n",
       "    <tr>\n",
       "      <th>0</th>\n",
       "      <td>Stat</td>\n",
       "      <td>1.0</td>\n",
       "      <td>yes</td>\n",
       "    </tr>\n",
       "    <tr>\n",
       "      <th>1</th>\n",
       "      <td>etc</td>\n",
       "      <td>1.1</td>\n",
       "      <td>no</td>\n",
       "    </tr>\n",
       "    <tr>\n",
       "      <th>2</th>\n",
       "      <td>IT</td>\n",
       "      <td>1.0</td>\n",
       "      <td>None</td>\n",
       "    </tr>\n",
       "  </tbody>\n",
       "</table>\n",
       "</div>"
      ],
      "text/plain": [
       "  customer  year course\n",
       "0     Stat   1.0    yes\n",
       "1      etc   1.1     no\n",
       "2       IT   1.0   None"
      ]
     },
     "execution_count": 27,
     "metadata": {},
     "output_type": "execute_result"
    }
   ],
   "source": [
    "stat"
   ]
  },
  {
   "cell_type": "code",
   "execution_count": 52,
   "id": "eb3c75f7",
   "metadata": {},
   "outputs": [
    {
     "data": {
      "text/html": [
       "<div>\n",
       "<style scoped>\n",
       "    .dataframe tbody tr th:only-of-type {\n",
       "        vertical-align: middle;\n",
       "    }\n",
       "\n",
       "    .dataframe tbody tr th {\n",
       "        vertical-align: top;\n",
       "    }\n",
       "\n",
       "    .dataframe thead th {\n",
       "        text-align: right;\n",
       "    }\n",
       "</style>\n",
       "<table border=\"1\" class=\"dataframe\">\n",
       "  <thead>\n",
       "    <tr style=\"text-align: right;\">\n",
       "      <th></th>\n",
       "      <th>year</th>\n",
       "      <th>course</th>\n",
       "      <th>customer_Stat</th>\n",
       "      <th>customer_etc</th>\n",
       "    </tr>\n",
       "  </thead>\n",
       "  <tbody>\n",
       "    <tr>\n",
       "      <th>0</th>\n",
       "      <td>1.0</td>\n",
       "      <td>yes</td>\n",
       "      <td>1</td>\n",
       "      <td>0</td>\n",
       "    </tr>\n",
       "    <tr>\n",
       "      <th>1</th>\n",
       "      <td>1.1</td>\n",
       "      <td>no</td>\n",
       "      <td>0</td>\n",
       "      <td>1</td>\n",
       "    </tr>\n",
       "    <tr>\n",
       "      <th>2</th>\n",
       "      <td>1.0</td>\n",
       "      <td>None</td>\n",
       "      <td>0</td>\n",
       "      <td>0</td>\n",
       "    </tr>\n",
       "  </tbody>\n",
       "</table>\n",
       "</div>"
      ],
      "text/plain": [
       "   year course  customer_Stat  customer_etc\n",
       "0   1.0    yes              1             0\n",
       "1   1.1     no              0             1\n",
       "2   1.0   None              0             0"
      ]
     },
     "execution_count": 52,
     "metadata": {},
     "output_type": "execute_result"
    }
   ],
   "source": [
    "# 7.1\n",
    "# a\n",
    "stat = pd.DataFrame({'customer':['Stat','etc','IT'], 'year':[1,1.1,1], 'course':['yes','no',None]})\n",
    "stat1 = pd.get_dummies(stat,columns=['customer'], drop_first=True)\n",
    "stat2 = pd.get_dummies(stat,columns=['customer'])\n",
    "stat1"
   ]
  },
  {
   "cell_type": "code",
   "execution_count": 53,
   "id": "2d1a3a79",
   "metadata": {},
   "outputs": [
    {
     "name": "stdout",
     "output_type": "stream",
     "text": [
      "[[1.         1.00498756]] [[0 1]]\n"
     ]
    }
   ],
   "source": [
    "# b\n",
    "# 2개 이진변수\n",
    "knn = NearestNeighbors(n_neighbors=2)\n",
    "knn.fit(stat1.iloc[0:2,:].drop(columns='course'))\n",
    "distances, indices = knn.kneighbors(stat1.iloc[[2],:].drop(columns='course'))\n",
    "print(distances, indices)\n",
    "\n"
   ]
  },
  {
   "cell_type": "code",
   "execution_count": 50,
   "id": "f1fa9986",
   "metadata": {},
   "outputs": [
    {
     "name": "stdout",
     "output_type": "stream",
     "text": [
      "[[1.41421356 1.41774469]] [[0 1]]\n"
     ]
    }
   ],
   "source": [
    "# 3개 이진변수\n",
    "knn = NearestNeighbors(n_neighbors=2)\n",
    "knn.fit(stat2.iloc[0:2,:].drop(columns='course'))\n",
    "distances, indices = knn.kneighbors(stat2.iloc[[2],:].drop(columns='course'))\n",
    "print(distances, indices) \n",
    "\n"
   ]
  },
  {
   "cell_type": "code",
   "execution_count": 65,
   "id": "14063593",
   "metadata": {},
   "outputs": [
    {
     "name": "stdout",
     "output_type": "stream",
     "text": [
      "['yes']\n"
     ]
    },
    {
     "name": "stderr",
     "output_type": "stream",
     "text": [
      "/Users/JAE111/opt/anaconda3/lib/python3.9/site-packages/sklearn/neighbors/_classification.py:179: DataConversionWarning: A column-vector y was passed when a 1d array was expected. Please change the shape of y to (n_samples,), for example using ravel().\n",
      "  return self._fit(X, y)\n"
     ]
    }
   ],
   "source": [
    "# c\n",
    "# 2개 이진변수\n",
    "knn = KNeighborsClassifier(n_neighbors=1).fit(stat1.iloc[0:2,:].drop(columns='course'),\n",
    "                                              stat1.iloc[0:2,:][['course']]) # fit\n",
    "print(knn.predict(stat1.iloc[[2],:].drop(columns='course')))"
   ]
  },
  {
   "cell_type": "code",
   "execution_count": 62,
   "id": "dd2b63e1",
   "metadata": {},
   "outputs": [
    {
     "name": "stdout",
     "output_type": "stream",
     "text": [
      "['yes']\n"
     ]
    },
    {
     "name": "stderr",
     "output_type": "stream",
     "text": [
      "/Users/JAE111/opt/anaconda3/lib/python3.9/site-packages/sklearn/neighbors/_classification.py:179: DataConversionWarning: A column-vector y was passed when a 1d array was expected. Please change the shape of y to (n_samples,), for example using ravel().\n",
      "  return self._fit(X, y)\n"
     ]
    }
   ],
   "source": [
    "# 3개 이진변수\n",
    "knn = KNeighborsClassifier(n_neighbors=1).fit(stat2.iloc[0:2,:].drop(columns='course'),\n",
    "                                              stat2.iloc[0:2,:][['course']]) # fit\n",
    "print(knn.predict(stat2.iloc[[2],:].drop(columns='course')))"
   ]
  },
  {
   "cell_type": "code",
   "execution_count": null,
   "id": "abd40673",
   "metadata": {},
   "outputs": [],
   "source": [
    "# 차이가 없다"
   ]
  },
  {
   "cell_type": "code",
   "execution_count": 66,
   "id": "38356326",
   "metadata": {},
   "outputs": [],
   "source": [
    "# 7.2\n",
    "# 반응변수 : Personal Loan"
   ]
  },
  {
   "cell_type": "code",
   "execution_count": 7,
   "id": "ee7d0fc2",
   "metadata": {},
   "outputs": [],
   "source": [
    "bank = pd.read_csv(\"UniversalBank.csv\")\n",
    "bank = bank.drop(columns=['ID','ZIP Code'])\n",
    "bank_ = pd.get_dummies(bank, columns=['Family','Education'])\n",
    "\n",
    "x = bank_.drop(columns=['Personal Loan'])\n",
    "y = bank_['Personal Loan']\n",
    "\n",
    "train_set, valid_set = train_test_split(bank_,test_size=0.4, random_state=1)\n",
    "train_x = train_set.drop(columns=['Personal Loan'])\n",
    "train_y = train_set['Personal Loan']\n",
    "valid_x = valid_set.drop(columns=['Personal Loan'])\n",
    "valid_y = valid_set['Personal Loan']"
   ]
  },
  {
   "cell_type": "code",
   "execution_count": 8,
   "id": "cb1e7de4",
   "metadata": {},
   "outputs": [
    {
     "data": {
      "text/plain": [
       "array([0, 0, 0, ..., 0, 0, 0])"
      ]
     },
     "execution_count": 8,
     "metadata": {},
     "output_type": "execute_result"
    }
   ],
   "source": [
    "# a\n",
    "knn = KNeighborsClassifier(n_neighbors=1).fit(x,y) # fit\n",
    "knn.predict(train_x)"
   ]
  },
  {
   "cell_type": "code",
   "execution_count": 9,
   "id": "a8ad02de",
   "metadata": {},
   "outputs": [
    {
     "data": {
      "text/html": [
       "<div>\n",
       "<style scoped>\n",
       "    .dataframe tbody tr th:only-of-type {\n",
       "        vertical-align: middle;\n",
       "    }\n",
       "\n",
       "    .dataframe tbody tr th {\n",
       "        vertical-align: top;\n",
       "    }\n",
       "\n",
       "    .dataframe thead th {\n",
       "        text-align: right;\n",
       "    }\n",
       "</style>\n",
       "<table border=\"1\" class=\"dataframe\">\n",
       "  <thead>\n",
       "    <tr style=\"text-align: right;\">\n",
       "      <th></th>\n",
       "      <th>k</th>\n",
       "      <th>accuracy</th>\n",
       "    </tr>\n",
       "  </thead>\n",
       "  <tbody>\n",
       "    <tr>\n",
       "      <th>0</th>\n",
       "      <td>1</td>\n",
       "      <td>0.8970</td>\n",
       "    </tr>\n",
       "    <tr>\n",
       "      <th>1</th>\n",
       "      <td>2</td>\n",
       "      <td>0.9040</td>\n",
       "    </tr>\n",
       "    <tr>\n",
       "      <th>2</th>\n",
       "      <td>3</td>\n",
       "      <td>0.9005</td>\n",
       "    </tr>\n",
       "    <tr>\n",
       "      <th>3</th>\n",
       "      <td>4</td>\n",
       "      <td>0.9050</td>\n",
       "    </tr>\n",
       "    <tr>\n",
       "      <th>4</th>\n",
       "      <td>5</td>\n",
       "      <td>0.9030</td>\n",
       "    </tr>\n",
       "    <tr>\n",
       "      <th>5</th>\n",
       "      <td>6</td>\n",
       "      <td>0.9035</td>\n",
       "    </tr>\n",
       "    <tr>\n",
       "      <th>6</th>\n",
       "      <td>7</td>\n",
       "      <td>0.9030</td>\n",
       "    </tr>\n",
       "    <tr>\n",
       "      <th>7</th>\n",
       "      <td>8</td>\n",
       "      <td>0.9020</td>\n",
       "    </tr>\n",
       "    <tr>\n",
       "      <th>8</th>\n",
       "      <td>9</td>\n",
       "      <td>0.9070</td>\n",
       "    </tr>\n",
       "    <tr>\n",
       "      <th>9</th>\n",
       "      <td>10</td>\n",
       "      <td>0.9050</td>\n",
       "    </tr>\n",
       "    <tr>\n",
       "      <th>10</th>\n",
       "      <td>11</td>\n",
       "      <td>0.9025</td>\n",
       "    </tr>\n",
       "    <tr>\n",
       "      <th>11</th>\n",
       "      <td>12</td>\n",
       "      <td>0.9060</td>\n",
       "    </tr>\n",
       "    <tr>\n",
       "      <th>12</th>\n",
       "      <td>13</td>\n",
       "      <td>0.9040</td>\n",
       "    </tr>\n",
       "    <tr>\n",
       "      <th>13</th>\n",
       "      <td>14</td>\n",
       "      <td>0.9050</td>\n",
       "    </tr>\n",
       "  </tbody>\n",
       "</table>\n",
       "</div>"
      ],
      "text/plain": [
       "     k  accuracy\n",
       "0    1    0.8970\n",
       "1    2    0.9040\n",
       "2    3    0.9005\n",
       "3    4    0.9050\n",
       "4    5    0.9030\n",
       "5    6    0.9035\n",
       "6    7    0.9030\n",
       "7    8    0.9020\n",
       "8    9    0.9070\n",
       "9   10    0.9050\n",
       "10  11    0.9025\n",
       "11  12    0.9060\n",
       "12  13    0.9040\n",
       "13  14    0.9050"
      ]
     },
     "execution_count": 9,
     "metadata": {},
     "output_type": "execute_result"
    }
   ],
   "source": [
    "# b\n",
    "results = []\n",
    "for k in range(1,15):\n",
    "    knn = KNeighborsClassifier(n_neighbors=k).fit(train_x, train_y)\n",
    "    results.append({\n",
    "        'k':k, 'accuracy':accuracy_score(valid_y, knn.predict(valid_x))\n",
    "    })\n",
    "# Convert results to a pandas data frame\n",
    "results = pd.DataFrame(results)\n",
    "results\n",
    "# k = 9"
   ]
  },
  {
   "cell_type": "code",
   "execution_count": 35,
   "id": "43832d72",
   "metadata": {},
   "outputs": [
    {
     "name": "stdout",
     "output_type": "stream",
     "text": [
      "Confusion Matrix (Accuracy 0.9020)\n",
      "\n",
      "       Prediction\n",
      "Actual   no  yes\n",
      "    no 1305   44\n",
      "   yes  103   48\n"
     ]
    },
    {
     "name": "stderr",
     "output_type": "stream",
     "text": [
      "/Users/JAE111/opt/anaconda3/lib/python3.9/site-packages/sklearn/neighbors/_classification.py:179: DataConversionWarning: A column-vector y was passed when a 1d array was expected. Please change the shape of y to (n_samples,), for example using ravel().\n",
      "  return self._fit(X, y)\n"
     ]
    }
   ],
   "source": [
    "# c \n",
    "knn = KNeighborsClassifier(n_neighbors=9).fit(train_x, train_y)\n",
    "classificationSummary(valid_y, knn.predict(valid_x), ['no','yes'])"
   ]
  },
  {
   "cell_type": "code",
   "execution_count": 36,
   "id": "34ee5315",
   "metadata": {},
   "outputs": [
    {
     "data": {
      "text/html": [
       "<div>\n",
       "<style scoped>\n",
       "    .dataframe tbody tr th:only-of-type {\n",
       "        vertical-align: middle;\n",
       "    }\n",
       "\n",
       "    .dataframe tbody tr th {\n",
       "        vertical-align: top;\n",
       "    }\n",
       "\n",
       "    .dataframe thead th {\n",
       "        text-align: right;\n",
       "    }\n",
       "</style>\n",
       "<table border=\"1\" class=\"dataframe\">\n",
       "  <thead>\n",
       "    <tr style=\"text-align: right;\">\n",
       "      <th></th>\n",
       "      <th>Age</th>\n",
       "      <th>Experience</th>\n",
       "      <th>Income</th>\n",
       "      <th>Family_1</th>\n",
       "      <th>Family_2</th>\n",
       "      <th>Family_3</th>\n",
       "      <th>Family_4</th>\n",
       "      <th>CCAvg</th>\n",
       "      <th>Education_1</th>\n",
       "      <th>Education_2</th>\n",
       "      <th>Education_3</th>\n",
       "      <th>Mortgage</th>\n",
       "      <th>Securities Account</th>\n",
       "      <th>CD Account</th>\n",
       "      <th>Online</th>\n",
       "      <th>Credit Card</th>\n",
       "    </tr>\n",
       "  </thead>\n",
       "  <tbody>\n",
       "    <tr>\n",
       "      <th>0</th>\n",
       "      <td>40</td>\n",
       "      <td>10</td>\n",
       "      <td>84</td>\n",
       "      <td>0</td>\n",
       "      <td>1</td>\n",
       "      <td>0</td>\n",
       "      <td>0</td>\n",
       "      <td>2</td>\n",
       "      <td>0</td>\n",
       "      <td>1</td>\n",
       "      <td>0</td>\n",
       "      <td>0</td>\n",
       "      <td>0</td>\n",
       "      <td>0</td>\n",
       "      <td>1</td>\n",
       "      <td>1</td>\n",
       "    </tr>\n",
       "  </tbody>\n",
       "</table>\n",
       "</div>"
      ],
      "text/plain": [
       "   Age  Experience  Income  Family_1  Family_2  Family_3  Family_4  CCAvg  \\\n",
       "0   40          10      84         0         1         0         0      2   \n",
       "\n",
       "   Education_1  Education_2  Education_3  Mortgage  Securities Account  \\\n",
       "0            0            1            0         0                   0   \n",
       "\n",
       "   CD Account  Online  Credit Card  \n",
       "0           0       1            1  "
      ]
     },
     "execution_count": 36,
     "metadata": {},
     "output_type": "execute_result"
    }
   ],
   "source": [
    "# d\n",
    "new = pd.DataFrame({'Age' : [40], 'Experience' : [10], 'Income' : [84], 'Family_1':[0], 'Family_2' : [1],\n",
    "                    'Family_3' : [0],'Family_4' : [0],'CCAvg' : [2],\n",
    "                    'Education_1' : [0], 'Education_2' : [1], 'Education_3' : [0], 'Mortgage' : [0],\n",
    "                    'Securities Account' : [0], 'CD Account' : [0], 'Online' : [1], 'Credit Card' : [1]})\n",
    "new"
   ]
  },
  {
   "cell_type": "code",
   "execution_count": 37,
   "id": "cff790f1",
   "metadata": {},
   "outputs": [
    {
     "data": {
      "text/plain": [
       "array([0])"
      ]
     },
     "execution_count": 37,
     "metadata": {},
     "output_type": "execute_result"
    }
   ],
   "source": [
    "knn.predict(new)"
   ]
  },
  {
   "cell_type": "code",
   "execution_count": 38,
   "id": "f135ffa3",
   "metadata": {},
   "outputs": [],
   "source": [
    "# e\n",
    "train_x, valid_x, train_y, valid_y = train_test_split(bank_.drop(columns=['Personal Loan']),\n",
    "                                                      bank_[['Personal Loan']], test_size=0.5, random_state=1)\n",
    "valid_x, test_x, valid_y, test_y = train_test_split(valid_x,valid_y, test_size=0.4, random_state=1)"
   ]
  },
  {
   "cell_type": "code",
   "execution_count": 39,
   "id": "547bc9fe",
   "metadata": {},
   "outputs": [
    {
     "name": "stdout",
     "output_type": "stream",
     "text": [
      "Confusion Matrix (Accuracy 0.9200)\n",
      "\n",
      "       Prediction\n",
      "Actual   no  yes\n",
      "    no 2207   52\n",
      "   yes  148   93\n"
     ]
    }
   ],
   "source": [
    "classificationSummary(train_y, knn.predict(train_x), ['no','yes'])"
   ]
  },
  {
   "cell_type": "code",
   "execution_count": 40,
   "id": "592fc14c",
   "metadata": {},
   "outputs": [
    {
     "name": "stdout",
     "output_type": "stream",
     "text": [
      "Confusion Matrix (Accuracy 0.9020)\n",
      "\n",
      "       Prediction\n",
      "Actual   no  yes\n",
      "    no 1305   44\n",
      "   yes  103   48\n"
     ]
    }
   ],
   "source": [
    "classificationSummary(valid_y, knn.predict(valid_x), ['no','yes'])"
   ]
  },
  {
   "cell_type": "code",
   "execution_count": 41,
   "id": "7978df44",
   "metadata": {},
   "outputs": [
    {
     "name": "stdout",
     "output_type": "stream",
     "text": [
      "Confusion Matrix (Accuracy 0.9030)\n",
      "\n",
      "       Prediction\n",
      "Actual  no yes\n",
      "    no 879  33\n",
      "   yes  64  24\n"
     ]
    }
   ],
   "source": [
    "classificationSummary(test_y, knn.predict(test_x), ['no','yes'])"
   ]
  }
 ],
 "metadata": {
  "kernelspec": {
   "display_name": "Python 3 (ipykernel)",
   "language": "python",
   "name": "python3"
  },
  "language_info": {
   "codemirror_mode": {
    "name": "ipython",
    "version": 3
   },
   "file_extension": ".py",
   "mimetype": "text/x-python",
   "name": "python",
   "nbconvert_exporter": "python",
   "pygments_lexer": "ipython3",
   "version": "3.9.7"
  }
 },
 "nbformat": 4,
 "nbformat_minor": 5
}
