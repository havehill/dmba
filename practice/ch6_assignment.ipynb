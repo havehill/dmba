{
 "cells": [
  {
   "cell_type": "code",
   "execution_count": 94,
   "id": "91fa408c",
   "metadata": {},
   "outputs": [],
   "source": [
    "%matplotlib inline\n",
    "from pathlib import Path\n",
    "import matplotlib.pyplot as plt\n",
    "import pandas as pd\n",
    "from sklearn.model_selection import train_test_split\n",
    "from sklearn.linear_model import LinearRegression, Lasso, Ridge, LassoCV, BayesianRidge\n",
    "import statsmodels.formula.api as sm\n",
    "import matplotlib.pylab as plt\n",
    "\n",
    "from dmba import regressionSummary, exhaustive_search\n",
    "from dmba import backward_elimination, forward_selection, stepwise_selection\n",
    "from dmba import adjusted_r2_score, AIC_score, BIC_score"
   ]
  },
  {
   "cell_type": "markdown",
   "id": "af4840bc",
   "metadata": {},
   "source": [
    "## 6.1\n",
    "### a"
   ]
  },
  {
   "cell_type": "markdown",
   "id": "6576c44c",
   "metadata": {},
   "source": [
    "데이터마이닝은 '새로운'데이터에 대한 예측을 하는 것이기 떄문이다. 학습세트로 모델을 학습시키고, 학습시키지 않은 검증데이터로 예측성능을 평가한다. "
   ]
  },
  {
   "cell_type": "code",
   "execution_count": 4,
   "id": "0785a286",
   "metadata": {},
   "outputs": [],
   "source": [
    "boston_df = pd.read_csv(\"BostonHousing.csv\")"
   ]
  },
  {
   "cell_type": "code",
   "execution_count": 5,
   "id": "53b813a0",
   "metadata": {},
   "outputs": [],
   "source": [
    "# 예측, 반응 변수 설정\n",
    "predictors = ['CRIM','CHAS','RM']\n",
    "outcome = 'MEDV'\n",
    "\n",
    "x = boston_df[predictors]\n",
    "y = boston_df[outcome]"
   ]
  },
  {
   "cell_type": "code",
   "execution_count": 6,
   "id": "22ba8e6b",
   "metadata": {},
   "outputs": [],
   "source": [
    "# 데이터셋 나누기\n",
    "train_x, valid_x, train_y, valid_y = train_test_split(x, y, test_size = 0.4, random_state=1)"
   ]
  },
  {
   "cell_type": "code",
   "execution_count": 7,
   "id": "f5ee73a8",
   "metadata": {},
   "outputs": [
    {
     "data": {
      "text/plain": [
       "LinearRegression()"
      ]
     },
     "execution_count": 7,
     "metadata": {},
     "output_type": "execute_result"
    }
   ],
   "source": [
    "mod = LinearRegression()\n",
    "mod.fit(train_x, train_y)"
   ]
  },
  {
   "cell_type": "code",
   "execution_count": null,
   "id": "95ea359f",
   "metadata": {},
   "outputs": [],
   "source": []
  },
  {
   "cell_type": "markdown",
   "id": "33498672",
   "metadata": {},
   "source": [
    "### b"
   ]
  },
  {
   "cell_type": "code",
   "execution_count": 43,
   "id": "960fcea7",
   "metadata": {},
   "outputs": [
    {
     "data": {
      "text/plain": [
       "array([25.54304295, 24.25592705, 30.61636578, 29.05833848, 30.28998412,\n",
       "       24.33024387, 20.83629136, 22.15481351, 17.63488393, 20.75006488,\n",
       "       23.84218785, 20.80431082, 19.81097686, 20.18181885, 21.40365111,\n",
       "       19.22499264, 19.96343922, 20.48607583, 16.03598867, 18.31057436,\n",
       "       16.87725153, 20.26166063, 21.6438898 , 18.96349191, 19.94476197,\n",
       "       17.21740719, 19.03947639, 20.91942336, 24.69298046, 26.12810217,\n",
       "       18.09679432, 21.03177993, 20.00812168, 17.99187252, 21.16962409,\n",
       "       20.18439282, 19.41048982, 19.48956947, 20.43250551, 25.70443073,\n",
       "       29.27450017, 27.1373758 , 22.13057018, 22.47594003, 21.30256822,\n",
       "       18.06902715, 18.93077872, 20.95230055, 15.69320941, 17.39140612,\n",
       "       20.42825215, 21.70456801, 24.99888159, 20.7289765 , 19.82189987,\n",
       "       31.15258108, 23.94119321, 27.5474897 , 21.92765716, 20.12505293,\n",
       "       18.56551786, 20.43330731, 24.52739263, 27.07100006, 29.94389427,\n",
       "       23.16328136, 18.97380969, 19.72801576, 17.34502515, 19.76942282,\n",
       "       24.20799456, 20.39479024, 21.27672145, 22.75034655, 23.0114019 ,\n",
       "       23.11574977, 23.05593475, 21.90220668, 22.67547111, 19.68847825,\n",
       "       26.80011303, 25.90015629, 23.26300342, 22.13936402, 23.9839328 ,\n",
       "       25.98867722, 20.87000755, 21.74776372, 29.12744836, 29.7277204 ,\n",
       "       24.21793794, 24.1198411 , 24.42722202, 22.50729455, 22.82024473,\n",
       "       25.93152172, 22.08697117, 37.95336533, 35.8897495 , 32.52956431,\n",
       "       26.77429915, 27.23210235, 24.07436372, 21.84733381, 22.11437594,\n",
       "       19.48529618, 19.35115696, 21.78339266, 24.67298468, 22.6007619 ,\n",
       "       22.35508362, 26.68587682, 20.00369683, 21.47017787, 22.83801563,\n",
       "       20.11703948, 22.19122782, 20.89616844, 19.66061459, 18.48336079,\n",
       "       19.65874967, 20.7736846 , 20.41057913, 19.52265856, 19.72659442,\n",
       "       20.60045659, 17.44275342, 18.13954342, 24.26761147, 17.52399092,\n",
       "       24.48887909, 23.18521172, 23.71290087, 19.19652584, 18.50022525,\n",
       "       23.41261619, 20.19727052, 24.45263283, 19.50711675, 21.88396716,\n",
       "       22.13633076, 12.19961251, 18.25701346, 15.3449603 , 10.9575566 ,\n",
       "       21.26866758, 17.14327313, 11.24772999, 13.42130911, 16.7462159 ,\n",
       "       21.37556872, 15.43657003, 15.52867918, 17.8190215 , 24.75893733,\n",
       "       24.44120606, 14.10950139, 28.31448937, 20.98468082, 24.66133034,\n",
       "       25.79998587, 32.80247297, 38.58614869, 43.4320337 , 19.00380292,\n",
       "       20.89648523, 36.3342769 , 19.30140864, 22.86107622, 23.5162653 ,\n",
       "       19.42708156, 19.20308343, 17.16100707, 24.19882437, 19.56345658,\n",
       "       25.28713232, 20.90723069, 23.3669912 , 27.90129018, 28.90238055,\n",
       "       35.43570345, 21.93987411, 30.35130896, 25.42063262, 17.44087057,\n",
       "       22.01681961, 35.98753204, 27.24896654, 25.35618439, 30.60282387,\n",
       "       28.65305722, 26.8932982 , 30.54384186, 27.41247443, 25.78253574,\n",
       "       36.36397277, 31.46245606, 29.9623521 , 31.35481214, 28.86706831,\n",
       "       30.20239001, 22.09799261, 34.15589043, 36.17570799, 37.68616806,\n",
       "       19.81739096, 23.41645161, 18.89052804, 24.5245956 , 18.45848914,\n",
       "       23.64951337, 18.97238659, 22.36550369, 23.84579155, 15.79287127,\n",
       "       22.22522914, 23.08103516, 26.08551133, 23.58989556, 27.10226491,\n",
       "       31.85567947, 25.29185463, 31.19253754, 25.75497646, 39.54673277,\n",
       "       43.31719107, 37.64920459, 30.34076638, 34.72224576, 25.24702644,\n",
       "       20.47049263, 32.40159268, 40.07541365, 39.38467983, 29.96095264,\n",
       "       21.39422088, 29.15261567, 31.94030138, 24.74220294, 25.78043003,\n",
       "       28.19806995, 21.52300061, 23.71329471, 23.99875351, 17.31976599,\n",
       "       17.42320901, 21.57512295, 22.59188494, 24.32292143, 26.68927315,\n",
       "       24.778264  , 24.35261622, 28.7050416 , 39.4755868 , 21.64513469,\n",
       "       19.71674521, 32.85869708, 43.12205073, 31.69575936, 27.60974512,\n",
       "       30.64311025, 33.28362879, 40.59648877, 31.60697825, 30.66569475,\n",
       "       16.91167106, 29.01069524, 39.74167444, 32.86583843, 23.33662597,\n",
       "       19.48694211, 22.71670994, 25.20901753, 38.04900806, 30.3213354 ,\n",
       "       27.84422848, 34.54726662, 30.88628782, 24.75116668, 27.46712241,\n",
       "       35.90081397, 28.80745973, 37.70460158, 40.03011039, 29.81320011,\n",
       "       24.52625768, 22.66765745, 22.48825318, 23.36899572, 25.45099292,\n",
       "       27.9171533 , 30.29595429, 25.99376654, 21.79504047, 20.81282823,\n",
       "       26.37100836, 25.31520945, 18.97544157, 23.61424741, 29.41074198,\n",
       "       27.99820849, 25.66094678, 24.85630196, 28.90890027, 31.03426159,\n",
       "       25.87273933, 32.56132141, 27.81381831, 25.92572481, 20.44060172,\n",
       "       11.57495024, 21.58350819, 20.88624151, 22.90741303, 25.38932779,\n",
       "       18.24078747, 19.96521468, 18.88382809, 23.84129152, 21.58418679,\n",
       "       24.26387461, 23.84425737, 21.0146211 , 18.25847471, 24.13064929,\n",
       "       24.29967657, 23.28218737, 21.39071171, 19.6427763 , 23.51372594,\n",
       "       21.94550117, 18.29792449, 21.00734423, 23.37613738, 23.32941517,\n",
       "       21.05610697, 19.65875946, 19.87614065, 21.24083324, 20.6195105 ,\n",
       "       20.47641252, 31.08600369, 25.24718226, 26.54580158, 28.02646806,\n",
       "       20.86666367, 19.89362384, 25.04888564, 26.04046733, 28.56796455,\n",
       "       24.82200998, 25.5587759 , 19.77447391, 26.8142093 , 17.9416752 ,\n",
       "       20.1991849 , 23.6328698 , 26.38867849, 23.83295063, 20.6670246 ,\n",
       "       22.98066089, 21.92612316, 14.56312099, 21.37070594, 46.33434571,\n",
       "       -0.6412103 , 11.23687968, -0.27948411, 11.00677641, 28.34934858,\n",
       "       30.91307073, 20.33949612, 20.99910063,  8.98320784,  0.81538967,\n",
       "       26.98113616, 22.49055246, 25.00952508, 18.24411245, 18.32497944,\n",
       "        7.45653322, 21.48396177, 14.68924694, 14.84280801,  2.34927333,\n",
       "       10.7026052 ,  3.67921917,  7.0076999 ,  7.9924087 , 13.72230292,\n",
       "       16.69691011, 19.91150715,  9.95269942, 20.28906323, 16.60965679,\n",
       "       22.58617988, 22.7196232 , 16.80955313,  6.99689663, 17.14486977,\n",
       "       14.63673563, 20.19554623, 21.81738808,  9.38394499,  6.88348672,\n",
       "        1.81328826,  0.28293175, 14.62510848, 15.79164822, 24.38454389,\n",
       "        6.45879497, 22.8541828 ,  4.81963412,  6.84363732, -2.5539089 ,\n",
       "       20.02928187, 24.66698973,  8.73590528,  2.74684524, 24.78184227,\n",
       "       21.51756595, 19.12167712, 14.93480545, 19.92253819, 15.02547758,\n",
       "       16.08430788, 16.46049121, 13.39807183, 20.59577867, 21.67923664,\n",
       "       21.61610609, 25.27687767, 22.74881114, 23.04755693, 19.14913963,\n",
       "       23.31492962, 21.13360143, 18.37953923, 16.93285341, 15.39795883,\n",
       "       13.94876724, 21.80319764, 21.22051659, 22.40270502, 16.46876067,\n",
       "       22.01694421, 22.08694132, 20.46462219, 20.05818007, 22.42247206,\n",
       "       25.38047012, 24.90436222, 22.00820409, 30.37449905, 24.53444918,\n",
       "       23.98743706, 19.43697062, 18.25612399, 21.40244486, 19.79921983,\n",
       "       25.4383218 , 23.00127421, 21.7990703 , 23.6309613 , 20.61562171,\n",
       "       17.99175638, 19.451746  , 19.72093769, 16.40238483, 15.22942199,\n",
       "       21.1039086 , 21.69457997, 23.53898084, 27.80071358, 14.05336837,\n",
       "       20.5715164 , 23.61752788, 11.35671214, 19.84118546, 19.22307018,\n",
       "       21.37415222, 25.63114767, 28.21476056, 18.09960617, 19.11263203,\n",
       "       22.4731298 , 20.3402804 , 18.8058312 , 16.17582286, 15.83501142,\n",
       "       13.15684706, 20.5906722 , 20.58933265, 18.27670281, 20.07440719,\n",
       "       17.96730777, 15.60970541, 18.97817035, 20.85835901, 17.12674354,\n",
       "       20.92849893, 25.67937821, 21.74573777, 28.86836926, 27.34146512,\n",
       "       20.99595826])"
      ]
     },
     "execution_count": 43,
     "metadata": {},
     "output_type": "execute_result"
    }
   ],
   "source": [
    "mod.predict(x)"
   ]
  },
  {
   "cell_type": "markdown",
   "id": "fbe63028",
   "metadata": {},
   "source": [
    "### c"
   ]
  },
  {
   "cell_type": "code",
   "execution_count": 34,
   "id": "fe411099",
   "metadata": {},
   "outputs": [
    {
     "data": {
      "text/html": [
       "<div>\n",
       "<style scoped>\n",
       "    .dataframe tbody tr th:only-of-type {\n",
       "        vertical-align: middle;\n",
       "    }\n",
       "\n",
       "    .dataframe tbody tr th {\n",
       "        vertical-align: top;\n",
       "    }\n",
       "\n",
       "    .dataframe thead th {\n",
       "        text-align: right;\n",
       "    }\n",
       "</style>\n",
       "<table border=\"1\" class=\"dataframe\">\n",
       "  <thead>\n",
       "    <tr style=\"text-align: right;\">\n",
       "      <th></th>\n",
       "      <th>CRIM</th>\n",
       "      <th>CHAS</th>\n",
       "      <th>RM</th>\n",
       "    </tr>\n",
       "  </thead>\n",
       "  <tbody>\n",
       "    <tr>\n",
       "      <th>0</th>\n",
       "      <td>0.00632</td>\n",
       "      <td>0</td>\n",
       "      <td>6.575</td>\n",
       "    </tr>\n",
       "    <tr>\n",
       "      <th>1</th>\n",
       "      <td>0.02731</td>\n",
       "      <td>0</td>\n",
       "      <td>6.421</td>\n",
       "    </tr>\n",
       "    <tr>\n",
       "      <th>2</th>\n",
       "      <td>0.02729</td>\n",
       "      <td>0</td>\n",
       "      <td>7.185</td>\n",
       "    </tr>\n",
       "    <tr>\n",
       "      <th>3</th>\n",
       "      <td>0.03237</td>\n",
       "      <td>0</td>\n",
       "      <td>6.998</td>\n",
       "    </tr>\n",
       "    <tr>\n",
       "      <th>4</th>\n",
       "      <td>0.06905</td>\n",
       "      <td>0</td>\n",
       "      <td>7.147</td>\n",
       "    </tr>\n",
       "    <tr>\n",
       "      <th>...</th>\n",
       "      <td>...</td>\n",
       "      <td>...</td>\n",
       "      <td>...</td>\n",
       "    </tr>\n",
       "    <tr>\n",
       "      <th>501</th>\n",
       "      <td>0.06263</td>\n",
       "      <td>0</td>\n",
       "      <td>6.593</td>\n",
       "    </tr>\n",
       "    <tr>\n",
       "      <th>502</th>\n",
       "      <td>0.04527</td>\n",
       "      <td>0</td>\n",
       "      <td>6.120</td>\n",
       "    </tr>\n",
       "    <tr>\n",
       "      <th>503</th>\n",
       "      <td>0.06076</td>\n",
       "      <td>0</td>\n",
       "      <td>6.976</td>\n",
       "    </tr>\n",
       "    <tr>\n",
       "      <th>504</th>\n",
       "      <td>0.10959</td>\n",
       "      <td>0</td>\n",
       "      <td>6.794</td>\n",
       "    </tr>\n",
       "    <tr>\n",
       "      <th>505</th>\n",
       "      <td>0.04741</td>\n",
       "      <td>0</td>\n",
       "      <td>6.030</td>\n",
       "    </tr>\n",
       "  </tbody>\n",
       "</table>\n",
       "<p>506 rows × 3 columns</p>\n",
       "</div>"
      ],
      "text/plain": [
       "        CRIM  CHAS     RM\n",
       "0    0.00632     0  6.575\n",
       "1    0.02731     0  6.421\n",
       "2    0.02729     0  7.185\n",
       "3    0.03237     0  6.998\n",
       "4    0.06905     0  7.147\n",
       "..       ...   ...    ...\n",
       "501  0.06263     0  6.593\n",
       "502  0.04527     0  6.120\n",
       "503  0.06076     0  6.976\n",
       "504  0.10959     0  6.794\n",
       "505  0.04741     0  6.030\n",
       "\n",
       "[506 rows x 3 columns]"
      ]
     },
     "execution_count": 34,
     "metadata": {},
     "output_type": "execute_result"
    }
   ],
   "source": [
    "x_ = x.copy()\n",
    "x_"
   ]
  },
  {
   "cell_type": "code",
   "execution_count": 37,
   "id": "40b8abdb",
   "metadata": {},
   "outputs": [
    {
     "data": {
      "text/html": [
       "<div>\n",
       "<style scoped>\n",
       "    .dataframe tbody tr th:only-of-type {\n",
       "        vertical-align: middle;\n",
       "    }\n",
       "\n",
       "    .dataframe tbody tr th {\n",
       "        vertical-align: top;\n",
       "    }\n",
       "\n",
       "    .dataframe thead th {\n",
       "        text-align: right;\n",
       "    }\n",
       "</style>\n",
       "<table border=\"1\" class=\"dataframe\">\n",
       "  <thead>\n",
       "    <tr style=\"text-align: right;\">\n",
       "      <th></th>\n",
       "      <th>CRIM</th>\n",
       "      <th>CHAS</th>\n",
       "      <th>RM</th>\n",
       "    </tr>\n",
       "  </thead>\n",
       "  <tbody>\n",
       "    <tr>\n",
       "      <th>303</th>\n",
       "      <td>0.1</td>\n",
       "      <td>0</td>\n",
       "      <td>6.982</td>\n",
       "    </tr>\n",
       "  </tbody>\n",
       "</table>\n",
       "</div>"
      ],
      "text/plain": [
       "     CRIM  CHAS     RM\n",
       "303   0.1     0  6.982"
      ]
     },
     "execution_count": 37,
     "metadata": {},
     "output_type": "execute_result"
    }
   ],
   "source": [
    "x_ = x_[x_['CHAS']==0]\n",
    "x_[x_['CRIM']==0.1]\n",
    "\n",
    "# 303"
   ]
  },
  {
   "cell_type": "code",
   "execution_count": 45,
   "id": "b74c67b6",
   "metadata": {},
   "outputs": [
    {
     "data": {
      "text/plain": [
       "28.908900274080697"
      ]
     },
     "execution_count": 45,
     "metadata": {},
     "output_type": "execute_result"
    }
   ],
   "source": [
    "# 예측값\n",
    "mod.predict(x)[303]"
   ]
  },
  {
   "cell_type": "code",
   "execution_count": 47,
   "id": "ebd78333",
   "metadata": {},
   "outputs": [
    {
     "data": {
      "text/plain": [
       "4.191099725919305"
      ]
     },
     "execution_count": 47,
     "metadata": {},
     "output_type": "execute_result"
    }
   ],
   "source": [
    "# 예측오차\n",
    "y[303] - mod.predict(x)[303]"
   ]
  },
  {
   "cell_type": "markdown",
   "id": "126c4d17",
   "metadata": {},
   "source": [
    "### d"
   ]
  },
  {
   "cell_type": "code",
   "execution_count": 54,
   "id": "1f0e70d5",
   "metadata": {},
   "outputs": [
    {
     "data": {
      "image/png": "[encoded data removed]",
      "text/plain": [
       "<Figure size 432x432 with 9 Axes>"
      ]
     },
     "metadata": {
      "needs_background": "light"
     },
     "output_type": "display_data"
    }
   ],
   "source": [
    "# i \n",
    "from pandas.plotting import scatter_matrix, parallel_coordinates\n",
    "df = boston_df[['INDUS','NOX','TAX']]\n",
    "axes = scatter_matrix(df, alpha = 0.5, figsize = (6,6), diagonal='kde')"
   ]
  },
  {
   "cell_type": "markdown",
   "id": "f0045670",
   "metadata": {},
   "source": [
    "'INDUS','NOX','TAX'의 산점도 행렬을 보면 산점도의 형태가 다 비슷하고 x,y축을 바뀌었을 때도 1:1대응되는 형태를 띄우고 있다. 이들은 동일한 것을 측정하는 것 같다."
   ]
  },
  {
   "cell_type": "code",
   "execution_count": 81,
   "id": "ab9b1935",
   "metadata": {},
   "outputs": [
    {
     "data": {
      "text/html": [
       "<div>\n",
       "<style scoped>\n",
       "    .dataframe tbody tr th:only-of-type {\n",
       "        vertical-align: middle;\n",
       "    }\n",
       "\n",
       "    .dataframe tbody tr th {\n",
       "        vertical-align: top;\n",
       "    }\n",
       "\n",
       "    .dataframe thead th {\n",
       "        text-align: right;\n",
       "    }\n",
       "</style>\n",
       "<table border=\"1\" class=\"dataframe\">\n",
       "  <thead>\n",
       "    <tr style=\"text-align: right;\">\n",
       "      <th></th>\n",
       "      <th>CRIM</th>\n",
       "      <th>ZN</th>\n",
       "      <th>INDUS</th>\n",
       "      <th>CHAS</th>\n",
       "      <th>NOX</th>\n",
       "      <th>RM</th>\n",
       "      <th>AGE</th>\n",
       "      <th>DIS</th>\n",
       "      <th>RAD</th>\n",
       "      <th>TAX</th>\n",
       "      <th>PTRATIO</th>\n",
       "      <th>LSTAT</th>\n",
       "    </tr>\n",
       "  </thead>\n",
       "  <tbody>\n",
       "    <tr>\n",
       "      <th>CRIM</th>\n",
       "      <td>1.00</td>\n",
       "      <td>-0.20</td>\n",
       "      <td>0.41</td>\n",
       "      <td>-0.06</td>\n",
       "      <td>0.42</td>\n",
       "      <td>-0.22</td>\n",
       "      <td>0.35</td>\n",
       "      <td>-0.38</td>\n",
       "      <td>0.63</td>\n",
       "      <td>0.58</td>\n",
       "      <td>0.29</td>\n",
       "      <td>0.46</td>\n",
       "    </tr>\n",
       "    <tr>\n",
       "      <th>ZN</th>\n",
       "      <td>-0.20</td>\n",
       "      <td>1.00</td>\n",
       "      <td>-0.53</td>\n",
       "      <td>-0.04</td>\n",
       "      <td>-0.52</td>\n",
       "      <td>0.31</td>\n",
       "      <td>-0.57</td>\n",
       "      <td>0.66</td>\n",
       "      <td>-0.31</td>\n",
       "      <td>-0.31</td>\n",
       "      <td>-0.39</td>\n",
       "      <td>-0.41</td>\n",
       "    </tr>\n",
       "    <tr>\n",
       "      <th>INDUS</th>\n",
       "      <td>0.41</td>\n",
       "      <td>-0.53</td>\n",
       "      <td>1.00</td>\n",
       "      <td>0.06</td>\n",
       "      <td>0.76</td>\n",
       "      <td>-0.39</td>\n",
       "      <td>0.64</td>\n",
       "      <td>-0.71</td>\n",
       "      <td>0.60</td>\n",
       "      <td>0.72</td>\n",
       "      <td>0.38</td>\n",
       "      <td>0.60</td>\n",
       "    </tr>\n",
       "    <tr>\n",
       "      <th>CHAS</th>\n",
       "      <td>-0.06</td>\n",
       "      <td>-0.04</td>\n",
       "      <td>0.06</td>\n",
       "      <td>1.00</td>\n",
       "      <td>0.09</td>\n",
       "      <td>0.09</td>\n",
       "      <td>0.09</td>\n",
       "      <td>-0.10</td>\n",
       "      <td>-0.01</td>\n",
       "      <td>-0.04</td>\n",
       "      <td>-0.12</td>\n",
       "      <td>-0.05</td>\n",
       "    </tr>\n",
       "    <tr>\n",
       "      <th>NOX</th>\n",
       "      <td>0.42</td>\n",
       "      <td>-0.52</td>\n",
       "      <td>0.76</td>\n",
       "      <td>0.09</td>\n",
       "      <td>1.00</td>\n",
       "      <td>-0.30</td>\n",
       "      <td>0.73</td>\n",
       "      <td>-0.77</td>\n",
       "      <td>0.61</td>\n",
       "      <td>0.67</td>\n",
       "      <td>0.19</td>\n",
       "      <td>0.59</td>\n",
       "    </tr>\n",
       "    <tr>\n",
       "      <th>RM</th>\n",
       "      <td>-0.22</td>\n",
       "      <td>0.31</td>\n",
       "      <td>-0.39</td>\n",
       "      <td>0.09</td>\n",
       "      <td>-0.30</td>\n",
       "      <td>1.00</td>\n",
       "      <td>-0.24</td>\n",
       "      <td>0.21</td>\n",
       "      <td>-0.21</td>\n",
       "      <td>-0.29</td>\n",
       "      <td>-0.36</td>\n",
       "      <td>-0.61</td>\n",
       "    </tr>\n",
       "    <tr>\n",
       "      <th>AGE</th>\n",
       "      <td>0.35</td>\n",
       "      <td>-0.57</td>\n",
       "      <td>0.64</td>\n",
       "      <td>0.09</td>\n",
       "      <td>0.73</td>\n",
       "      <td>-0.24</td>\n",
       "      <td>1.00</td>\n",
       "      <td>-0.75</td>\n",
       "      <td>0.46</td>\n",
       "      <td>0.51</td>\n",
       "      <td>0.26</td>\n",
       "      <td>0.60</td>\n",
       "    </tr>\n",
       "    <tr>\n",
       "      <th>DIS</th>\n",
       "      <td>-0.38</td>\n",
       "      <td>0.66</td>\n",
       "      <td>-0.71</td>\n",
       "      <td>-0.10</td>\n",
       "      <td>-0.77</td>\n",
       "      <td>0.21</td>\n",
       "      <td>-0.75</td>\n",
       "      <td>1.00</td>\n",
       "      <td>-0.49</td>\n",
       "      <td>-0.53</td>\n",
       "      <td>-0.23</td>\n",
       "      <td>-0.50</td>\n",
       "    </tr>\n",
       "    <tr>\n",
       "      <th>RAD</th>\n",
       "      <td>0.63</td>\n",
       "      <td>-0.31</td>\n",
       "      <td>0.60</td>\n",
       "      <td>-0.01</td>\n",
       "      <td>0.61</td>\n",
       "      <td>-0.21</td>\n",
       "      <td>0.46</td>\n",
       "      <td>-0.49</td>\n",
       "      <td>1.00</td>\n",
       "      <td>0.91</td>\n",
       "      <td>0.46</td>\n",
       "      <td>0.49</td>\n",
       "    </tr>\n",
       "    <tr>\n",
       "      <th>TAX</th>\n",
       "      <td>0.58</td>\n",
       "      <td>-0.31</td>\n",
       "      <td>0.72</td>\n",
       "      <td>-0.04</td>\n",
       "      <td>0.67</td>\n",
       "      <td>-0.29</td>\n",
       "      <td>0.51</td>\n",
       "      <td>-0.53</td>\n",
       "      <td>0.91</td>\n",
       "      <td>1.00</td>\n",
       "      <td>0.46</td>\n",
       "      <td>0.54</td>\n",
       "    </tr>\n",
       "    <tr>\n",
       "      <th>PTRATIO</th>\n",
       "      <td>0.29</td>\n",
       "      <td>-0.39</td>\n",
       "      <td>0.38</td>\n",
       "      <td>-0.12</td>\n",
       "      <td>0.19</td>\n",
       "      <td>-0.36</td>\n",
       "      <td>0.26</td>\n",
       "      <td>-0.23</td>\n",
       "      <td>0.46</td>\n",
       "      <td>0.46</td>\n",
       "      <td>1.00</td>\n",
       "      <td>0.37</td>\n",
       "    </tr>\n",
       "    <tr>\n",
       "      <th>LSTAT</th>\n",
       "      <td>0.46</td>\n",
       "      <td>-0.41</td>\n",
       "      <td>0.60</td>\n",
       "      <td>-0.05</td>\n",
       "      <td>0.59</td>\n",
       "      <td>-0.61</td>\n",
       "      <td>0.60</td>\n",
       "      <td>-0.50</td>\n",
       "      <td>0.49</td>\n",
       "      <td>0.54</td>\n",
       "      <td>0.37</td>\n",
       "      <td>1.00</td>\n",
       "    </tr>\n",
       "  </tbody>\n",
       "</table>\n",
       "</div>"
      ],
      "text/plain": [
       "         CRIM    ZN  INDUS  CHAS   NOX    RM   AGE   DIS   RAD   TAX  PTRATIO  \\\n",
       "CRIM     1.00 -0.20   0.41 -0.06  0.42 -0.22  0.35 -0.38  0.63  0.58     0.29   \n",
       "ZN      -0.20  1.00  -0.53 -0.04 -0.52  0.31 -0.57  0.66 -0.31 -0.31    -0.39   \n",
       "INDUS    0.41 -0.53   1.00  0.06  0.76 -0.39  0.64 -0.71  0.60  0.72     0.38   \n",
       "CHAS    -0.06 -0.04   0.06  1.00  0.09  0.09  0.09 -0.10 -0.01 -0.04    -0.12   \n",
       "NOX      0.42 -0.52   0.76  0.09  1.00 -0.30  0.73 -0.77  0.61  0.67     0.19   \n",
       "RM      -0.22  0.31  -0.39  0.09 -0.30  1.00 -0.24  0.21 -0.21 -0.29    -0.36   \n",
       "AGE      0.35 -0.57   0.64  0.09  0.73 -0.24  1.00 -0.75  0.46  0.51     0.26   \n",
       "DIS     -0.38  0.66  -0.71 -0.10 -0.77  0.21 -0.75  1.00 -0.49 -0.53    -0.23   \n",
       "RAD      0.63 -0.31   0.60 -0.01  0.61 -0.21  0.46 -0.49  1.00  0.91     0.46   \n",
       "TAX      0.58 -0.31   0.72 -0.04  0.67 -0.29  0.51 -0.53  0.91  1.00     0.46   \n",
       "PTRATIO  0.29 -0.39   0.38 -0.12  0.19 -0.36  0.26 -0.23  0.46  0.46     1.00   \n",
       "LSTAT    0.46 -0.41   0.60 -0.05  0.59 -0.61  0.60 -0.50  0.49  0.54     0.37   \n",
       "\n",
       "         LSTAT  \n",
       "CRIM      0.46  \n",
       "ZN       -0.41  \n",
       "INDUS     0.60  \n",
       "CHAS     -0.05  \n",
       "NOX       0.59  \n",
       "RM       -0.61  \n",
       "AGE       0.60  \n",
       "DIS      -0.50  \n",
       "RAD       0.49  \n",
       "TAX       0.54  \n",
       "PTRATIO   0.37  \n",
       "LSTAT     1.00  "
      ]
     },
     "execution_count": 81,
     "metadata": {},
     "output_type": "execute_result"
    }
   ],
   "source": [
    "# ii\n",
    "df = boston_df.drop(labels = ['MEDV','CAT. MEDV'], axis = 1)\n",
    "boston_corr = df.corr().round(2)\n",
    "boston_corr"
   ]
  },
  {
   "cell_type": "markdown",
   "id": "b57de585",
   "metadata": {},
   "source": [
    "INDUS-NOX (0.76)\n",
    "INDUS-TAX (0.72)\n",
    "NOX-DIS (-0.77)\n",
    "DIS-AGE (-0.85)\n",
    "RAD-TAX (0.91)\n",
    "\n",
    "INDUS, NOX, TAX, DIS를 삭제한다."
   ]
  },
  {
   "cell_type": "markdown",
   "id": "9a426277",
   "metadata": {},
   "source": [
    "1. n = 3,4,5 일 때의 모델 (score가 가장 높은 셋)"
   ]
  },
  {
   "cell_type": "code",
   "execution_count": 89,
   "id": "b206f13a",
   "metadata": {},
   "outputs": [
    {
     "name": "stdout",
     "output_type": "stream",
     "text": [
      "Variables: CRIM, ZN, CHAS, RM, AGE, RAD, PTRATIO, LSTAT\n",
      "Start: score=1841.43\n",
      "Step: score=1839.93, remove AGE\n",
      "Step: score=1838.87, remove RAD\n",
      "Step: score=1837.71, remove ZN\n",
      "Step: score=1837.69, remove CRIM\n",
      "Step: score=1837.69, remove None\n",
      "['CHAS', 'RM', 'PTRATIO', 'LSTAT']\n"
     ]
    }
   ],
   "source": [
    "# backward\n",
    "\n",
    "def train_model(variables):\n",
    "    model = LinearRegression()\n",
    "    model.fit(train_x[variables], train_y)\n",
    "    return model\n",
    "\n",
    "def score_model(model, variables):\n",
    "    return AIC_score(train_y, model.predict(train_x[variables]), model)\n",
    "\n",
    "allVariables = train_x.columns\n",
    "best_model, best_variables = backward_elimination(allVariables, train_model, score_model, verbose = True)\n",
    "print(best_variables)"
   ]
  },
  {
   "cell_type": "code",
   "execution_count": 90,
   "id": "b9f1e719",
   "metadata": {},
   "outputs": [
    {
     "name": "stdout",
     "output_type": "stream",
     "text": [
      "Variables: CRIM, ZN, CHAS, RM, AGE, RAD, PTRATIO, LSTAT\n",
      "Start: score=2191.75, constant\n",
      "Step: score=1934.91, add LSTAT\n",
      "Step: score=1874.18, add RM\n",
      "Step: score=1842.54, add PTRATIO\n",
      "Step: score=1837.69, add CHAS\n",
      "Step: score=1837.69, add None\n",
      "['LSTAT', 'RM', 'PTRATIO', 'CHAS']\n"
     ]
    }
   ],
   "source": [
    "# forward\n",
    "\n",
    "def train_model(variables):\n",
    "    if len(variables) == 0:\n",
    "        return None\n",
    "    model = LinearRegression()\n",
    "    model.fit(train_x[variables], train_y)\n",
    "    return model\n",
    "\n",
    "def score_model(model, variables):\n",
    "    if len(variables) == 0:\n",
    "        return AIC_score(train_y, [train_y.mean()] * len(train_y), model, df = 1)\n",
    "    return AIC_score(train_y, model.predict(train_x[variables]), model)\n",
    "\n",
    "best_model, best_variables = forward_selection(train_x.columns, train_model, score_model, verbose=True)\n",
    "print(best_variables)"
   ]
  },
  {
   "cell_type": "code",
   "execution_count": 91,
   "id": "08d69251",
   "metadata": {},
   "outputs": [
    {
     "name": "stdout",
     "output_type": "stream",
     "text": [
      "Variables: CRIM, ZN, CHAS, RM, AGE, RAD, PTRATIO, LSTAT\n",
      "Start: score=2191.75, constant\n",
      "Step: score=1934.91, add LSTAT\n",
      "Step: score=1874.18, add RM\n",
      "Step: score=1842.54, add PTRATIO\n",
      "Step: score=1837.69, add CHAS\n",
      "Step: score=1837.69, unchanged None\n",
      "['LSTAT', 'RM', 'PTRATIO', 'CHAS']\n"
     ]
    }
   ],
   "source": [
    "# stepwise\n",
    "\n",
    "best_model, best_variables = stepwise_selection(train_x.columns, train_model, score_model, verbose=True)\n",
    "print(best_variables)"
   ]
  },
  {
   "cell_type": "code",
   "execution_count": 5,
   "id": "b533f6d8",
   "metadata": {},
   "outputs": [
    {
     "name": "stdout",
     "output_type": "stream",
     "text": [
      "\n",
      "Regression statistics\n",
      "\n",
      "                      Mean Error (ME) : 0.1274\n",
      "       Root Mean Squared Error (RMSE) : 5.4654\n",
      "            Mean Absolute Error (MAE) : 3.9211\n",
      "          Mean Percentage Error (MPE) : -4.8675\n",
      "Mean Absolute Percentage Error (MAPE) : 18.6416\n"
     ]
    }
   ],
   "source": [
    "predictors = ['LSTAT', 'RM', 'PTRATIO', 'CHAS']\n",
    "outcome = 'MEDV'\n",
    "x = boston_df[predictors]\n",
    "y = boston_df[outcome]\n",
    "train_x, valid_x, train_y, valid_y = train_test_split(x, y, test_size = 0.4, random_state=1)\n",
    "mod = LinearRegression()\n",
    "mod.fit(train_x, train_y)\n",
    "\n",
    "regressionSummary(valid_y, mod.predict(valid_x))\n"
   ]
  },
  {
   "cell_type": "code",
   "execution_count": 7,
   "id": "ad730d74",
   "metadata": {},
   "outputs": [
    {
     "data": {
      "image/png": "[encoded data removed]",
      "text/plain": [
       "<Figure size 432x288 with 1 Axes>"
      ]
     },
     "metadata": {
      "needs_background": "light"
     },
     "output_type": "display_data"
    }
   ],
   "source": [
    "plt.hist(valid_y-mod.predict(valid_x))\n",
    "plt.show()"
   ]
  },
  {
   "cell_type": "markdown",
   "id": "fc0f2c79",
   "metadata": {},
   "source": [
    "### 6.2"
   ]
  },
  {
   "cell_type": "code",
   "execution_count": 4,
   "id": "9920cca6",
   "metadata": {},
   "outputs": [
    {
     "name": "stdout",
     "output_type": "stream",
     "text": [
      "<class 'pandas.core.frame.DataFrame'>\n",
      "RangeIndex: 2000 entries, 0 to 1999\n",
      "Data columns (total 25 columns):\n",
      " #   Column                Non-Null Count  Dtype\n",
      "---  ------                --------------  -----\n",
      " 0   sequence_number       2000 non-null   int64\n",
      " 1   US                    2000 non-null   int64\n",
      " 2   source_a              2000 non-null   int64\n",
      " 3   source_c              2000 non-null   int64\n",
      " 4   source_b              2000 non-null   int64\n",
      " 5   source_d              2000 non-null   int64\n",
      " 6   source_e              2000 non-null   int64\n",
      " 7   source_m              2000 non-null   int64\n",
      " 8   source_o              2000 non-null   int64\n",
      " 9   source_h              2000 non-null   int64\n",
      " 10  source_r              2000 non-null   int64\n",
      " 11  source_s              2000 non-null   int64\n",
      " 12  source_t              2000 non-null   int64\n",
      " 13  source_u              2000 non-null   int64\n",
      " 14  source_p              2000 non-null   int64\n",
      " 15  source_x              2000 non-null   int64\n",
      " 16  source_w              2000 non-null   int64\n",
      " 17  Freq                  2000 non-null   int64\n",
      " 18  last_update_days_ago  2000 non-null   int64\n",
      " 19  1st_update_days_ago   2000 non-null   int64\n",
      " 20  Web order             2000 non-null   int64\n",
      " 21  Gender=male           2000 non-null   int64\n",
      " 22  Address_is_res        2000 non-null   int64\n",
      " 23  Purchase              2000 non-null   int64\n",
      " 24  Spending              2000 non-null   int64\n",
      "dtypes: int64(25)\n",
      "memory usage: 390.8 KB\n"
     ]
    }
   ],
   "source": [
    "tayco = pd.read_csv(\"Tayko.csv\")\n",
    "tayco.info()"
   ]
  },
  {
   "cell_type": "code",
   "execution_count": 42,
   "id": "df7e6622",
   "metadata": {},
   "outputs": [
    {
     "data": {
      "text/html": [
       "<div>\n",
       "<style scoped>\n",
       "    .dataframe tbody tr th:only-of-type {\n",
       "        vertical-align: middle;\n",
       "    }\n",
       "\n",
       "    .dataframe tbody tr th {\n",
       "        vertical-align: top;\n",
       "    }\n",
       "\n",
       "    .dataframe thead th {\n",
       "        text-align: right;\n",
       "    }\n",
       "</style>\n",
       "<table border=\"1\" class=\"dataframe\">\n",
       "  <thead>\n",
       "    <tr style=\"text-align: right;\">\n",
       "      <th></th>\n",
       "      <th>sequence_number</th>\n",
       "      <th>US</th>\n",
       "      <th>source_a</th>\n",
       "      <th>source_c</th>\n",
       "      <th>source_b</th>\n",
       "      <th>source_d</th>\n",
       "      <th>source_e</th>\n",
       "      <th>source_m</th>\n",
       "      <th>source_o</th>\n",
       "      <th>source_h</th>\n",
       "      <th>...</th>\n",
       "      <th>source_x</th>\n",
       "      <th>source_w</th>\n",
       "      <th>Freq</th>\n",
       "      <th>last_update_days_ago</th>\n",
       "      <th>1st_update_days_ago</th>\n",
       "      <th>Web order</th>\n",
       "      <th>Gender=male</th>\n",
       "      <th>Address_is_res</th>\n",
       "      <th>Purchase</th>\n",
       "      <th>Spending</th>\n",
       "    </tr>\n",
       "  </thead>\n",
       "  <tbody>\n",
       "    <tr>\n",
       "      <th>0</th>\n",
       "      <td>1</td>\n",
       "      <td>1</td>\n",
       "      <td>0</td>\n",
       "      <td>0</td>\n",
       "      <td>1</td>\n",
       "      <td>0</td>\n",
       "      <td>0</td>\n",
       "      <td>0</td>\n",
       "      <td>0</td>\n",
       "      <td>0</td>\n",
       "      <td>...</td>\n",
       "      <td>0</td>\n",
       "      <td>0</td>\n",
       "      <td>2</td>\n",
       "      <td>3662</td>\n",
       "      <td>3662</td>\n",
       "      <td>1</td>\n",
       "      <td>0</td>\n",
       "      <td>1</td>\n",
       "      <td>1</td>\n",
       "      <td>128</td>\n",
       "    </tr>\n",
       "    <tr>\n",
       "      <th>1</th>\n",
       "      <td>2</td>\n",
       "      <td>1</td>\n",
       "      <td>0</td>\n",
       "      <td>0</td>\n",
       "      <td>0</td>\n",
       "      <td>0</td>\n",
       "      <td>1</td>\n",
       "      <td>0</td>\n",
       "      <td>0</td>\n",
       "      <td>0</td>\n",
       "      <td>...</td>\n",
       "      <td>0</td>\n",
       "      <td>0</td>\n",
       "      <td>0</td>\n",
       "      <td>2900</td>\n",
       "      <td>2900</td>\n",
       "      <td>1</td>\n",
       "      <td>1</td>\n",
       "      <td>0</td>\n",
       "      <td>0</td>\n",
       "      <td>0</td>\n",
       "    </tr>\n",
       "  </tbody>\n",
       "</table>\n",
       "<p>2 rows × 25 columns</p>\n",
       "</div>"
      ],
      "text/plain": [
       "   sequence_number  US  source_a  source_c  source_b  source_d  source_e  \\\n",
       "0                1   1         0         0         1         0         0   \n",
       "1                2   1         0         0         0         0         1   \n",
       "\n",
       "   source_m  source_o  source_h  ...  source_x  source_w  Freq  \\\n",
       "0         0         0         0  ...         0         0     2   \n",
       "1         0         0         0  ...         0         0     0   \n",
       "\n",
       "   last_update_days_ago  1st_update_days_ago  Web order  Gender=male  \\\n",
       "0                  3662                 3662          1            0   \n",
       "1                  2900                 2900          1            1   \n",
       "\n",
       "   Address_is_res  Purchase  Spending  \n",
       "0               1         1       128  \n",
       "1               0         0         0  \n",
       "\n",
       "[2 rows x 25 columns]"
      ]
     },
     "execution_count": 42,
     "metadata": {},
     "output_type": "execute_result"
    }
   ],
   "source": [
    "tayco.head(2)"
   ]
  },
  {
   "cell_type": "markdown",
   "id": "3c973203",
   "metadata": {},
   "source": [
    "### a. 범주형 변수들에 대한 테이블을 만들고 각 범주별로 소비금액의 평균과 표준편차를 계산하시오 "
   ]
  },
  {
   "cell_type": "code",
   "execution_count": 15,
   "id": "0f8a19e8",
   "metadata": {},
   "outputs": [
    {
     "name": "stdout",
     "output_type": "stream",
     "text": [
      "mean by US : 102.92480291085506\n",
      "std by US : 189.27566433368258\n",
      "mean by source_a : 193.02766798418972\n",
      "std by source_a : 256.23758821140444\n",
      "mean by source_c : 72.60714285714286\n",
      "std by source_c : 156.31369229523818\n",
      "mean by source_b : 59.28333333333333\n",
      "std by source_b : 117.55493500954368\n",
      "mean by source_d : 105.5421686746988\n",
      "std by source_d : 137.9927800519252\n",
      "mean by source_e : 82.08278145695364\n",
      "std by source_e : 151.06354882059082\n",
      "mean by source_m : 90.15151515151516\n",
      "std by source_m : 106.09668974929225\n",
      "mean by source_o : 32.492537313432834\n",
      "std by source_o : 88.84330317599674\n",
      "mean by source_h : 20.895238095238096\n",
      "std by source_h : 126.21585020309789\n",
      "mean by source_r : 143.28467153284672\n",
      "std by source_r : 264.23262781410193\n",
      "mean by source_s : 49.11702127659574\n",
      "std by source_s : 104.72450867831044\n",
      "mean by source_t : 108.62790697674419\n",
      "std by source_t : 116.82465967174784\n",
      "mean by source_u : 152.9747899159664\n",
      "std by source_u : 237.62699779080154\n",
      "mean by source_p : 151.16666666666666\n",
      "std by source_p : 127.95726085713387\n",
      "mean by source_x : 71.16666666666667\n",
      "std by source_x : 114.57337012961234\n",
      "mean by source_w : 102.57818181818182\n",
      "std by source_w : 157.64979053755883\n",
      "mean by Web order : 129.19953051643193\n",
      "std by Web order : 200.46383956988961\n",
      "mean by Gender=male : 98.35081029551954\n",
      "std by Gender=male : 183.02006027635434\n",
      "mean by Address_is_res : 93.17420814479638\n",
      "std by Address_is_res : 132.2042807562545\n",
      "mean by Purchase : 205.249\n",
      "std by Purchase : 220.73955910065604\n"
     ]
    }
   ],
   "source": [
    "# 범주형 : US, source(a~w), web order, gender=male, Address_is_res, Purchase.. \n",
    "# 그냥 sequence_number, Freq, last_update_days_ago, 1st_update_days_ago, Spending 뺴고 다 \n",
    "\n",
    "cate = tayco.drop(columns = ['sequence_number', 'Freq', 'last_update_days_ago', '1st_update_days_ago', 'Spending'])\n",
    "for i in cate.columns:\n",
    "    print(\"mean by {} : {}\".format(i,tayco.groupby(i).mean().Spending[1]))\n",
    "    print(\"std by {} : {}\".format(i,tayco.groupby(i).std().Spending[1]))\n",
    "            "
   ]
  },
  {
   "cell_type": "markdown",
   "id": "635fcab6",
   "metadata": {},
   "source": [
    "### b. 연속형 변수들에 대하여 산점도를 작성하여 소비금액과의 관계를 탐색하시오 (Spending : freq, spending : last_update) 이들이 선형관계가 있어 보이는가?"
   ]
  },
  {
   "cell_type": "code",
   "execution_count": 41,
   "id": "cbd1e35c",
   "metadata": {},
   "outputs": [
    {
     "data": {
      "text/plain": [
       "<AxesSubplot:xlabel='last_update_days_ago', ylabel='Spending'>"
      ]
     },
     "execution_count": 41,
     "metadata": {},
     "output_type": "execute_result"
    },
    {
     "data": {
      "image/png": "[encoded data removed]",
      "text/plain": [
       "<Figure size 432x288 with 1 Axes>"
      ]
     },
     "metadata": {
      "needs_background": "light"
     },
     "output_type": "display_data"
    },
    {
     "data": {
      "image/png": "[encoded data removed]",
      "text/plain": [
       "<Figure size 432x288 with 1 Axes>"
      ]
     },
     "metadata": {
      "needs_background": "light"
     },
     "output_type": "display_data"
    }
   ],
   "source": [
    "\n",
    "tayco.plot.scatter('Freq','Spending')\n",
    "tayco.plot.scatter('last_update_days_ago','Spending' )\n",
    "\n"
   ]
  },
  {
   "cell_type": "markdown",
   "id": "14d95d64",
   "metadata": {},
   "source": [
    "### c. \n",
    "i. 2000개 레코드를 학습 세트와 검증 세트로 나누시오  \n",
    "ii. spending을 목적변수로 설정하고 6개 예측변수를 사용하여 다중 선형회귀모델을 만드시오. 추정된 회귀모델식을 구하시오.  \n",
    "iii. 이 모델을 기반으로 하였을 때, 가장 많은 돈을 지출할 것 같은 구매고객의 유형은 무엇인가?  \n",
    "iv. 예측변수들의 수를 줄이기 위해 후방소거법을 사용한다면, 어떠한 예측변수 먼저 탈락되겠는가?  \n",
    "v. 검증 세트의 첫 번째 구매 데이터를 이용하여 예측값과 예측오차가 어떻게 계산되는지 보이시오.  \n",
    "vi. 검증 세트에 대한 모델의 성능을 검토한 후 모델의 예측 정확도에 대해 평가하시오.  \n",
    "vii. 모델의 잔차에 대한 히스토그램을 작성하시오. 정규분포를 따르는가? 이는 모델의 예측 성능에 어떠한 영향을 미치는가?"
   ]
  },
  {
   "cell_type": "code",
   "execution_count": 52,
   "id": "809ba2c4",
   "metadata": {},
   "outputs": [],
   "source": [
    "# i\n",
    "x = tayco.drop(columns=['sequence_number','Spending'])\n",
    "y = tayco['Spending']\n",
    "train_x, valid_x, train_y, valid_y = train_test_split(x,y,test_size=0.4,random_state=1)"
   ]
  },
  {
   "cell_type": "code",
   "execution_count": 53,
   "id": "5963bb37",
   "metadata": {},
   "outputs": [
    {
     "data": {
      "text/html": [
       "<div>\n",
       "<style scoped>\n",
       "    .dataframe tbody tr th:only-of-type {\n",
       "        vertical-align: middle;\n",
       "    }\n",
       "\n",
       "    .dataframe tbody tr th {\n",
       "        vertical-align: top;\n",
       "    }\n",
       "\n",
       "    .dataframe thead th {\n",
       "        text-align: right;\n",
       "    }\n",
       "</style>\n",
       "<table border=\"1\" class=\"dataframe\">\n",
       "  <thead>\n",
       "    <tr style=\"text-align: right;\">\n",
       "      <th></th>\n",
       "      <th>x</th>\n",
       "      <th>y</th>\n",
       "    </tr>\n",
       "  </thead>\n",
       "  <tbody>\n",
       "    <tr>\n",
       "      <th>0</th>\n",
       "      <td>US</td>\n",
       "      <td>-4.204297</td>\n",
       "    </tr>\n",
       "    <tr>\n",
       "      <th>1</th>\n",
       "      <td>source_a</td>\n",
       "      <td>-2.301154</td>\n",
       "    </tr>\n",
       "    <tr>\n",
       "      <th>2</th>\n",
       "      <td>source_c</td>\n",
       "      <td>-42.727598</td>\n",
       "    </tr>\n",
       "    <tr>\n",
       "      <th>3</th>\n",
       "      <td>source_b</td>\n",
       "      <td>-17.094998</td>\n",
       "    </tr>\n",
       "    <tr>\n",
       "      <th>4</th>\n",
       "      <td>source_d</td>\n",
       "      <td>-46.966324</td>\n",
       "    </tr>\n",
       "    <tr>\n",
       "      <th>5</th>\n",
       "      <td>source_e</td>\n",
       "      <td>-24.909683</td>\n",
       "    </tr>\n",
       "    <tr>\n",
       "      <th>6</th>\n",
       "      <td>source_m</td>\n",
       "      <td>-19.357553</td>\n",
       "    </tr>\n",
       "    <tr>\n",
       "      <th>7</th>\n",
       "      <td>source_o</td>\n",
       "      <td>5.870741</td>\n",
       "    </tr>\n",
       "    <tr>\n",
       "      <th>8</th>\n",
       "      <td>source_h</td>\n",
       "      <td>-73.396889</td>\n",
       "    </tr>\n",
       "    <tr>\n",
       "      <th>9</th>\n",
       "      <td>source_r</td>\n",
       "      <td>-3.873796</td>\n",
       "    </tr>\n",
       "    <tr>\n",
       "      <th>10</th>\n",
       "      <td>source_s</td>\n",
       "      <td>-7.164861</td>\n",
       "    </tr>\n",
       "    <tr>\n",
       "      <th>11</th>\n",
       "      <td>source_t</td>\n",
       "      <td>-41.268212</td>\n",
       "    </tr>\n",
       "    <tr>\n",
       "      <th>12</th>\n",
       "      <td>source_u</td>\n",
       "      <td>-6.332643</td>\n",
       "    </tr>\n",
       "    <tr>\n",
       "      <th>13</th>\n",
       "      <td>source_p</td>\n",
       "      <td>-60.822548</td>\n",
       "    </tr>\n",
       "    <tr>\n",
       "      <th>14</th>\n",
       "      <td>source_x</td>\n",
       "      <td>-30.803226</td>\n",
       "    </tr>\n",
       "    <tr>\n",
       "      <th>15</th>\n",
       "      <td>source_w</td>\n",
       "      <td>4.164022</td>\n",
       "    </tr>\n",
       "    <tr>\n",
       "      <th>16</th>\n",
       "      <td>Freq</td>\n",
       "      <td>73.439900</td>\n",
       "    </tr>\n",
       "    <tr>\n",
       "      <th>17</th>\n",
       "      <td>last_update_days_ago</td>\n",
       "      <td>-0.018680</td>\n",
       "    </tr>\n",
       "    <tr>\n",
       "      <th>18</th>\n",
       "      <td>1st_update_days_ago</td>\n",
       "      <td>0.011661</td>\n",
       "    </tr>\n",
       "    <tr>\n",
       "      <th>19</th>\n",
       "      <td>Web order</td>\n",
       "      <td>-1.902998</td>\n",
       "    </tr>\n",
       "    <tr>\n",
       "      <th>20</th>\n",
       "      <td>Gender=male</td>\n",
       "      <td>-7.766443</td>\n",
       "    </tr>\n",
       "    <tr>\n",
       "      <th>21</th>\n",
       "      <td>Address_is_res</td>\n",
       "      <td>-58.462851</td>\n",
       "    </tr>\n",
       "    <tr>\n",
       "      <th>22</th>\n",
       "      <td>Purchase</td>\n",
       "      <td>96.097493</td>\n",
       "    </tr>\n",
       "  </tbody>\n",
       "</table>\n",
       "</div>"
      ],
      "text/plain": [
       "                       x          y\n",
       "0                     US  -4.204297\n",
       "1               source_a  -2.301154\n",
       "2               source_c -42.727598\n",
       "3               source_b -17.094998\n",
       "4               source_d -46.966324\n",
       "5               source_e -24.909683\n",
       "6               source_m -19.357553\n",
       "7               source_o   5.870741\n",
       "8               source_h -73.396889\n",
       "9               source_r  -3.873796\n",
       "10              source_s  -7.164861\n",
       "11              source_t -41.268212\n",
       "12              source_u  -6.332643\n",
       "13              source_p -60.822548\n",
       "14              source_x -30.803226\n",
       "15              source_w   4.164022\n",
       "16                  Freq  73.439900\n",
       "17  last_update_days_ago  -0.018680\n",
       "18   1st_update_days_ago   0.011661\n",
       "19             Web order  -1.902998\n",
       "20           Gender=male  -7.766443\n",
       "21        Address_is_res -58.462851\n",
       "22              Purchase  96.097493"
      ]
     },
     "execution_count": 53,
     "metadata": {},
     "output_type": "execute_result"
    }
   ],
   "source": [
    "# ii\n",
    "mod = LinearRegression()\n",
    "mod.fit(train_x, train_y)\n",
    "\n",
    "coef = pd.DataFrame({'x':x.columns, 'y':mod.coef_})\n",
    "coef"
   ]
  },
  {
   "cell_type": "code",
   "execution_count": 56,
   "id": "302003b8",
   "metadata": {},
   "outputs": [],
   "source": [
    "# iii\n",
    "# Purchase = 1 인 고객"
   ]
  },
  {
   "cell_type": "code",
   "execution_count": 58,
   "id": "6de2f94c",
   "metadata": {},
   "outputs": [
    {
     "name": "stdout",
     "output_type": "stream",
     "text": [
      "Variables: US, source_a, source_c, source_b, source_d, source_e, source_m, source_o, source_h, source_r, source_s, source_t, source_u, source_p, source_x, source_w, Freq, last_update_days_ago, 1st_update_days_ago, Web order, Gender=male, Address_is_res, Purchase\n",
      "Start: score=14858.09\n",
      "Step: score=14856.10, remove source_a\n",
      "Step: score=14854.12, remove source_r\n",
      "Step: score=14852.20, remove Web order\n",
      "Step: score=14850.27, remove source_s\n",
      "Step: score=14848.35, remove source_u\n",
      "Step: score=14846.54, remove US\n",
      "Step: score=14844.79, remove source_o\n",
      "Step: score=14843.17, remove source_m\n",
      "Step: score=14841.89, remove source_w\n",
      "Step: score=14840.76, remove source_b\n",
      "Step: score=14839.84, remove source_x\n",
      "Step: score=14839.24, remove Gender=male\n",
      "Step: score=14839.24, remove None\n",
      "['source_c', 'source_d', 'source_e', 'source_h', 'source_t', 'source_p', 'Freq', 'last_update_days_ago', '1st_update_days_ago', 'Address_is_res', 'Purchase']\n"
     ]
    }
   ],
   "source": [
    "# iv\n",
    "def train_model(variables):\n",
    "    model = LinearRegression()\n",
    "    model.fit(train_x[variables], train_y)\n",
    "    return model\n",
    "\n",
    "def score_model(model, variables):\n",
    "    return AIC_score(train_y, model.predict(train_x[variables]), model)\n",
    "\n",
    "allVariables = train_x.columns\n",
    "\n",
    "best_model, best_variables = backward_elimination(allVariables, train_model, score_model, verbose=True)\n",
    "print(best_variables)\n",
    "\n",
    "# source_a 가 가장 먼저 소거된다."
   ]
  },
  {
   "cell_type": "code",
   "execution_count": 60,
   "id": "ab23782b",
   "metadata": {},
   "outputs": [
    {
     "name": "stdout",
     "output_type": "stream",
     "text": [
      "-8.004318617794898 -136.0043186177949\n"
     ]
    }
   ],
   "source": [
    "# v\n",
    "tayco_p = mod.predict(valid_x)\n",
    "print(tayco_p[0], tayco_p[0]-valid_y[0])"
   ]
  },
  {
   "cell_type": "code",
   "execution_count": 64,
   "id": "a7d08910",
   "metadata": {},
   "outputs": [
    {
     "name": "stdout",
     "output_type": "stream",
     "text": [
      "\n",
      "Regression statistics\n",
      "\n",
      "               Mean Error (ME) : 4.2402\n",
      "Root Mean Squared Error (RMSE) : 129.1919\n",
      "     Mean Absolute Error (MAE) : 71.9990\n"
     ]
    }
   ],
   "source": [
    "# vi\n",
    "regressionSummary(valid_y, tayco_p)\n",
    "# 기준이 뭐지?"
   ]
  },
  {
   "cell_type": "code",
   "execution_count": 68,
   "id": "d359a4a8",
   "metadata": {},
   "outputs": [
    {
     "data": {
      "text/plain": [
       "array([[<AxesSubplot:title={'center':'Residuals'}>]], dtype=object)"
      ]
     },
     "execution_count": 68,
     "metadata": {},
     "output_type": "execute_result"
    },
    {
     "data": {
      "image/png": "[encoded data removed]",
      "text/plain": [
       "<Figure size 432x288 with 1 Axes>"
      ]
     },
     "metadata": {
      "needs_background": "light"
     },
     "output_type": "display_data"
    }
   ],
   "source": [
    "# vii\n",
    "pd.DataFrame({'Residuals':tayco_p-valid_y}).hist(bins=20)\n",
    "# 정규분포를 따르지 않는다.\n",
    "# 예측성능은 정규분포가 아니어도 뛰어난 성능을 지닐 수 있다."
   ]
  },
  {
   "cell_type": "markdown",
   "id": "2658ace4",
   "metadata": {},
   "source": [
    "### 6.3"
   ]
  },
  {
   "cell_type": "code",
   "execution_count": 153,
   "id": "1baf3ae7",
   "metadata": {},
   "outputs": [
    {
     "data": {
      "text/html": [
       "<div>\n",
       "<style scoped>\n",
       "    .dataframe tbody tr th:only-of-type {\n",
       "        vertical-align: middle;\n",
       "    }\n",
       "\n",
       "    .dataframe tbody tr th {\n",
       "        vertical-align: top;\n",
       "    }\n",
       "\n",
       "    .dataframe thead th {\n",
       "        text-align: right;\n",
       "    }\n",
       "</style>\n",
       "<table border=\"1\" class=\"dataframe\">\n",
       "  <thead>\n",
       "    <tr style=\"text-align: right;\">\n",
       "      <th></th>\n",
       "      <th>S_CODE</th>\n",
       "      <th>S_CITY</th>\n",
       "      <th>E_CODE</th>\n",
       "      <th>E_CITY</th>\n",
       "      <th>COUPON</th>\n",
       "      <th>NEW</th>\n",
       "      <th>VACATION</th>\n",
       "      <th>SW</th>\n",
       "      <th>HI</th>\n",
       "      <th>S_INCOME</th>\n",
       "      <th>E_INCOME</th>\n",
       "      <th>S_POP</th>\n",
       "      <th>E_POP</th>\n",
       "      <th>SLOT</th>\n",
       "      <th>GATE</th>\n",
       "      <th>DISTANCE</th>\n",
       "      <th>PAX</th>\n",
       "      <th>FARE</th>\n",
       "    </tr>\n",
       "  </thead>\n",
       "  <tbody>\n",
       "    <tr>\n",
       "      <th>0</th>\n",
       "      <td>*</td>\n",
       "      <td>Dallas/Fort Worth   TX</td>\n",
       "      <td>*</td>\n",
       "      <td>Amarillo            TX</td>\n",
       "      <td>1.00</td>\n",
       "      <td>3</td>\n",
       "      <td>No</td>\n",
       "      <td>Yes</td>\n",
       "      <td>5291.99</td>\n",
       "      <td>28637.0</td>\n",
       "      <td>21112.0</td>\n",
       "      <td>3036732</td>\n",
       "      <td>205711</td>\n",
       "      <td>Free</td>\n",
       "      <td>Free</td>\n",
       "      <td>312</td>\n",
       "      <td>7864</td>\n",
       "      <td>64.11</td>\n",
       "    </tr>\n",
       "    <tr>\n",
       "      <th>1</th>\n",
       "      <td>*</td>\n",
       "      <td>Atlanta             GA</td>\n",
       "      <td>*</td>\n",
       "      <td>Baltimore/Wash Intl MD</td>\n",
       "      <td>1.06</td>\n",
       "      <td>3</td>\n",
       "      <td>No</td>\n",
       "      <td>No</td>\n",
       "      <td>5419.16</td>\n",
       "      <td>26993.0</td>\n",
       "      <td>29838.0</td>\n",
       "      <td>3532657</td>\n",
       "      <td>7145897</td>\n",
       "      <td>Free</td>\n",
       "      <td>Free</td>\n",
       "      <td>576</td>\n",
       "      <td>8820</td>\n",
       "      <td>174.47</td>\n",
       "    </tr>\n",
       "  </tbody>\n",
       "</table>\n",
       "</div>"
      ],
      "text/plain": [
       "  S_CODE                  S_CITY E_CODE                  E_CITY  COUPON  NEW  \\\n",
       "0      *  Dallas/Fort Worth   TX      *  Amarillo            TX    1.00    3   \n",
       "1      *  Atlanta             GA      *  Baltimore/Wash Intl MD    1.06    3   \n",
       "\n",
       "  VACATION   SW       HI  S_INCOME  E_INCOME    S_POP    E_POP  SLOT  GATE  \\\n",
       "0       No  Yes  5291.99   28637.0   21112.0  3036732   205711  Free  Free   \n",
       "1       No   No  5419.16   26993.0   29838.0  3532657  7145897  Free  Free   \n",
       "\n",
       "   DISTANCE   PAX    FARE  \n",
       "0       312  7864   64.11  \n",
       "1       576  8820  174.47  "
      ]
     },
     "execution_count": 153,
     "metadata": {},
     "output_type": "execute_result"
    }
   ],
   "source": [
    "airfares = pd.read_csv('Airfares.csv')\n",
    "airfares.head(2)"
   ]
  },
  {
   "cell_type": "markdown",
   "id": "8ef409e6",
   "metadata": {},
   "source": [
    "### a. 수치형 예측변수들과 반응변수인 운임(FARE)에 대한 상관관계 표를 만들고 운임과 예측변수들 사이의 산점도를 조사하시오. 어떤 예측변수가 최적의 예측변수인가?"
   ]
  },
  {
   "cell_type": "code",
   "execution_count": 91,
   "id": "eb7690d1",
   "metadata": {},
   "outputs": [
    {
     "data": {
      "text/html": [
       "<div>\n",
       "<style scoped>\n",
       "    .dataframe tbody tr th:only-of-type {\n",
       "        vertical-align: middle;\n",
       "    }\n",
       "\n",
       "    .dataframe tbody tr th {\n",
       "        vertical-align: top;\n",
       "    }\n",
       "\n",
       "    .dataframe thead th {\n",
       "        text-align: right;\n",
       "    }\n",
       "</style>\n",
       "<table border=\"1\" class=\"dataframe\">\n",
       "  <thead>\n",
       "    <tr style=\"text-align: right;\">\n",
       "      <th></th>\n",
       "      <th>FARE</th>\n",
       "    </tr>\n",
       "  </thead>\n",
       "  <tbody>\n",
       "    <tr>\n",
       "      <th>COUPON</th>\n",
       "      <td>0.496537</td>\n",
       "    </tr>\n",
       "    <tr>\n",
       "      <th>NEW</th>\n",
       "      <td>0.091730</td>\n",
       "    </tr>\n",
       "    <tr>\n",
       "      <th>HI</th>\n",
       "      <td>0.025195</td>\n",
       "    </tr>\n",
       "    <tr>\n",
       "      <th>S_INCOME</th>\n",
       "      <td>0.209135</td>\n",
       "    </tr>\n",
       "    <tr>\n",
       "      <th>E_INCOME</th>\n",
       "      <td>0.326092</td>\n",
       "    </tr>\n",
       "    <tr>\n",
       "      <th>S_POP</th>\n",
       "      <td>0.145097</td>\n",
       "    </tr>\n",
       "    <tr>\n",
       "      <th>E_POP</th>\n",
       "      <td>0.285043</td>\n",
       "    </tr>\n",
       "    <tr>\n",
       "      <th>DISTANCE</th>\n",
       "      <td>0.670016</td>\n",
       "    </tr>\n",
       "    <tr>\n",
       "      <th>PAX</th>\n",
       "      <td>-0.090705</td>\n",
       "    </tr>\n",
       "  </tbody>\n",
       "</table>\n",
       "</div>"
      ],
      "text/plain": [
       "              FARE\n",
       "COUPON    0.496537\n",
       "NEW       0.091730\n",
       "HI        0.025195\n",
       "S_INCOME  0.209135\n",
       "E_INCOME  0.326092\n",
       "S_POP     0.145097\n",
       "E_POP     0.285043\n",
       "DISTANCE  0.670016\n",
       "PAX      -0.090705"
      ]
     },
     "execution_count": 91,
     "metadata": {},
     "output_type": "execute_result"
    }
   ],
   "source": [
    "cor = pd.DataFrame(airfares.corr().FARE)\n",
    "cor = cor.drop(index=['FARE'])\n",
    "cor"
   ]
  },
  {
   "cell_type": "code",
   "execution_count": 99,
   "id": "279f5ffc",
   "metadata": {},
   "outputs": [
    {
     "data": {
      "image/png": "[encoded data removed]",
      "text/plain": [
       "<Figure size 720x720 with 9 Axes>"
      ]
     },
     "metadata": {
      "needs_background": "light"
     },
     "output_type": "display_data"
    }
   ],
   "source": [
    "c1_name = [['COUPON','NEW','HI'],['S_INCOME','E_INCOME','S_POP'],\n",
    "          ['E_POP','DISTANCE','PAX']]\n",
    "fig, ax = plt.subplots(nrows = 3,ncols = 3)\n",
    "\n",
    "for i in range(3): #행\n",
    "    for j in range(3): #열\n",
    "        ax[i][j].hist(airfares[c1_name[i][j]])\n",
    "        ax[i][j].set_xlabel(c1_name[i][j])\n",
    "\n",
    "fig.set_size_inches(10,10)\n",
    "plt.show()\n",
    "\n",
    "# COUPON 또는 PAX가 가장 큰 선형관계를 보이므로, 이 둘이 최적의 예측변수로 생각된다."
   ]
  },
  {
   "cell_type": "markdown",
   "id": "a5c3b974",
   "metadata": {},
   "source": [
    "### b. 분류형 예측변수들(처음 네 개는 제외)에 대하여 각 범주별로 비행편의 백분율을 계산하여 조사하시오. 각 범주별 평균 운임을 보여주는 표를 작성하시오. 어떤 범주형 변수가 운임을 예측하는 데 가장 좋은 예측변수인가?"
   ]
  },
  {
   "cell_type": "code",
   "execution_count": 139,
   "id": "3dca794c",
   "metadata": {},
   "outputs": [
    {
     "name": "stdout",
     "output_type": "stream",
     "text": [
      "VACATION\n",
      "No     79.133971\n",
      "Yes    20.866029\n",
      "Name: FARE, dtype: float64\n",
      "SW\n",
      "No     81.404631\n",
      "Yes    18.595369\n",
      "Name: FARE, dtype: float64\n",
      "SLOT\n",
      "Controlled    32.992044\n",
      "Free          67.007956\n",
      "Name: FARE, dtype: float64\n",
      "GATE\n",
      "Constrained    23.332189\n",
      "Free           76.667811\n",
      "Name: FARE, dtype: float64\n"
     ]
    },
    {
     "data": {
      "text/html": [
       "<div>\n",
       "<style scoped>\n",
       "    .dataframe tbody tr th:only-of-type {\n",
       "        vertical-align: middle;\n",
       "    }\n",
       "\n",
       "    .dataframe tbody tr th {\n",
       "        vertical-align: top;\n",
       "    }\n",
       "\n",
       "    .dataframe thead th {\n",
       "        text-align: right;\n",
       "    }\n",
       "</style>\n",
       "<table border=\"1\" class=\"dataframe\">\n",
       "  <thead>\n",
       "    <tr style=\"text-align: right;\">\n",
       "      <th></th>\n",
       "      <th>0</th>\n",
       "    </tr>\n",
       "  </thead>\n",
       "  <tbody>\n",
       "    <tr>\n",
       "      <th>No</th>\n",
       "      <td>173.552500</td>\n",
       "    </tr>\n",
       "    <tr>\n",
       "      <th>Yes</th>\n",
       "      <td>125.980882</td>\n",
       "    </tr>\n",
       "    <tr>\n",
       "      <th>No</th>\n",
       "      <td>188.182793</td>\n",
       "    </tr>\n",
       "    <tr>\n",
       "      <th>Yes</th>\n",
       "      <td>98.382268</td>\n",
       "    </tr>\n",
       "    <tr>\n",
       "      <th>Controlled</th>\n",
       "      <td>186.059396</td>\n",
       "    </tr>\n",
       "    <tr>\n",
       "      <th>Free</th>\n",
       "      <td>150.825680</td>\n",
       "    </tr>\n",
       "    <tr>\n",
       "      <th>Constrained</th>\n",
       "      <td>193.129032</td>\n",
       "    </tr>\n",
       "    <tr>\n",
       "      <th>Free</th>\n",
       "      <td>153.095953</td>\n",
       "    </tr>\n",
       "  </tbody>\n",
       "</table>\n",
       "</div>"
      ],
      "text/plain": [
       "                      0\n",
       "No           173.552500\n",
       "Yes          125.980882\n",
       "No           188.182793\n",
       "Yes           98.382268\n",
       "Controlled   186.059396\n",
       "Free         150.825680\n",
       "Constrained  193.129032\n",
       "Free         153.095953"
      ]
     },
     "execution_count": 139,
     "metadata": {},
     "output_type": "execute_result"
    }
   ],
   "source": [
    "aircat = ['VACATION','SW','SLOT','GATE']\n",
    "mean_df = pd.DataFrame()\n",
    "for i in aircat:\n",
    "    sum_gr = airfares.groupby(i).sum().FARE\n",
    "    ratio_gr = sum_gr/sum(airfares['FARE'])*100\n",
    "    print(ratio_gr)\n",
    "    mean_gr = airfares.groupby(i).mean().FARE\n",
    "    mean_df = pd.concat([mean_df, mean_gr], axis=0)\n",
    "mean_df"
   ]
  },
  {
   "cell_type": "markdown",
   "id": "0eca08ee",
   "metadata": {},
   "source": [
    "### c"
   ]
  },
  {
   "cell_type": "code",
   "execution_count": 158,
   "id": "0fc48402",
   "metadata": {},
   "outputs": [
    {
     "data": {
      "text/html": [
       "<div>\n",
       "<style scoped>\n",
       "    .dataframe tbody tr th:only-of-type {\n",
       "        vertical-align: middle;\n",
       "    }\n",
       "\n",
       "    .dataframe tbody tr th {\n",
       "        vertical-align: top;\n",
       "    }\n",
       "\n",
       "    .dataframe thead th {\n",
       "        text-align: right;\n",
       "    }\n",
       "</style>\n",
       "<table border=\"1\" class=\"dataframe\">\n",
       "  <thead>\n",
       "    <tr style=\"text-align: right;\">\n",
       "      <th></th>\n",
       "      <th>COUPON</th>\n",
       "      <th>NEW</th>\n",
       "      <th>HI</th>\n",
       "      <th>S_INCOME</th>\n",
       "      <th>E_INCOME</th>\n",
       "      <th>S_POP</th>\n",
       "      <th>E_POP</th>\n",
       "      <th>DISTANCE</th>\n",
       "      <th>PAX</th>\n",
       "      <th>FARE</th>\n",
       "      <th>VACATION_No</th>\n",
       "      <th>VACATION_Yes</th>\n",
       "      <th>SW_No</th>\n",
       "      <th>SW_Yes</th>\n",
       "      <th>SLOT_Controlled</th>\n",
       "      <th>SLOT_Free</th>\n",
       "      <th>GATE_Constrained</th>\n",
       "      <th>GATE_Free</th>\n",
       "    </tr>\n",
       "  </thead>\n",
       "  <tbody>\n",
       "    <tr>\n",
       "      <th>0</th>\n",
       "      <td>1.00</td>\n",
       "      <td>3</td>\n",
       "      <td>5291.99</td>\n",
       "      <td>28637.0</td>\n",
       "      <td>21112.0</td>\n",
       "      <td>3036732</td>\n",
       "      <td>205711</td>\n",
       "      <td>312</td>\n",
       "      <td>7864</td>\n",
       "      <td>64.11</td>\n",
       "      <td>1</td>\n",
       "      <td>0</td>\n",
       "      <td>0</td>\n",
       "      <td>1</td>\n",
       "      <td>0</td>\n",
       "      <td>1</td>\n",
       "      <td>0</td>\n",
       "      <td>1</td>\n",
       "    </tr>\n",
       "    <tr>\n",
       "      <th>1</th>\n",
       "      <td>1.06</td>\n",
       "      <td>3</td>\n",
       "      <td>5419.16</td>\n",
       "      <td>26993.0</td>\n",
       "      <td>29838.0</td>\n",
       "      <td>3532657</td>\n",
       "      <td>7145897</td>\n",
       "      <td>576</td>\n",
       "      <td>8820</td>\n",
       "      <td>174.47</td>\n",
       "      <td>1</td>\n",
       "      <td>0</td>\n",
       "      <td>1</td>\n",
       "      <td>0</td>\n",
       "      <td>0</td>\n",
       "      <td>1</td>\n",
       "      <td>0</td>\n",
       "      <td>1</td>\n",
       "    </tr>\n",
       "    <tr>\n",
       "      <th>2</th>\n",
       "      <td>1.06</td>\n",
       "      <td>3</td>\n",
       "      <td>9185.28</td>\n",
       "      <td>30124.0</td>\n",
       "      <td>29838.0</td>\n",
       "      <td>5787293</td>\n",
       "      <td>7145897</td>\n",
       "      <td>364</td>\n",
       "      <td>6452</td>\n",
       "      <td>207.76</td>\n",
       "      <td>1</td>\n",
       "      <td>0</td>\n",
       "      <td>1</td>\n",
       "      <td>0</td>\n",
       "      <td>0</td>\n",
       "      <td>1</td>\n",
       "      <td>0</td>\n",
       "      <td>1</td>\n",
       "    </tr>\n",
       "  </tbody>\n",
       "</table>\n",
       "</div>"
      ],
      "text/plain": [
       "   COUPON  NEW       HI  S_INCOME  E_INCOME    S_POP    E_POP  DISTANCE   PAX  \\\n",
       "0    1.00    3  5291.99   28637.0   21112.0  3036732   205711       312  7864   \n",
       "1    1.06    3  5419.16   26993.0   29838.0  3532657  7145897       576  8820   \n",
       "2    1.06    3  9185.28   30124.0   29838.0  5787293  7145897       364  6452   \n",
       "\n",
       "     FARE  VACATION_No  VACATION_Yes  SW_No  SW_Yes  SLOT_Controlled  \\\n",
       "0   64.11            1             0      0       1                0   \n",
       "1  174.47            1             0      1       0                0   \n",
       "2  207.76            1             0      1       0                0   \n",
       "\n",
       "   SLOT_Free  GATE_Constrained  GATE_Free  \n",
       "0          1                 0          1  \n",
       "1          1                 0          1  \n",
       "2          1                 0          1  "
      ]
     },
     "execution_count": 158,
     "metadata": {},
     "output_type": "execute_result"
    }
   ],
   "source": [
    "# i\n",
    "airfares_ = airfares.iloc[:,4:18]\n",
    "air_dm = pd.get_dummies(airfares_)\n",
    "air_dm.head(3)"
   ]
  },
  {
   "cell_type": "code",
   "execution_count": 172,
   "id": "29a99790",
   "metadata": {},
   "outputs": [
    {
     "name": "stdout",
     "output_type": "stream",
     "text": [
      "\n",
      "Regression statistics\n",
      "\n",
      "                      Mean Error (ME) : -1.8231\n",
      "       Root Mean Squared Error (RMSE) : 36.0002\n",
      "            Mean Absolute Error (MAE) : 28.5002\n",
      "          Mean Percentage Error (MPE) : -6.6037\n",
      "Mean Absolute Percentage Error (MAPE) : 21.6048\n"
     ]
    }
   ],
   "source": [
    "x = air_dm.drop(columns=['FARE'])\n",
    "y = air_dm['FARE']\n",
    "train_x, valid_x, train_y, valid_y = train_test_split(x,y, test_size=0.4, random_state=1)\n",
    "mod = LinearRegression()\n",
    "mod.fit(train_x, train_y)\n",
    "regressionSummary(valid_y, mod.predict(valid_x))"
   ]
  },
  {
   "cell_type": "code",
   "execution_count": 173,
   "id": "f0e050a0",
   "metadata": {},
   "outputs": [
    {
     "name": "stdout",
     "output_type": "stream",
     "text": [
      "Variables: COUPON, NEW, HI, S_INCOME, E_INCOME, S_POP, E_POP, DISTANCE, PAX, VACATION_No, VACATION_Yes, SW_No, SW_Yes, SLOT_Controlled, SLOT_Free, GATE_Constrained, GATE_Free\n",
      "Start: score=4379.42, constant\n",
      "Step: score=4149.88, add DISTANCE\n",
      "Step: score=4025.89, add SW_No\n",
      "Step: score=3913.59, add VACATION_No\n",
      "Step: score=3890.27, add HI\n",
      "Step: score=3873.33, add GATE_Constrained\n",
      "Step: score=3852.81, add SLOT_Controlled\n",
      "Step: score=3850.30, add PAX\n",
      "Step: score=3844.58, add E_POP\n",
      "Step: score=3826.43, add S_POP\n",
      "Step: score=3821.88, add E_INCOME\n",
      "Step: score=3821.88, unchanged None\n",
      "['DISTANCE', 'SW_No', 'VACATION_No', 'HI', 'GATE_Constrained', 'SLOT_Controlled', 'PAX', 'E_POP', 'S_POP', 'E_INCOME']\n"
     ]
    }
   ],
   "source": [
    "# ii \n",
    "def train_model(variables):\n",
    "    if len(variables) == 0:\n",
    "        return None\n",
    "    model = LinearRegression()\n",
    "    model.fit(train_x[variables], train_y)\n",
    "    return model\n",
    "\n",
    "def score_model(model, variables):\n",
    "    if len(variables) == 0:\n",
    "        return AIC_score(train_y, [train_y.mean()] * len(train_y), model, df = 1)\n",
    "    return AIC_score(train_y, model.predict(train_x[variables]), model)\n",
    "\n",
    "best_model, best_variables = stepwise_selection(train_x.columns, train_model, score_model, verbose=True)\n",
    "print(best_variables)\n",
    "\n",
    "# 예측변수가 ['DISTANCE', 'SW_No', 'VACATION_No', 'HI', 'GATE_Constrained', 'SLOT_Controlled',\n",
    "# 'PAX', 'E_POP', 'S_POP', 'E_INCOME'] 으로 이뤄진 회귀모델"
   ]
  },
  {
   "cell_type": "code",
   "execution_count": 174,
   "id": "77ebe265",
   "metadata": {},
   "outputs": [
    {
     "data": {
      "text/plain": [
       "[{'n': 1,\n",
       "  'variables': ['DISTANCE'],\n",
       "  'score': -0.45310713241704714,\n",
       "  'model': LinearRegression()},\n",
       " {'n': 2,\n",
       "  'variables': ['DISTANCE', 'SW_No'],\n",
       "  'score': -0.6057151540067445,\n",
       "  'model': LinearRegression()},\n",
       " {'n': 3,\n",
       "  'variables': ['DISTANCE', 'VACATION_Yes', 'SW_Yes'],\n",
       "  'score': -0.7069093753309805,\n",
       "  'model': LinearRegression()},\n",
       " {'n': 4,\n",
       "  'variables': ['HI', 'DISTANCE', 'VACATION_No', 'SW_Yes'],\n",
       "  'score': -0.7249765894601139,\n",
       "  'model': LinearRegression()},\n",
       " {'n': 5,\n",
       "  'variables': ['HI',\n",
       "   'DISTANCE',\n",
       "   'VACATION_Yes',\n",
       "   'SW_Yes',\n",
       "   'GATE_Constrained'],\n",
       "  'score': -0.7375839192847113,\n",
       "  'model': LinearRegression()},\n",
       " {'n': 6,\n",
       "  'variables': ['HI',\n",
       "   'DISTANCE',\n",
       "   'VACATION_Yes',\n",
       "   'SW_No',\n",
       "   'SLOT_Free',\n",
       "   'GATE_Free'],\n",
       "  'score': -0.7519469512913595,\n",
       "  'model': LinearRegression()},\n",
       " {'n': 7,\n",
       "  'variables': ['HI',\n",
       "   'S_POP',\n",
       "   'E_POP',\n",
       "   'DISTANCE',\n",
       "   'PAX',\n",
       "   'VACATION_No',\n",
       "   'SW_No'],\n",
       "  'score': -0.7587466622504643,\n",
       "  'model': LinearRegression()},\n",
       " {'n': 8,\n",
       "  'variables': ['HI',\n",
       "   'S_POP',\n",
       "   'E_POP',\n",
       "   'DISTANCE',\n",
       "   'PAX',\n",
       "   'VACATION_No',\n",
       "   'SW_No',\n",
       "   'GATE_Constrained'],\n",
       "  'score': -0.765104698634588,\n",
       "  'model': LinearRegression()},\n",
       " {'n': 9,\n",
       "  'variables': ['HI',\n",
       "   'S_POP',\n",
       "   'E_POP',\n",
       "   'DISTANCE',\n",
       "   'PAX',\n",
       "   'VACATION_No',\n",
       "   'SW_No',\n",
       "   'SLOT_Controlled',\n",
       "   'GATE_Constrained'],\n",
       "  'score': -0.7702658205923318,\n",
       "  'model': LinearRegression()},\n",
       " {'n': 10,\n",
       "  'variables': ['HI',\n",
       "   'E_INCOME',\n",
       "   'S_POP',\n",
       "   'E_POP',\n",
       "   'DISTANCE',\n",
       "   'PAX',\n",
       "   'VACATION_No',\n",
       "   'SW_No',\n",
       "   'SLOT_Controlled',\n",
       "   'GATE_Free'],\n",
       "  'score': -0.7735665926875468,\n",
       "  'model': LinearRegression()},\n",
       " {'n': 11,\n",
       "  'variables': ['HI',\n",
       "   'S_INCOME',\n",
       "   'E_INCOME',\n",
       "   'S_POP',\n",
       "   'E_POP',\n",
       "   'DISTANCE',\n",
       "   'PAX',\n",
       "   'VACATION_No',\n",
       "   'SW_No',\n",
       "   'SLOT_Controlled',\n",
       "   'GATE_Constrained'],\n",
       "  'score': -0.773594829454384,\n",
       "  'model': LinearRegression()},\n",
       " {'n': 12,\n",
       "  'variables': ['NEW',\n",
       "   'HI',\n",
       "   'S_INCOME',\n",
       "   'E_INCOME',\n",
       "   'S_POP',\n",
       "   'E_POP',\n",
       "   'DISTANCE',\n",
       "   'PAX',\n",
       "   'VACATION_No',\n",
       "   'SW_No',\n",
       "   'SLOT_Controlled',\n",
       "   'GATE_Constrained'],\n",
       "  'score': -0.7735586692166712,\n",
       "  'model': LinearRegression()},\n",
       " {'n': 13,\n",
       "  'variables': ['COUPON',\n",
       "   'NEW',\n",
       "   'HI',\n",
       "   'S_INCOME',\n",
       "   'E_INCOME',\n",
       "   'S_POP',\n",
       "   'E_POP',\n",
       "   'DISTANCE',\n",
       "   'PAX',\n",
       "   'VACATION_No',\n",
       "   'SW_No',\n",
       "   'SLOT_Controlled',\n",
       "   'GATE_Constrained'],\n",
       "  'score': -0.7732924042867068,\n",
       "  'model': LinearRegression()},\n",
       " {'n': 14,\n",
       "  'variables': ['COUPON',\n",
       "   'NEW',\n",
       "   'HI',\n",
       "   'S_INCOME',\n",
       "   'E_INCOME',\n",
       "   'S_POP',\n",
       "   'E_POP',\n",
       "   'DISTANCE',\n",
       "   'PAX',\n",
       "   'VACATION_No',\n",
       "   'VACATION_Yes',\n",
       "   'SW_No',\n",
       "   'SLOT_Controlled',\n",
       "   'GATE_Constrained'],\n",
       "  'score': -0.7726746724182783,\n",
       "  'model': LinearRegression()},\n",
       " {'n': 15,\n",
       "  'variables': ['COUPON',\n",
       "   'NEW',\n",
       "   'HI',\n",
       "   'S_INCOME',\n",
       "   'E_INCOME',\n",
       "   'S_POP',\n",
       "   'E_POP',\n",
       "   'DISTANCE',\n",
       "   'PAX',\n",
       "   'VACATION_No',\n",
       "   'VACATION_Yes',\n",
       "   'SW_No',\n",
       "   'SW_Yes',\n",
       "   'SLOT_Free',\n",
       "   'GATE_Free'],\n",
       "  'score': -0.7720535649658693,\n",
       "  'model': LinearRegression()},\n",
       " {'n': 16,\n",
       "  'variables': ['COUPON',\n",
       "   'NEW',\n",
       "   'HI',\n",
       "   'S_INCOME',\n",
       "   'E_INCOME',\n",
       "   'S_POP',\n",
       "   'E_POP',\n",
       "   'DISTANCE',\n",
       "   'PAX',\n",
       "   'VACATION_No',\n",
       "   'VACATION_Yes',\n",
       "   'SW_No',\n",
       "   'SLOT_Controlled',\n",
       "   'SLOT_Free',\n",
       "   'GATE_Constrained',\n",
       "   'GATE_Free'],\n",
       "  'score': -0.7714290541849538,\n",
       "  'model': LinearRegression()},\n",
       " {'n': 17,\n",
       "  'variables': ['COUPON',\n",
       "   'NEW',\n",
       "   'HI',\n",
       "   'S_INCOME',\n",
       "   'E_INCOME',\n",
       "   'S_POP',\n",
       "   'E_POP',\n",
       "   'DISTANCE',\n",
       "   'PAX',\n",
       "   'VACATION_No',\n",
       "   'VACATION_Yes',\n",
       "   'SW_No',\n",
       "   'SW_Yes',\n",
       "   'SLOT_Controlled',\n",
       "   'SLOT_Free',\n",
       "   'GATE_Constrained',\n",
       "   'GATE_Free'],\n",
       "  'score': -0.7708011120261211,\n",
       "  'model': LinearRegression()}]"
      ]
     },
     "execution_count": 174,
     "metadata": {},
     "output_type": "execute_result"
    }
   ],
   "source": [
    "# iii \n",
    "def train_model(variables):\n",
    "    model = LinearRegression()\n",
    "    model.fit(train_x[list(variables)], train_y)\n",
    "    return model\n",
    "def score_model(model, variables):\n",
    "    pred_y = model.predict(train_x[list(variables)])\n",
    "    # we negate as score is optimized to be as low as possible\n",
    "    return -adjusted_r2_score(train_y, pred_y, model)\n",
    "allVariables = train_x.columns\n",
    "results = exhaustive_search(allVariables, train_model, score_model)\n",
    "results \n",
    "\n",
    "# 'n'=14 부터는 오히려 R_agj score가 떨어지기 시작한다. 따라서 n='13'을 모델로 택하는 것이 옳다.\n",
    "# 즉, ['COUPON','NEW','HI','S_INCOME','E_INCOME','S_POP','E_POP','DISTANCE',\n",
    "#     'PAX','VACATION_No','SW_No','SLOT_Controlled','GATE_Constrained']\n",
    "# 단계적 회귀분석과 변수의 개수는 같지만 ,'GATE_Constrained' 대신에 'GATE_Free'가 선택된 것이 차이점이다."
   ]
  },
  {
   "cell_type": "code",
   "execution_count": 207,
   "id": "50dd3fde",
   "metadata": {},
   "outputs": [
    {
     "name": "stdout",
     "output_type": "stream",
     "text": [
      "\n",
      "Regression statistics\n",
      "\n",
      "                      Mean Error (ME) : -1.8591\n",
      "       Root Mean Squared Error (RMSE) : 36.1129\n",
      "            Mean Absolute Error (MAE) : 28.5252\n",
      "          Mean Percentage Error (MPE) : -6.7084\n",
      "Mean Absolute Percentage Error (MAPE) : 21.7198\n"
     ]
    }
   ],
   "source": [
    "# iv\n",
    "x_down = air_dm[['DISTANCE', 'SW_No', 'VACATION_No', 'HI', 'GATE_Constrained', 'SLOT_Controlled',\n",
    "                   'PAX', 'E_POP', 'S_POP', 'E_INCOME']]\n",
    "y_down = air_dm[['FARE']]\n",
    "train_x, valid_x, train_y, valid_y = train_test_split(x_down, y_down, test_size=0.4, random_state=1)\n",
    "mod_down = LinearRegression()\n",
    "mod_down.fit(train_x, train_y)\n",
    "regressionSummary(valid_y, mod_down.predict(valid_x))"
   ]
  },
  {
   "cell_type": "code",
   "execution_count": 243,
   "id": "852889dc",
   "metadata": {},
   "outputs": [
    {
     "name": "stdout",
     "output_type": "stream",
     "text": [
      "\n",
      "Regression statistics\n",
      "\n",
      "                      Mean Error (ME) : -1.8231\n",
      "       Root Mean Squared Error (RMSE) : 36.0002\n",
      "            Mean Absolute Error (MAE) : 28.5002\n",
      "          Mean Percentage Error (MPE) : -6.6037\n",
      "Mean Absolute Percentage Error (MAPE) : 21.6048\n"
     ]
    }
   ],
   "source": [
    "x_all = air_dm[['COUPON','NEW','HI','S_INCOME','E_INCOME','S_POP','E_POP','DISTANCE','PAX','VACATION_No','SW_No','SLOT_Controlled','GATE_Constrained']]\n",
    "train_x_, valid_x_, train_y_, valid_y_ = train_test_split(x_all, y_all, test_size=0.4, random_state=1)\n",
    "mod_all = LinearRegression()\n",
    "mod_all.fit(train_x_, train_y_)\n",
    "regressionSummary(valid_y_, mod_all.predict(valid_x_))\n",
    "\n",
    "# 둘이 거의 같은 정확도를 가지지만, 전역 탐색을 통한 모델이 좀 더 나은 정확도를 가진다."
   ]
  },
  {
   "cell_type": "code",
   "execution_count": 245,
   "id": "11d6b291",
   "metadata": {},
   "outputs": [
    {
     "data": {
      "text/plain": [
       "array([[566553.77660782]])"
      ]
     },
     "execution_count": 245,
     "metadata": {},
     "output_type": "execute_result"
    }
   ],
   "source": [
    "# v\n",
    "v_x = pd.DataFrame({'COUPON':[1.202], 'NEW':[3], 'VACATION_No':[1], 'SW_No':[1], \n",
    "                    'HI':[4442.141],'S_INCOME':[28760], 'E_INCOME':[27644], 'S_POP':[4557004], \n",
    "                    'E_POP':[3195503],'SLOT_Free':[1],'GATE_Free':[1],'PAX':[12782],'DISTANCE':[1976]})\n",
    "v_x\n",
    "mod_all.predict(v_x) # 전역탐색 잘못됏음 ㅇㄴㅇㄴㅇㄴㅇㄴㅇㄴㅇㄴㅇㄴ"
   ]
  },
  {
   "cell_type": "code",
   "execution_count": 247,
   "id": "522cf9c2",
   "metadata": {},
   "outputs": [
    {
     "data": {
      "text/plain": [
       "array([[-566391.20647239]])"
      ]
     },
     "execution_count": 247,
     "metadata": {},
     "output_type": "execute_result"
    }
   ],
   "source": [
    "# vi\n",
    "mod_all.predict(valid_x_).mean() - mod_all.predict(v_x) # 뭐래.."
   ]
  },
  {
   "cell_type": "code",
   "execution_count": null,
   "id": "8bf48ac3",
   "metadata": {},
   "outputs": [],
   "source": [
    "# vii\n",
    "모르겟다"
   ]
  },
  {
   "cell_type": "markdown",
   "id": "a59801b0",
   "metadata": {},
   "source": [
    "### 6.4"
   ]
  },
  {
   "cell_type": "code",
   "execution_count": 118,
   "id": "0ed8d1a3",
   "metadata": {},
   "outputs": [],
   "source": [
    "toyota_df=pd.read_csv('ToyotaCorolla.csv')"
   ]
  },
  {
   "cell_type": "code",
   "execution_count": 117,
   "id": "4fd0a985",
   "metadata": {},
   "outputs": [
    {
     "data": {
      "text/plain": [
       "LinearRegression()"
      ]
     },
     "execution_count": 117,
     "metadata": {},
     "output_type": "execute_result"
    }
   ],
   "source": [
    "predictors = ['Age_08_04', 'KM', 'HP', 'Automatic', 'Doors', 'Quarterly_Tax',\n",
    "              'Mfr_Guarantee', 'Guarantee_Period', 'Airco', 'Automatic_airco', 'CD_Player',\n",
    "              'Powered_Windows', 'Sport_Model', 'Tow_Bar']\n",
    "outcome = 'Price'\n",
    "\n",
    "x = toyota_df[predictors]\n",
    "y = toyota_df[outcome]\n",
    "\n",
    "train_x, i_x, train_y, i_y = train_test_split(x, y, test_size = 0.5, random_state=1)\n",
    "valid_x, test_x, valid_y, test_y = train_test_split(i_x, i_y, test_size = 0.2, random_state=1)\n",
    "\n",
    "mod = LinearRegression()\n",
    "mod.fit(train_x, train_y)"
   ]
  },
  {
   "cell_type": "code",
   "execution_count": 122,
   "id": "d5eebc24",
   "metadata": {},
   "outputs": [
    {
     "name": "stdout",
     "output_type": "stream",
     "text": [
      "Variables: Age_08_04, KM, HP, Automatic, Doors, Quarterly_Tax, Mfr_Guarantee, Guarantee_Period, Airco, Automatic_airco, CD_Player, Powered_Windows, Sport_Model, Tow_Bar\n",
      "Start: score=13870.51, constant\n",
      "Step: score=12822.66, add Age_08_04\n",
      "Step: score=12632.18, add Automatic_airco\n",
      "Step: score=12543.91, add HP\n",
      "Step: score=12499.68, add Quarterly_Tax\n",
      "Step: score=12389.20, add KM\n",
      "Step: score=12364.83, add Powered_Windows\n",
      "Step: score=12351.63, add Sport_Model\n",
      "Step: score=12335.00, add Guarantee_Period\n",
      "Step: score=12323.80, add Doors\n",
      "Step: score=12318.12, add Automatic\n",
      "Step: score=12314.73, add Tow_Bar\n",
      "Step: score=12313.28, add CD_Player\n",
      "Step: score=12313.28, add None\n",
      "['Age_08_04', 'Automatic_airco', 'HP', 'Quarterly_Tax', 'KM', 'Powered_Windows', 'Sport_Model', 'Guarantee_Period', 'Doors', 'Automatic', 'Tow_Bar', 'CD_Player']\n"
     ]
    }
   ],
   "source": [
    "def train_model(variables):\n",
    "    if len(variables) == 0:\n",
    "        return None\n",
    "    model = LinearRegression()\n",
    "    model.fit(train_x[variables], train_y)\n",
    "    return model\n",
    "\n",
    "def score_model(model, variables):\n",
    "    if len(variables) == 0:\n",
    "        return AIC_score(train_y, [train_y.mean()] * len(train_y), model, df = 1)\n",
    "    return AIC_score(train_y, model.predict(train_x[variables]), model)\n",
    "\n",
    "best_model, best_variables = forward_selection(train_x.columns, train_model, score_model, verbose=True)\n",
    "print(best_variables)"
   ]
  },
  {
   "cell_type": "markdown",
   "id": "b37704ab",
   "metadata": {},
   "source": [
    "### a\n",
    "'Age_08_04', 'Automatic_airco', 'HP', 'Quarterly_Tax'"
   ]
  },
  {
   "cell_type": "markdown",
   "id": "bd4e3e1b",
   "metadata": {},
   "source": [
    "### b"
   ]
  }
 ],
 "metadata": {
  "kernelspec": {
   "display_name": "Python 3 (ipykernel)",
   "language": "python",
   "name": "python3"
  },
  "language_info": {
   "codemirror_mode": {
    "name": "ipython",
    "version": 3
   },
   "file_extension": ".py",
   "mimetype": "text/x-python",
   "name": "python",
   "nbconvert_exporter": "python",
   "pygments_lexer": "ipython3",
   "version": "3.9.7"
  }
 },
 "nbformat": 4,
 "nbformat_minor": 5
}
