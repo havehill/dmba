{
 "cells": [
  {
   "cell_type": "code",
   "execution_count": 1,
   "id": "06f2d16a",
   "metadata": {},
   "outputs": [],
   "source": [
    "%matplotlib inline\n",
    "\n",
    "from pathlib import Path\n",
    "\n",
    "import pandas as pd\n",
    "from sklearn.model_selection import train_test_split\n",
    "from sklearn.naive_bayes import MultinomialNB\n",
    "import matplotlib.pylab as plt\n",
    "from dmba import classificationSummary, gainsChart\n"
   ]
  },
  {
   "cell_type": "code",
   "execution_count": 7,
   "id": "1415739a",
   "metadata": {},
   "outputs": [
    {
     "data": {
      "text/html": [
       "<div>\n",
       "<style scoped>\n",
       "    .dataframe tbody tr th:only-of-type {\n",
       "        vertical-align: middle;\n",
       "    }\n",
       "\n",
       "    .dataframe tbody tr th {\n",
       "        vertical-align: top;\n",
       "    }\n",
       "\n",
       "    .dataframe thead th {\n",
       "        text-align: right;\n",
       "    }\n",
       "</style>\n",
       "<table border=\"1\" class=\"dataframe\">\n",
       "  <thead>\n",
       "    <tr style=\"text-align: right;\">\n",
       "      <th></th>\n",
       "      <th>CRS_DEP_TIME</th>\n",
       "      <th>CARRIER</th>\n",
       "      <th>DEP_TIME</th>\n",
       "      <th>DEST</th>\n",
       "      <th>DISTANCE</th>\n",
       "      <th>FL_DATE</th>\n",
       "      <th>FL_NUM</th>\n",
       "      <th>ORIGIN</th>\n",
       "      <th>Weather</th>\n",
       "      <th>DAY_WEEK</th>\n",
       "      <th>DAY_OF_MONTH</th>\n",
       "      <th>TAIL_NUM</th>\n",
       "      <th>Flight Status</th>\n",
       "    </tr>\n",
       "  </thead>\n",
       "  <tbody>\n",
       "    <tr>\n",
       "      <th>0</th>\n",
       "      <td>1455</td>\n",
       "      <td>OH</td>\n",
       "      <td>1455</td>\n",
       "      <td>JFK</td>\n",
       "      <td>184</td>\n",
       "      <td>01/01/2004</td>\n",
       "      <td>5935</td>\n",
       "      <td>BWI</td>\n",
       "      <td>0</td>\n",
       "      <td>4</td>\n",
       "      <td>1</td>\n",
       "      <td>N940CA</td>\n",
       "      <td>ontime</td>\n",
       "    </tr>\n",
       "    <tr>\n",
       "      <th>1</th>\n",
       "      <td>1640</td>\n",
       "      <td>DH</td>\n",
       "      <td>1640</td>\n",
       "      <td>JFK</td>\n",
       "      <td>213</td>\n",
       "      <td>01/01/2004</td>\n",
       "      <td>6155</td>\n",
       "      <td>DCA</td>\n",
       "      <td>0</td>\n",
       "      <td>4</td>\n",
       "      <td>1</td>\n",
       "      <td>N405FJ</td>\n",
       "      <td>ontime</td>\n",
       "    </tr>\n",
       "    <tr>\n",
       "      <th>2</th>\n",
       "      <td>1245</td>\n",
       "      <td>DH</td>\n",
       "      <td>1245</td>\n",
       "      <td>LGA</td>\n",
       "      <td>229</td>\n",
       "      <td>01/01/2004</td>\n",
       "      <td>7208</td>\n",
       "      <td>IAD</td>\n",
       "      <td>0</td>\n",
       "      <td>4</td>\n",
       "      <td>1</td>\n",
       "      <td>N695BR</td>\n",
       "      <td>ontime</td>\n",
       "    </tr>\n",
       "    <tr>\n",
       "      <th>3</th>\n",
       "      <td>1715</td>\n",
       "      <td>DH</td>\n",
       "      <td>1709</td>\n",
       "      <td>LGA</td>\n",
       "      <td>229</td>\n",
       "      <td>01/01/2004</td>\n",
       "      <td>7215</td>\n",
       "      <td>IAD</td>\n",
       "      <td>0</td>\n",
       "      <td>4</td>\n",
       "      <td>1</td>\n",
       "      <td>N662BR</td>\n",
       "      <td>ontime</td>\n",
       "    </tr>\n",
       "    <tr>\n",
       "      <th>4</th>\n",
       "      <td>1039</td>\n",
       "      <td>DH</td>\n",
       "      <td>1035</td>\n",
       "      <td>LGA</td>\n",
       "      <td>229</td>\n",
       "      <td>01/01/2004</td>\n",
       "      <td>7792</td>\n",
       "      <td>IAD</td>\n",
       "      <td>0</td>\n",
       "      <td>4</td>\n",
       "      <td>1</td>\n",
       "      <td>N698BR</td>\n",
       "      <td>ontime</td>\n",
       "    </tr>\n",
       "  </tbody>\n",
       "</table>\n",
       "</div>"
      ],
      "text/plain": [
       "   CRS_DEP_TIME CARRIER  DEP_TIME DEST  DISTANCE     FL_DATE  FL_NUM ORIGIN  \\\n",
       "0          1455      OH      1455  JFK       184  01/01/2004    5935    BWI   \n",
       "1          1640      DH      1640  JFK       213  01/01/2004    6155    DCA   \n",
       "2          1245      DH      1245  LGA       229  01/01/2004    7208    IAD   \n",
       "3          1715      DH      1709  LGA       229  01/01/2004    7215    IAD   \n",
       "4          1039      DH      1035  LGA       229  01/01/2004    7792    IAD   \n",
       "\n",
       "   Weather  DAY_WEEK  DAY_OF_MONTH TAIL_NUM Flight Status  \n",
       "0        0         4             1   N940CA        ontime  \n",
       "1        0         4             1   N405FJ        ontime  \n",
       "2        0         4             1   N695BR        ontime  \n",
       "3        0         4             1   N662BR        ontime  \n",
       "4        0         4             1   N698BR        ontime  "
      ]
     },
     "execution_count": 7,
     "metadata": {},
     "output_type": "execute_result"
    }
   ],
   "source": [
    "delays_df = pd.read_csv('FlightDelays.csv')\n",
    "delays_df.head()"
   ]
  },
  {
   "cell_type": "code",
   "execution_count": 8,
   "id": "d83cec8b",
   "metadata": {},
   "outputs": [
    {
     "name": "stdout",
     "output_type": "stream",
     "text": [
      "<class 'pandas.core.frame.DataFrame'>\n",
      "RangeIndex: 2201 entries, 0 to 2200\n",
      "Data columns (total 13 columns):\n",
      " #   Column         Non-Null Count  Dtype \n",
      "---  ------         --------------  ----- \n",
      " 0   CRS_DEP_TIME   2201 non-null   int64 \n",
      " 1   CARRIER        2201 non-null   object\n",
      " 2   DEP_TIME       2201 non-null   int64 \n",
      " 3   DEST           2201 non-null   object\n",
      " 4   DISTANCE       2201 non-null   int64 \n",
      " 5   FL_DATE        2201 non-null   object\n",
      " 6   FL_NUM         2201 non-null   int64 \n",
      " 7   ORIGIN         2201 non-null   object\n",
      " 8   Weather        2201 non-null   int64 \n",
      " 9   DAY_WEEK       2201 non-null   int64 \n",
      " 10  DAY_OF_MONTH   2201 non-null   int64 \n",
      " 11  TAIL_NUM       2201 non-null   object\n",
      " 12  Flight Status  2201 non-null   object\n",
      "dtypes: int64(7), object(6)\n",
      "memory usage: 223.7+ KB\n"
     ]
    }
   ],
   "source": [
    "delays_df.info()"
   ]
  },
  {
   "cell_type": "code",
   "execution_count": 10,
   "id": "7f6af8d9",
   "metadata": {},
   "outputs": [
    {
     "name": "stdout",
     "output_type": "stream",
     "text": [
      "<class 'pandas.core.frame.DataFrame'>\n",
      "RangeIndex: 2201 entries, 0 to 2200\n",
      "Data columns (total 13 columns):\n",
      " #   Column         Non-Null Count  Dtype   \n",
      "---  ------         --------------  -----   \n",
      " 0   CRS_DEP_TIME   2201 non-null   int64   \n",
      " 1   CARRIER        2201 non-null   object  \n",
      " 2   DEP_TIME       2201 non-null   int64   \n",
      " 3   DEST           2201 non-null   object  \n",
      " 4   DISTANCE       2201 non-null   int64   \n",
      " 5   FL_DATE        2201 non-null   object  \n",
      " 6   FL_NUM         2201 non-null   int64   \n",
      " 7   ORIGIN         2201 non-null   object  \n",
      " 8   Weather        2201 non-null   int64   \n",
      " 9   DAY_WEEK       2201 non-null   category\n",
      " 10  DAY_OF_MONTH   2201 non-null   int64   \n",
      " 11  TAIL_NUM       2201 non-null   object  \n",
      " 12  Flight Status  2201 non-null   category\n",
      "dtypes: category(2), int64(6), object(5)\n",
      "memory usage: 194.0+ KB\n"
     ]
    }
   ],
   "source": [
    "# convert to categorical\n",
    "delays_df.DAY_WEEK = delays_df.DAY_WEEK.astype('category')\n",
    "delays_df['Flight Status'] = delays_df['Flight Status'].astype('category')\n",
    "delays_df.info()"
   ]
  },
  {
   "cell_type": "code",
   "execution_count": 11,
   "id": "2fde797a",
   "metadata": {},
   "outputs": [],
   "source": [
    "# create hourly bins departure time\n",
    "delays_df.CRS_DEP_TIME = [round(t / 100) for t in delays_df.CRS_DEP_TIME]\n",
    "# round(t/100) : t를  100으로 나눈 걸 반올림"
   ]
  },
  {
   "cell_type": "code",
   "execution_count": 13,
   "id": "58b3616e",
   "metadata": {},
   "outputs": [],
   "source": [
    "delays_df.CRS_DEP_TIME = delays_df.CRS_DEP_TIME.astype('category')"
   ]
  },
  {
   "cell_type": "code",
   "execution_count": 15,
   "id": "950c780b",
   "metadata": {},
   "outputs": [],
   "source": [
    "predictors = ['DAY_WEEK','CRS_DEP_TIME','ORIGIN','DEST','CARRIER']\n",
    "outcome = 'Flight Status'\n",
    "\n",
    "x = pd.get_dummies(delays_df[predictors])\n",
    "y = delays_df['Flight Status'].astype('category')\n",
    "classes = list(y.cat.categories) # y의 범주 종류"
   ]
  },
  {
   "cell_type": "code",
   "execution_count": 18,
   "id": "fd6be8cc",
   "metadata": {},
   "outputs": [
    {
     "data": {
      "text/plain": [
       "Index(['delayed', 'ontime'], dtype='object')"
      ]
     },
     "execution_count": 18,
     "metadata": {},
     "output_type": "execute_result"
    }
   ],
   "source": [
    "y.cat.categories"
   ]
  },
  {
   "cell_type": "code",
   "execution_count": 19,
   "id": "eedeb949",
   "metadata": {},
   "outputs": [],
   "source": [
    "# split into training and validation\n",
    "x_train, x_valid, y_train, y_valid = train_test_split(x,y,test_size=0.4,random_state=1)"
   ]
  },
  {
   "cell_type": "code",
   "execution_count": 20,
   "id": "8636e2ff",
   "metadata": {},
   "outputs": [
    {
     "data": {
      "text/plain": [
       "MultinomialNB(alpha=0.01)"
      ]
     },
     "execution_count": 20,
     "metadata": {},
     "output_type": "execute_result"
    }
   ],
   "source": [
    "# run naive Bayes\n",
    "delays_nb = MultinomialNB(alpha=0.01) ## alpha ???\n",
    "delays_nb.fit(x_train, y_train)"
   ]
  },
  {
   "cell_type": "code",
   "execution_count": 22,
   "id": "ca191903",
   "metadata": {},
   "outputs": [
    {
     "data": {
      "text/plain": [
       "array([[0.46220533, 0.53779467],\n",
       "       [0.02992305, 0.97007695],\n",
       "       [0.01606902, 0.98393098],\n",
       "       ...,\n",
       "       [0.06010324, 0.93989676],\n",
       "       [0.45981757, 0.54018243],\n",
       "       [0.42459129, 0.57540871]])"
      ]
     },
     "execution_count": 22,
     "metadata": {},
     "output_type": "execute_result"
    }
   ],
   "source": [
    "# predict probabilities\n",
    "# 나이브 베이즈로 구한 각 클래스별 확률값\n",
    "predProb_train = delays_nb.predict_proba(x_train)\n",
    "predProb_train"
   ]
  },
  {
   "cell_type": "code",
   "execution_count": 24,
   "id": "a5d6fd12",
   "metadata": {},
   "outputs": [
    {
     "data": {
      "text/plain": [
       "array([[0.45981757, 0.54018243],\n",
       "       [0.02903856, 0.97096144],\n",
       "       [0.21931476, 0.78068524],\n",
       "       ...,\n",
       "       [0.22075219, 0.77924781],\n",
       "       [0.02659596, 0.97340404],\n",
       "       [0.03710588, 0.96289412]])"
      ]
     },
     "execution_count": 24,
     "metadata": {},
     "output_type": "execute_result"
    }
   ],
   "source": [
    "predProb_valid = delays_nb.predict_proba(x_valid)\n",
    "predProb_valid"
   ]
  },
  {
   "cell_type": "code",
   "execution_count": 48,
   "id": "db804363",
   "metadata": {},
   "outputs": [
    {
     "data": {
      "text/plain": [
       "array(['ontime', 'ontime', 'ontime', 'ontime', 'ontime', 'ontime',\n",
       "       'ontime', 'ontime', 'ontime', 'ontime', 'ontime', 'ontime',\n",
       "       'ontime', 'ontime', 'ontime', 'ontime', 'ontime', 'ontime',\n",
       "       'ontime', 'delayed', 'ontime', 'ontime', 'ontime', 'ontime',\n",
       "       'delayed', 'ontime', 'ontime', 'delayed', 'ontime', 'ontime',\n",
       "       'ontime', 'ontime', 'ontime', 'ontime', 'ontime', 'ontime',\n",
       "       'ontime', 'ontime', 'ontime', 'ontime', 'ontime', 'ontime',\n",
       "       'ontime', 'ontime', 'ontime', 'ontime', 'ontime', 'ontime',\n",
       "       'ontime', 'delayed', 'ontime', 'ontime', 'ontime', 'ontime',\n",
       "       'ontime', 'ontime', 'ontime', 'ontime', 'ontime', 'ontime',\n",
       "       'ontime', 'ontime', 'ontime', 'ontime', 'delayed', 'ontime',\n",
       "       'ontime', 'ontime', 'ontime', 'ontime', 'ontime', 'ontime',\n",
       "       'ontime', 'ontime', 'ontime', 'ontime', 'ontime', 'ontime',\n",
       "       'ontime', 'ontime', 'ontime', 'ontime', 'ontime', 'ontime',\n",
       "       'ontime', 'ontime', 'ontime', 'ontime', 'ontime', 'ontime',\n",
       "       'ontime', 'ontime', 'delayed', 'ontime', 'ontime', 'ontime',\n",
       "       'ontime', 'ontime', 'delayed', 'ontime', 'ontime', 'ontime',\n",
       "       'ontime', 'ontime', 'ontime', 'delayed', 'delayed', 'ontime',\n",
       "       'ontime', 'ontime', 'ontime', 'ontime', 'delayed', 'ontime',\n",
       "       'ontime', 'delayed', 'ontime', 'ontime', 'ontime', 'ontime',\n",
       "       'ontime', 'ontime', 'ontime', 'ontime', 'ontime', 'ontime',\n",
       "       'ontime', 'ontime', 'ontime', 'ontime', 'ontime', 'ontime',\n",
       "       'ontime', 'ontime', 'ontime', 'ontime', 'ontime', 'ontime',\n",
       "       'delayed', 'ontime', 'ontime', 'ontime', 'delayed', 'ontime',\n",
       "       'ontime', 'ontime', 'ontime', 'ontime', 'ontime', 'ontime',\n",
       "       'delayed', 'ontime', 'ontime', 'ontime', 'ontime', 'ontime',\n",
       "       'delayed', 'ontime', 'ontime', 'ontime', 'ontime', 'ontime',\n",
       "       'ontime', 'ontime', 'ontime', 'ontime', 'ontime', 'ontime',\n",
       "       'ontime', 'ontime', 'ontime', 'ontime', 'ontime', 'ontime',\n",
       "       'ontime', 'ontime', 'ontime', 'ontime', 'delayed', 'ontime',\n",
       "       'ontime', 'delayed', 'ontime', 'ontime', 'ontime', 'ontime',\n",
       "       'ontime', 'ontime', 'ontime', 'ontime', 'ontime', 'ontime',\n",
       "       'ontime', 'ontime', 'ontime', 'ontime', 'ontime', 'ontime',\n",
       "       'ontime', 'ontime', 'ontime', 'ontime', 'ontime', 'ontime',\n",
       "       'ontime', 'ontime', 'ontime', 'ontime', 'ontime', 'ontime',\n",
       "       'ontime', 'ontime', 'ontime', 'ontime', 'ontime', 'ontime',\n",
       "       'ontime', 'ontime', 'ontime', 'ontime', 'ontime', 'ontime',\n",
       "       'ontime', 'ontime', 'ontime', 'ontime', 'ontime', 'delayed',\n",
       "       'ontime', 'ontime', 'ontime', 'ontime', 'ontime', 'ontime',\n",
       "       'ontime', 'ontime', 'ontime', 'ontime', 'ontime', 'ontime',\n",
       "       'ontime', 'ontime', 'ontime', 'ontime', 'delayed', 'ontime',\n",
       "       'ontime', 'ontime', 'ontime', 'ontime', 'ontime', 'ontime',\n",
       "       'ontime', 'ontime', 'ontime', 'ontime', 'delayed', 'ontime',\n",
       "       'ontime', 'ontime', 'ontime', 'ontime', 'ontime', 'ontime',\n",
       "       'ontime', 'ontime', 'ontime', 'ontime', 'ontime', 'delayed',\n",
       "       'ontime', 'ontime', 'ontime', 'delayed', 'ontime', 'ontime',\n",
       "       'ontime', 'ontime', 'ontime', 'ontime', 'ontime', 'ontime',\n",
       "       'ontime', 'ontime', 'ontime', 'ontime', 'ontime', 'ontime',\n",
       "       'ontime', 'ontime', 'ontime', 'ontime', 'ontime', 'ontime',\n",
       "       'ontime', 'delayed', 'ontime', 'ontime', 'ontime', 'ontime',\n",
       "       'ontime', 'ontime', 'ontime', 'ontime', 'ontime', 'ontime',\n",
       "       'ontime', 'ontime', 'ontime', 'ontime', 'ontime', 'ontime',\n",
       "       'ontime', 'delayed', 'ontime', 'ontime', 'ontime', 'delayed',\n",
       "       'ontime', 'ontime', 'ontime', 'ontime', 'delayed', 'ontime',\n",
       "       'delayed', 'ontime', 'ontime', 'delayed', 'ontime', 'ontime',\n",
       "       'ontime', 'ontime', 'ontime', 'ontime', 'ontime', 'ontime',\n",
       "       'ontime', 'ontime', 'delayed', 'ontime', 'ontime', 'ontime',\n",
       "       'ontime', 'ontime', 'ontime', 'ontime', 'ontime', 'ontime',\n",
       "       'ontime', 'ontime', 'delayed', 'ontime', 'ontime', 'ontime',\n",
       "       'ontime', 'ontime', 'ontime', 'ontime', 'ontime', 'ontime',\n",
       "       'ontime', 'ontime', 'ontime', 'delayed', 'ontime', 'ontime',\n",
       "       'ontime', 'ontime', 'ontime', 'ontime', 'ontime', 'ontime',\n",
       "       'ontime', 'ontime', 'ontime', 'ontime', 'ontime', 'ontime',\n",
       "       'ontime', 'ontime', 'ontime', 'ontime', 'ontime', 'ontime',\n",
       "       'delayed', 'ontime', 'ontime', 'ontime', 'ontime', 'ontime',\n",
       "       'ontime', 'delayed', 'ontime', 'delayed', 'ontime', 'ontime',\n",
       "       'delayed', 'ontime', 'ontime', 'delayed', 'ontime', 'ontime',\n",
       "       'ontime', 'ontime', 'ontime', 'ontime', 'ontime', 'delayed',\n",
       "       'ontime', 'ontime', 'delayed', 'ontime', 'ontime', 'ontime',\n",
       "       'ontime', 'ontime', 'ontime', 'ontime', 'ontime', 'delayed',\n",
       "       'delayed', 'ontime', 'ontime', 'ontime', 'ontime', 'delayed',\n",
       "       'ontime', 'ontime', 'ontime', 'ontime', 'ontime', 'ontime',\n",
       "       'ontime', 'ontime', 'ontime', 'ontime', 'ontime', 'ontime',\n",
       "       'delayed', 'ontime', 'ontime', 'ontime', 'delayed', 'ontime',\n",
       "       'ontime', 'ontime', 'ontime', 'delayed', 'ontime', 'delayed',\n",
       "       'ontime', 'ontime', 'ontime', 'ontime', 'ontime', 'ontime',\n",
       "       'ontime', 'ontime', 'ontime', 'ontime', 'ontime', 'delayed',\n",
       "       'ontime', 'ontime', 'ontime', 'ontime', 'ontime', 'ontime',\n",
       "       'ontime', 'ontime', 'delayed', 'ontime', 'ontime', 'ontime',\n",
       "       'delayed', 'ontime', 'ontime', 'ontime', 'delayed', 'ontime',\n",
       "       'ontime', 'ontime', 'ontime', 'ontime', 'ontime', 'ontime',\n",
       "       'ontime', 'ontime', 'ontime', 'delayed', 'ontime', 'ontime',\n",
       "       'ontime', 'ontime', 'ontime', 'ontime', 'ontime', 'ontime',\n",
       "       'ontime', 'ontime', 'ontime', 'ontime', 'ontime', 'ontime',\n",
       "       'ontime', 'ontime', 'ontime', 'ontime', 'ontime', 'ontime',\n",
       "       'ontime', 'ontime', 'ontime', 'ontime', 'ontime', 'ontime',\n",
       "       'ontime', 'ontime', 'ontime', 'ontime', 'ontime', 'ontime',\n",
       "       'ontime', 'ontime', 'ontime', 'ontime', 'delayed', 'ontime',\n",
       "       'ontime', 'ontime', 'ontime', 'ontime', 'ontime', 'ontime',\n",
       "       'ontime', 'ontime', 'ontime', 'ontime', 'ontime', 'ontime',\n",
       "       'ontime', 'ontime', 'ontime', 'ontime', 'ontime', 'ontime',\n",
       "       'ontime', 'ontime', 'ontime', 'ontime', 'delayed', 'ontime',\n",
       "       'ontime', 'ontime', 'ontime', 'ontime', 'ontime', 'ontime',\n",
       "       'ontime', 'ontime', 'delayed', 'ontime', 'ontime', 'ontime',\n",
       "       'ontime', 'ontime', 'ontime', 'ontime', 'ontime', 'ontime',\n",
       "       'ontime', 'ontime', 'ontime', 'ontime', 'ontime', 'ontime',\n",
       "       'ontime', 'ontime', 'ontime', 'ontime', 'ontime', 'ontime',\n",
       "       'delayed', 'ontime', 'ontime', 'ontime', 'delayed', 'ontime',\n",
       "       'ontime', 'ontime', 'ontime', 'ontime', 'delayed', 'ontime',\n",
       "       'ontime', 'ontime', 'ontime', 'ontime', 'ontime', 'ontime',\n",
       "       'ontime', 'ontime', 'ontime', 'ontime', 'ontime', 'ontime',\n",
       "       'ontime', 'ontime', 'ontime', 'ontime', 'ontime', 'ontime',\n",
       "       'ontime', 'ontime', 'ontime', 'ontime', 'ontime', 'ontime',\n",
       "       'ontime', 'ontime', 'ontime', 'ontime', 'ontime', 'ontime',\n",
       "       'ontime', 'ontime', 'ontime', 'ontime', 'ontime', 'ontime',\n",
       "       'ontime', 'ontime', 'ontime', 'ontime', 'ontime', 'ontime',\n",
       "       'ontime', 'ontime', 'ontime', 'ontime', 'ontime', 'ontime',\n",
       "       'ontime', 'ontime', 'ontime', 'ontime', 'ontime', 'ontime',\n",
       "       'ontime', 'ontime', 'ontime', 'ontime', 'ontime', 'ontime',\n",
       "       'ontime', 'ontime', 'ontime', 'ontime', 'ontime', 'ontime',\n",
       "       'delayed', 'ontime', 'ontime', 'ontime', 'ontime', 'ontime',\n",
       "       'ontime', 'ontime', 'ontime', 'ontime', 'ontime', 'ontime',\n",
       "       'ontime', 'ontime', 'delayed', 'delayed', 'ontime', 'ontime',\n",
       "       'ontime', 'ontime', 'ontime', 'ontime', 'ontime', 'delayed',\n",
       "       'ontime', 'delayed', 'delayed', 'ontime', 'ontime', 'ontime',\n",
       "       'ontime', 'ontime', 'ontime', 'ontime', 'delayed', 'ontime',\n",
       "       'ontime', 'ontime', 'delayed', 'ontime', 'ontime', 'ontime',\n",
       "       'ontime', 'ontime', 'ontime', 'ontime', 'ontime', 'delayed',\n",
       "       'ontime', 'ontime', 'ontime', 'ontime', 'ontime', 'ontime',\n",
       "       'ontime', 'ontime', 'ontime', 'ontime', 'ontime', 'ontime',\n",
       "       'ontime', 'ontime', 'ontime', 'ontime', 'ontime', 'ontime',\n",
       "       'ontime', 'ontime', 'ontime', 'ontime', 'ontime', 'ontime',\n",
       "       'ontime', 'ontime', 'ontime', 'ontime', 'ontime', 'ontime',\n",
       "       'ontime', 'delayed', 'ontime', 'ontime', 'ontime', 'ontime',\n",
       "       'ontime', 'ontime', 'ontime', 'ontime', 'ontime', 'ontime',\n",
       "       'ontime', 'ontime', 'ontime', 'ontime', 'ontime', 'ontime',\n",
       "       'ontime', 'ontime', 'ontime', 'delayed', 'ontime', 'ontime',\n",
       "       'ontime', 'ontime', 'ontime', 'ontime', 'ontime', 'ontime',\n",
       "       'ontime', 'ontime', 'ontime', 'ontime', 'ontime', 'ontime',\n",
       "       'ontime', 'ontime', 'ontime', 'ontime', 'ontime', 'ontime',\n",
       "       'ontime', 'ontime', 'delayed', 'ontime', 'ontime', 'ontime',\n",
       "       'ontime', 'ontime', 'delayed', 'ontime', 'ontime', 'ontime',\n",
       "       'ontime', 'ontime', 'ontime', 'ontime', 'ontime', 'ontime',\n",
       "       'ontime', 'ontime', 'ontime', 'ontime', 'ontime', 'ontime',\n",
       "       'ontime', 'ontime', 'ontime', 'ontime', 'ontime', 'ontime',\n",
       "       'ontime', 'ontime', 'delayed', 'ontime', 'ontime', 'ontime',\n",
       "       'ontime', 'ontime', 'ontime', 'delayed', 'ontime', 'ontime',\n",
       "       'ontime', 'ontime', 'ontime', 'ontime', 'ontime', 'ontime',\n",
       "       'ontime', 'ontime', 'delayed', 'delayed', 'ontime', 'ontime',\n",
       "       'ontime', 'ontime', 'ontime', 'ontime', 'ontime', 'ontime',\n",
       "       'ontime', 'ontime', 'ontime', 'ontime', 'ontime', 'ontime',\n",
       "       'ontime', 'delayed', 'ontime', 'ontime', 'ontime', 'ontime',\n",
       "       'ontime', 'ontime', 'ontime', 'ontime', 'delayed', 'ontime',\n",
       "       'ontime', 'ontime', 'ontime', 'ontime', 'ontime', 'delayed',\n",
       "       'ontime', 'ontime', 'ontime', 'ontime', 'ontime', 'delayed',\n",
       "       'ontime', 'ontime', 'ontime', 'ontime', 'ontime', 'ontime',\n",
       "       'ontime', 'ontime', 'ontime', 'ontime', 'ontime'], dtype='<U7')"
      ]
     },
     "execution_count": 48,
     "metadata": {},
     "output_type": "execute_result"
    }
   ],
   "source": [
    "y_train_pred = delays_nb.predict(x_train)\n",
    "y_valid_pred = delays_nb.predict(x_valid)\n",
    "y_valid_pred # 각 레코드의 확률값들 중 가장 지배적인 확률을 가진 클래스를 선택"
   ]
  },
  {
   "cell_type": "code",
   "execution_count": 26,
   "id": "c2b47a2c",
   "metadata": {},
   "outputs": [],
   "source": [
    "# split the original data frame into a train \n",
    "# and test using the same random_state\n",
    "train_df, valid_df = train_test_split(delays_df, test_size=0.4, random_state=1)"
   ]
  },
  {
   "cell_type": "code",
   "execution_count": 27,
   "id": "818d4dbd",
   "metadata": {},
   "outputs": [],
   "source": [
    "pd.set_option('precision', 4)\n",
    "\n",
    "# pd.set_option : 판다스의 옵션을 바꿔줌 \n",
    "# precision은 소수점은 과학적 표기법으로 변환할 자릿수를 정합니다.\n",
    "# 아래와 같이 하면 소수점 셋째 자리 밑으로는 과학적 표기법으로 표시합니다\n",
    "# 과학적 표기법으로 3.000e-04는 3.000×10−4 을 의미"
   ]
  },
  {
   "cell_type": "code",
   "execution_count": 29,
   "id": "e4cafa23",
   "metadata": {},
   "outputs": [
    {
     "name": "stdout",
     "output_type": "stream",
     "text": [
      "ontime     0.8023\n",
      "delayed    0.1977\n",
      "Name: Flight Status, dtype: float64\n"
     ]
    }
   ],
   "source": [
    "# probability of flight status\n",
    "print(train_df['Flight Status'].value_counts() / len(train_df))"
   ]
  },
  {
   "cell_type": "code",
   "execution_count": 28,
   "id": "dbb6f5bc",
   "metadata": {},
   "outputs": [
    {
     "data": {
      "text/plain": [
       "ontime     1059\n",
       "delayed     261\n",
       "Name: Flight Status, dtype: int64"
      ]
     },
     "execution_count": 28,
     "metadata": {},
     "output_type": "execute_result"
    }
   ],
   "source": [
    "train_df['Flight Status'].value_counts()"
   ]
  },
  {
   "cell_type": "code",
   "execution_count": 34,
   "id": "d349e018",
   "metadata": {},
   "outputs": [
    {
     "name": "stdout",
     "output_type": "stream",
     "text": [
      "DAY_WEEK            1       2       3       4       5      6       7\n",
      "Flight Status                                                       \n",
      "delayed        0.1916  0.1494  0.1149  0.1264  0.1877  0.069  0.1609\n",
      "ontime         0.1246  0.1416  0.1445  0.1794  0.1690  0.136  0.1048 \n",
      "\n",
      "\n",
      "\n",
      "CRS_DEP_TIME        6       7       8       9      10      11      12      13  \\\n",
      "Flight Status                                                                   \n",
      "delayed        0.0345  0.0536  0.0651  0.0192  0.0307  0.0115  0.0498  0.0460   \n",
      "ontime         0.0623  0.0633  0.0850  0.0567  0.0519  0.0340  0.0661  0.0746   \n",
      "\n",
      "CRS_DEP_TIME       14      15      16      17      18      19      20      21  \n",
      "Flight Status                                                                  \n",
      "delayed        0.0383  0.2031  0.0728  0.1533  0.0192  0.0996  0.0153  0.0881  \n",
      "ontime         0.0576  0.1171  0.0774  0.1001  0.0349  0.0397  0.0264  0.0529   \n",
      "\n",
      "\n",
      "\n",
      "ORIGIN            BWI     DCA     IAD\n",
      "Flight Status                        \n",
      "delayed        0.0805  0.5211  0.3985\n",
      "ontime         0.0604  0.6478  0.2918 \n",
      "\n",
      "\n",
      "\n",
      "DEST              EWR     JFK     LGA\n",
      "Flight Status                        \n",
      "delayed        0.3793  0.1992  0.4215\n",
      "ontime         0.2663  0.1558  0.5779 \n",
      "\n",
      "\n",
      "\n",
      "CARRIER            CO      DH      DL      MQ      OH      RU      UA      US\n",
      "Flight Status                                                                \n",
      "delayed        0.0575  0.3142  0.0958  0.2222  0.0077  0.2184  0.0153  0.0690\n",
      "ontime         0.0349  0.2295  0.2040  0.1171  0.0104  0.1690  0.0170  0.2181 \n",
      "\n",
      "\n",
      "\n"
     ]
    }
   ],
   "source": [
    "# 각 클래스의 조건부확률 \n",
    "# 예를 들어 첫번째 클래스가 delayed이고 예측변수가 DAY_WEEK = 1이면, P(C1|DAY_WEEK==1) = 0.1916\n",
    "\n",
    "for predictor in predictors:\n",
    "    # construct the frequency table\n",
    "    df = train_df[['Flight Status', predictor]]\n",
    "    freqTable = df.pivot_table(index='Flight Status', columns = predictor, aggfunc=len)\n",
    "    # Flight Satus(반응변수)가 인덱스가 되고 각 예측변수가 칼럼이 됨\n",
    "    \n",
    "    # divide each value by the sum of the row to get conditional probabilities\n",
    "    propTable = freqTable.apply(lambda x: x/sum(x), axis=1)\n",
    "    print(propTable, '\\n\\n\\n')\n",
    "    "
   ]
  },
  {
   "cell_type": "code",
   "execution_count": 35,
   "id": "1aae9410",
   "metadata": {},
   "outputs": [],
   "source": [
    "pd.reset_option('precision')"
   ]
  },
  {
   "cell_type": "code",
   "execution_count": 36,
   "id": "dc6c962a",
   "metadata": {},
   "outputs": [],
   "source": [
    "# code for scoring data using naive Bayes"
   ]
  },
  {
   "cell_type": "code",
   "execution_count": 42,
   "id": "ac209119",
   "metadata": {},
   "outputs": [
    {
     "data": {
      "text/html": [
       "<div>\n",
       "<style scoped>\n",
       "    .dataframe tbody tr th:only-of-type {\n",
       "        vertical-align: middle;\n",
       "    }\n",
       "\n",
       "    .dataframe tbody tr th {\n",
       "        vertical-align: top;\n",
       "    }\n",
       "\n",
       "    .dataframe thead th {\n",
       "        text-align: right;\n",
       "    }\n",
       "</style>\n",
       "<table border=\"1\" class=\"dataframe\">\n",
       "  <thead>\n",
       "    <tr style=\"text-align: right;\">\n",
       "      <th></th>\n",
       "      <th>actual</th>\n",
       "      <th>predicted</th>\n",
       "      <th>0</th>\n",
       "      <th>1</th>\n",
       "    </tr>\n",
       "  </thead>\n",
       "  <tbody>\n",
       "    <tr>\n",
       "      <th>1276</th>\n",
       "      <td>ontime</td>\n",
       "      <td>ontime</td>\n",
       "      <td>0.459818</td>\n",
       "      <td>0.540182</td>\n",
       "    </tr>\n",
       "    <tr>\n",
       "      <th>1446</th>\n",
       "      <td>ontime</td>\n",
       "      <td>ontime</td>\n",
       "      <td>0.029039</td>\n",
       "      <td>0.970961</td>\n",
       "    </tr>\n",
       "    <tr>\n",
       "      <th>335</th>\n",
       "      <td>ontime</td>\n",
       "      <td>ontime</td>\n",
       "      <td>0.219315</td>\n",
       "      <td>0.780685</td>\n",
       "    </tr>\n",
       "    <tr>\n",
       "      <th>1458</th>\n",
       "      <td>ontime</td>\n",
       "      <td>ontime</td>\n",
       "      <td>0.028806</td>\n",
       "      <td>0.971194</td>\n",
       "    </tr>\n",
       "    <tr>\n",
       "      <th>2038</th>\n",
       "      <td>ontime</td>\n",
       "      <td>ontime</td>\n",
       "      <td>0.017383</td>\n",
       "      <td>0.982617</td>\n",
       "    </tr>\n",
       "    <tr>\n",
       "      <th>...</th>\n",
       "      <td>...</td>\n",
       "      <td>...</td>\n",
       "      <td>...</td>\n",
       "      <td>...</td>\n",
       "    </tr>\n",
       "    <tr>\n",
       "      <th>460</th>\n",
       "      <td>ontime</td>\n",
       "      <td>ontime</td>\n",
       "      <td>0.257859</td>\n",
       "      <td>0.742141</td>\n",
       "    </tr>\n",
       "    <tr>\n",
       "      <th>2063</th>\n",
       "      <td>ontime</td>\n",
       "      <td>ontime</td>\n",
       "      <td>0.212027</td>\n",
       "      <td>0.787973</td>\n",
       "    </tr>\n",
       "    <tr>\n",
       "      <th>159</th>\n",
       "      <td>ontime</td>\n",
       "      <td>ontime</td>\n",
       "      <td>0.220752</td>\n",
       "      <td>0.779248</td>\n",
       "    </tr>\n",
       "    <tr>\n",
       "      <th>2027</th>\n",
       "      <td>delayed</td>\n",
       "      <td>ontime</td>\n",
       "      <td>0.026596</td>\n",
       "      <td>0.973404</td>\n",
       "    </tr>\n",
       "    <tr>\n",
       "      <th>1247</th>\n",
       "      <td>ontime</td>\n",
       "      <td>ontime</td>\n",
       "      <td>0.037106</td>\n",
       "      <td>0.962894</td>\n",
       "    </tr>\n",
       "  </tbody>\n",
       "</table>\n",
       "<p>881 rows × 4 columns</p>\n",
       "</div>"
      ],
      "text/plain": [
       "       actual predicted         0         1\n",
       "1276   ontime    ontime  0.459818  0.540182\n",
       "1446   ontime    ontime  0.029039  0.970961\n",
       "335    ontime    ontime  0.219315  0.780685\n",
       "1458   ontime    ontime  0.028806  0.971194\n",
       "2038   ontime    ontime  0.017383  0.982617\n",
       "...       ...       ...       ...       ...\n",
       "460    ontime    ontime  0.257859  0.742141\n",
       "2063   ontime    ontime  0.212027  0.787973\n",
       "159    ontime    ontime  0.220752  0.779248\n",
       "2027  delayed    ontime  0.026596  0.973404\n",
       "1247   ontime    ontime  0.037106  0.962894\n",
       "\n",
       "[881 rows x 4 columns]"
      ]
     },
     "execution_count": 42,
     "metadata": {},
     "output_type": "execute_result"
    }
   ],
   "source": [
    "# classify a specific flight by searching in the dataset\n",
    "# for a flight with the same predictors values\n",
    "\n",
    "df = pd.concat([pd.DataFrame({'actual':y_valid, 'predicted':y_valid_pred}),\n",
    "               pd.DataFrame(predProb_valid, index=y_valid.index)], axis=1)\n",
    "df"
   ]
  },
  {
   "cell_type": "code",
   "execution_count": 44,
   "id": "13f1abca",
   "metadata": {},
   "outputs": [
    {
     "data": {
      "text/html": [
       "<div>\n",
       "<style scoped>\n",
       "    .dataframe tbody tr th:only-of-type {\n",
       "        vertical-align: middle;\n",
       "    }\n",
       "\n",
       "    .dataframe tbody tr th {\n",
       "        vertical-align: top;\n",
       "    }\n",
       "\n",
       "    .dataframe thead th {\n",
       "        text-align: right;\n",
       "    }\n",
       "</style>\n",
       "<table border=\"1\" class=\"dataframe\">\n",
       "  <thead>\n",
       "    <tr style=\"text-align: right;\">\n",
       "      <th></th>\n",
       "      <th>actual</th>\n",
       "      <th>predicted</th>\n",
       "      <th>0</th>\n",
       "      <th>1</th>\n",
       "    </tr>\n",
       "  </thead>\n",
       "  <tbody>\n",
       "    <tr>\n",
       "      <th>1225</th>\n",
       "      <td>ontime</td>\n",
       "      <td>ontime</td>\n",
       "      <td>0.057989</td>\n",
       "      <td>0.942011</td>\n",
       "    </tr>\n",
       "  </tbody>\n",
       "</table>\n",
       "</div>"
      ],
      "text/plain": [
       "      actual predicted         0         1\n",
       "1225  ontime    ontime  0.057989  0.942011"
      ]
     },
     "execution_count": 44,
     "metadata": {},
     "output_type": "execute_result"
    }
   ],
   "source": [
    "mask = ((x_valid.CARRIER_DL==1) & (x_valid.DAY_WEEK_7==1) & \n",
    "       (x_valid.CRS_DEP_TIME_10==1) & (x_valid.DEST_LGA==1) &\n",
    "       (x_valid.ORIGIN_DCA==1))\n",
    "df[mask]"
   ]
  },
  {
   "cell_type": "code",
   "execution_count": 45,
   "id": "d2e00846",
   "metadata": {},
   "outputs": [],
   "source": [
    "# code for confusion matrices"
   ]
  },
  {
   "cell_type": "code",
   "execution_count": 50,
   "id": "5f831cdc",
   "metadata": {},
   "outputs": [
    {
     "name": "stdout",
     "output_type": "stream",
     "text": [
      "Confusion Matrix (Accuracy 0.7955)\n",
      "\n",
      "        Prediction\n",
      " Actual delayed  ontime\n",
      "delayed      52     209\n",
      " ontime      61     998\n",
      "Confusion Matrix (Accuracy 0.7821)\n",
      "\n",
      "        Prediction\n",
      " Actual delayed  ontime\n",
      "delayed      26     141\n",
      " ontime      51     663\n"
     ]
    }
   ],
   "source": [
    "# training \n",
    "classificationSummary(y_train, y_train_pred, class_names=classes)\n",
    "# validation\n",
    "classificationSummary(y_valid, y_valid_pred, class_names=classes)"
   ]
  },
  {
   "cell_type": "code",
   "execution_count": 51,
   "id": "1fdcccc8",
   "metadata": {},
   "outputs": [],
   "source": [
    "# code for creating Figure 8.1"
   ]
  },
  {
   "cell_type": "code",
   "execution_count": 53,
   "id": "a37f87c1",
   "metadata": {},
   "outputs": [
    {
     "data": {
      "text/html": [
       "<div>\n",
       "<style scoped>\n",
       "    .dataframe tbody tr th:only-of-type {\n",
       "        vertical-align: middle;\n",
       "    }\n",
       "\n",
       "    .dataframe tbody tr th {\n",
       "        vertical-align: top;\n",
       "    }\n",
       "\n",
       "    .dataframe thead th {\n",
       "        text-align: right;\n",
       "    }\n",
       "</style>\n",
       "<table border=\"1\" class=\"dataframe\">\n",
       "  <thead>\n",
       "    <tr style=\"text-align: right;\">\n",
       "      <th></th>\n",
       "      <th>actual</th>\n",
       "      <th>prob</th>\n",
       "    </tr>\n",
       "  </thead>\n",
       "  <tbody>\n",
       "    <tr>\n",
       "      <th>1276</th>\n",
       "      <td>0</td>\n",
       "      <td>0.459818</td>\n",
       "    </tr>\n",
       "    <tr>\n",
       "      <th>1446</th>\n",
       "      <td>0</td>\n",
       "      <td>0.029039</td>\n",
       "    </tr>\n",
       "    <tr>\n",
       "      <th>335</th>\n",
       "      <td>0</td>\n",
       "      <td>0.219315</td>\n",
       "    </tr>\n",
       "    <tr>\n",
       "      <th>1458</th>\n",
       "      <td>0</td>\n",
       "      <td>0.028806</td>\n",
       "    </tr>\n",
       "    <tr>\n",
       "      <th>2038</th>\n",
       "      <td>0</td>\n",
       "      <td>0.017383</td>\n",
       "    </tr>\n",
       "    <tr>\n",
       "      <th>...</th>\n",
       "      <td>...</td>\n",
       "      <td>...</td>\n",
       "    </tr>\n",
       "    <tr>\n",
       "      <th>460</th>\n",
       "      <td>0</td>\n",
       "      <td>0.257859</td>\n",
       "    </tr>\n",
       "    <tr>\n",
       "      <th>2063</th>\n",
       "      <td>0</td>\n",
       "      <td>0.212027</td>\n",
       "    </tr>\n",
       "    <tr>\n",
       "      <th>159</th>\n",
       "      <td>0</td>\n",
       "      <td>0.220752</td>\n",
       "    </tr>\n",
       "    <tr>\n",
       "      <th>2027</th>\n",
       "      <td>1</td>\n",
       "      <td>0.026596</td>\n",
       "    </tr>\n",
       "    <tr>\n",
       "      <th>1247</th>\n",
       "      <td>0</td>\n",
       "      <td>0.037106</td>\n",
       "    </tr>\n",
       "  </tbody>\n",
       "</table>\n",
       "<p>881 rows × 2 columns</p>\n",
       "</div>"
      ],
      "text/plain": [
       "      actual      prob\n",
       "1276       0  0.459818\n",
       "1446       0  0.029039\n",
       "335        0  0.219315\n",
       "1458       0  0.028806\n",
       "2038       0  0.017383\n",
       "...      ...       ...\n",
       "460        0  0.257859\n",
       "2063       0  0.212027\n",
       "159        0  0.220752\n",
       "2027       1  0.026596\n",
       "1247       0  0.037106\n",
       "\n",
       "[881 rows x 2 columns]"
      ]
     },
     "execution_count": 53,
     "metadata": {},
     "output_type": "execute_result"
    }
   ],
   "source": [
    "df = pd.DataFrame({'actual':1-y_valid.cat.codes,\n",
    "                   # .cat.codes : 카테고리 형의 무슨 자료인지 (카테고리의)인덱스로 알려줌\n",
    "                 'prob':predProb_valid[:,0]})\n",
    "df"
   ]
  },
  {
   "cell_type": "code",
   "execution_count": 60,
   "id": "2aac16ea",
   "metadata": {},
   "outputs": [
    {
     "data": {
      "text/html": [
       "<div>\n",
       "<style scoped>\n",
       "    .dataframe tbody tr th:only-of-type {\n",
       "        vertical-align: middle;\n",
       "    }\n",
       "\n",
       "    .dataframe tbody tr th {\n",
       "        vertical-align: top;\n",
       "    }\n",
       "\n",
       "    .dataframe thead th {\n",
       "        text-align: right;\n",
       "    }\n",
       "</style>\n",
       "<table border=\"1\" class=\"dataframe\">\n",
       "  <thead>\n",
       "    <tr style=\"text-align: right;\">\n",
       "      <th></th>\n",
       "      <th>actual</th>\n",
       "      <th>prob</th>\n",
       "    </tr>\n",
       "  </thead>\n",
       "  <tbody>\n",
       "    <tr>\n",
       "      <th>0</th>\n",
       "      <td>1</td>\n",
       "      <td>0.705009</td>\n",
       "    </tr>\n",
       "    <tr>\n",
       "      <th>1</th>\n",
       "      <td>1</td>\n",
       "      <td>0.641926</td>\n",
       "    </tr>\n",
       "    <tr>\n",
       "      <th>2</th>\n",
       "      <td>0</td>\n",
       "      <td>0.641926</td>\n",
       "    </tr>\n",
       "    <tr>\n",
       "      <th>3</th>\n",
       "      <td>0</td>\n",
       "      <td>0.641926</td>\n",
       "    </tr>\n",
       "    <tr>\n",
       "      <th>4</th>\n",
       "      <td>1</td>\n",
       "      <td>0.641683</td>\n",
       "    </tr>\n",
       "    <tr>\n",
       "      <th>...</th>\n",
       "      <td>...</td>\n",
       "      <td>...</td>\n",
       "    </tr>\n",
       "    <tr>\n",
       "      <th>876</th>\n",
       "      <td>0</td>\n",
       "      <td>0.012182</td>\n",
       "    </tr>\n",
       "    <tr>\n",
       "      <th>877</th>\n",
       "      <td>0</td>\n",
       "      <td>0.012167</td>\n",
       "    </tr>\n",
       "    <tr>\n",
       "      <th>878</th>\n",
       "      <td>1</td>\n",
       "      <td>0.010793</td>\n",
       "    </tr>\n",
       "    <tr>\n",
       "      <th>879</th>\n",
       "      <td>0</td>\n",
       "      <td>0.007802</td>\n",
       "    </tr>\n",
       "    <tr>\n",
       "      <th>880</th>\n",
       "      <td>0</td>\n",
       "      <td>0.007802</td>\n",
       "    </tr>\n",
       "  </tbody>\n",
       "</table>\n",
       "<p>881 rows × 2 columns</p>\n",
       "</div>"
      ],
      "text/plain": [
       "     actual      prob\n",
       "0         1  0.705009\n",
       "1         1  0.641926\n",
       "2         0  0.641926\n",
       "3         0  0.641926\n",
       "4         1  0.641683\n",
       "..      ...       ...\n",
       "876       0  0.012182\n",
       "877       0  0.012167\n",
       "878       1  0.010793\n",
       "879       0  0.007802\n",
       "880       0  0.007802\n",
       "\n",
       "[881 rows x 2 columns]"
      ]
     },
     "execution_count": 60,
     "metadata": {},
     "output_type": "execute_result"
    }
   ],
   "source": [
    "df = df.sort_values(by=['prob'], ascending=False).reset_index(drop=True)\n",
    "df"
   ]
  },
  {
   "cell_type": "code",
   "execution_count": 61,
   "id": "63038e30",
   "metadata": {},
   "outputs": [
    {
     "data": {
      "text/plain": [
       "<AxesSubplot:xlabel='# records', ylabel='# cumulative gains'>"
      ]
     },
     "execution_count": 61,
     "metadata": {},
     "output_type": "execute_result"
    },
    {
     "data": {
      "image/png": "[encoded data removed]",
      "text/plain": [
       "<Figure size 288x288 with 1 Axes>"
      ]
     },
     "metadata": {
      "needs_background": "light"
     },
     "output_type": "display_data"
    }
   ],
   "source": [
    "fig, ax = plt.subplots()\n",
    "fig.set_size_inches(4,4)\n",
    "gainsChart(df.actual, ax=ax)"
   ]
  }
 ],
 "metadata": {
  "kernelspec": {
   "display_name": "Python 3 (ipykernel)",
   "language": "python",
   "name": "python3"
  },
  "language_info": {
   "codemirror_mode": {
    "name": "ipython",
    "version": 3
   },
   "file_extension": ".py",
   "mimetype": "text/x-python",
   "name": "python",
   "nbconvert_exporter": "python",
   "pygments_lexer": "ipython3",
   "version": "3.9.7"
  }
 },
 "nbformat": 4,
 "nbformat_minor": 5
}
