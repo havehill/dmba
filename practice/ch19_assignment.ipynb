{
 "cells": [
  {
   "cell_type": "code",
   "execution_count": 1,
   "id": "a87ddb7b",
   "metadata": {},
   "outputs": [],
   "source": [
    "%matplotlib inline\n",
    "\n",
    "from pathlib import Path\n",
    "\n",
    "import collections\n",
    "import pandas as pd\n",
    "import networkx as nx\n",
    "import matplotlib.pyplot as plt"
   ]
  },
  {
   "cell_type": "markdown",
   "id": "53f99209",
   "metadata": {},
   "source": [
    "# 19.1\n",
    "## a"
   ]
  },
  {
   "cell_type": "code",
   "execution_count": 2,
   "id": "60b707d4",
   "metadata": {},
   "outputs": [
    {
     "data": {
      "text/html": [
       "<div>\n",
       "<style scoped>\n",
       "    .dataframe tbody tr th:only-of-type {\n",
       "        vertical-align: middle;\n",
       "    }\n",
       "\n",
       "    .dataframe tbody tr th {\n",
       "        vertical-align: top;\n",
       "    }\n",
       "\n",
       "    .dataframe thead th {\n",
       "        text-align: right;\n",
       "    }\n",
       "</style>\n",
       "<table border=\"1\" class=\"dataframe\">\n",
       "  <thead>\n",
       "    <tr style=\"text-align: right;\">\n",
       "      <th></th>\n",
       "      <th>from</th>\n",
       "      <th>to</th>\n",
       "    </tr>\n",
       "  </thead>\n",
       "  <tbody>\n",
       "    <tr>\n",
       "      <th>0</th>\n",
       "      <td>A</td>\n",
       "      <td>C</td>\n",
       "    </tr>\n",
       "    <tr>\n",
       "      <th>1</th>\n",
       "      <td>B</td>\n",
       "      <td>C</td>\n",
       "    </tr>\n",
       "    <tr>\n",
       "      <th>2</th>\n",
       "      <td>B</td>\n",
       "      <td>A</td>\n",
       "    </tr>\n",
       "    <tr>\n",
       "      <th>3</th>\n",
       "      <td>C</td>\n",
       "      <td>D</td>\n",
       "    </tr>\n",
       "    <tr>\n",
       "      <th>4</th>\n",
       "      <td>D</td>\n",
       "      <td>E</td>\n",
       "    </tr>\n",
       "  </tbody>\n",
       "</table>\n",
       "</div>"
      ],
      "text/plain": [
       "  from to\n",
       "0    A  C\n",
       "1    B  C\n",
       "2    B  A\n",
       "3    C  D\n",
       "4    D  E"
      ]
     },
     "execution_count": 2,
     "metadata": {},
     "output_type": "execute_result"
    }
   ],
   "source": [
    "# Build a dataframe that defines the edges and use to build the graph\n",
    "df = pd.DataFrame([\n",
    "    (\"A\", \"C\"), (\"B\", \"C\"), (\"B\", \"A\"),\n",
    "    (\"C\", \"D\"), (\"D\", \"E\"), \n",
    "], columns=['from','to'])\n",
    "df"
   ]
  },
  {
   "cell_type": "code",
   "execution_count": 4,
   "id": "0c13f9e2",
   "metadata": {},
   "outputs": [
    {
     "data": {
      "image/png": "[encoded data removed]",
      "text/plain": [
       "<Figure size 432x288 with 1 Axes>"
      ]
     },
     "metadata": {},
     "output_type": "display_data"
    }
   ],
   "source": [
    "G = nx.from_pandas_edgelist(df, 'from', 'to') \n",
    "# nx.from_pandas_edgelist(데이터프레임 이름, 노드를 나타낼 변수명, 노드를 나타낼 변수명)\n",
    "nx.draw(G, with_labels=True, node_color='lightblue', node_size=1600)\n",
    "plt.show()"
   ]
  },
  {
   "cell_type": "markdown",
   "id": "4b95e397",
   "metadata": {},
   "source": [
    "## b\n",
    "D,E"
   ]
  },
  {
   "cell_type": "markdown",
   "id": "0f5ff025",
   "metadata": {},
   "source": [
    "## c\n",
    "2"
   ]
  },
  {
   "cell_type": "markdown",
   "id": "8423a0c5",
   "metadata": {},
   "source": [
    "## d"
   ]
  },
  {
   "cell_type": "code",
   "execution_count": 8,
   "id": "4f2bfe7f",
   "metadata": {},
   "outputs": [
    {
     "data": {
      "text/plain": [
       "DegreeView({'A': 2, 'C': 3, 'B': 2, 'D': 2, 'E': 1})"
      ]
     },
     "execution_count": 8,
     "metadata": {},
     "output_type": "execute_result"
    }
   ],
   "source": [
    "G.degree()"
   ]
  },
  {
   "cell_type": "markdown",
   "id": "0f458b1b",
   "metadata": {},
   "source": [
    "E"
   ]
  },
  {
   "cell_type": "markdown",
   "id": "63289304",
   "metadata": {},
   "source": [
    "## e"
   ]
  },
  {
   "cell_type": "code",
   "execution_count": 9,
   "id": "57dc6f81",
   "metadata": {},
   "outputs": [
    {
     "data": {
      "text/plain": [
       "[0, 1, 3, 1]"
      ]
     },
     "execution_count": 9,
     "metadata": {},
     "output_type": "execute_result"
    }
   ],
   "source": [
    "degreeCount = collections.Counter(d for node, d in G.degree())\n",
    "degreeDistribution = [0] * (1 + max(degreeCount))\n",
    "for degree, count in degreeCount.items():\n",
    "    degreeDistribution[degree] = count\n",
    "degreeDistribution"
   ]
  },
  {
   "cell_type": "code",
   "execution_count": 15,
   "id": "8e756261",
   "metadata": {},
   "outputs": [
    {
     "data": {
      "text/html": [
       "<div>\n",
       "<style scoped>\n",
       "    .dataframe tbody tr th:only-of-type {\n",
       "        vertical-align: middle;\n",
       "    }\n",
       "\n",
       "    .dataframe tbody tr th {\n",
       "        vertical-align: top;\n",
       "    }\n",
       "\n",
       "    .dataframe thead th {\n",
       "        text-align: right;\n",
       "    }\n",
       "</style>\n",
       "<table border=\"1\" class=\"dataframe\">\n",
       "  <thead>\n",
       "    <tr style=\"text-align: right;\">\n",
       "      <th></th>\n",
       "      <th>count</th>\n",
       "    </tr>\n",
       "  </thead>\n",
       "  <tbody>\n",
       "    <tr>\n",
       "      <th>0</th>\n",
       "      <td>0</td>\n",
       "    </tr>\n",
       "    <tr>\n",
       "      <th>1</th>\n",
       "      <td>1</td>\n",
       "    </tr>\n",
       "    <tr>\n",
       "      <th>2</th>\n",
       "      <td>3</td>\n",
       "    </tr>\n",
       "    <tr>\n",
       "      <th>3</th>\n",
       "      <td>1</td>\n",
       "    </tr>\n",
       "  </tbody>\n",
       "</table>\n",
       "</div>"
      ],
      "text/plain": [
       "   count\n",
       "0      0\n",
       "1      1\n",
       "2      3\n",
       "3      1"
      ]
     },
     "execution_count": 15,
     "metadata": {},
     "output_type": "execute_result"
    }
   ],
   "source": [
    "pd.DataFrame(degreeDistribution,[0,1,2,3],columns=['count'])"
   ]
  },
  {
   "cell_type": "markdown",
   "id": "271d71c6",
   "metadata": {},
   "source": [
    "## f"
   ]
  },
  {
   "cell_type": "markdown",
   "id": "a95183e0",
   "metadata": {},
   "source": [
    "연결되어있다"
   ]
  },
  {
   "cell_type": "code",
   "execution_count": 18,
   "id": "9dff9d7a",
   "metadata": {},
   "outputs": [
    {
     "data": {
      "text/plain": [
       "0.5"
      ]
     },
     "execution_count": 18,
     "metadata": {},
     "output_type": "execute_result"
    }
   ],
   "source": [
    "## g\n",
    "nx.density(G)"
   ]
  },
  {
   "cell_type": "markdown",
   "id": "8323d750",
   "metadata": {},
   "source": [
    "# 19.2"
   ]
  },
  {
   "cell_type": "markdown",
   "id": "7a1a1b0f",
   "metadata": {},
   "source": [
    "## a"
   ]
  },
  {
   "cell_type": "code",
   "execution_count": 23,
   "id": "e58a0cfb",
   "metadata": {},
   "outputs": [
    {
     "name": "stdout",
     "output_type": "stream",
     "text": [
      "40.0 %\n"
     ]
    }
   ],
   "source": [
    "print(2/5*100,'%')"
   ]
  },
  {
   "cell_type": "markdown",
   "id": "4c40f185",
   "metadata": {},
   "source": [
    "## b"
   ]
  },
  {
   "cell_type": "code",
   "execution_count": 25,
   "id": "4e1edc17",
   "metadata": {},
   "outputs": [
    {
     "name": "stdout",
     "output_type": "stream",
     "text": [
      "110.00000000000001 %\n"
     ]
    }
   ],
   "source": [
    "print((7*6 - 5*4)/(5*4)*100, '%')"
   ]
  },
  {
   "cell_type": "markdown",
   "id": "75a49ae7",
   "metadata": {},
   "source": [
    "## c\n",
    "잘 모르겟"
   ]
  },
  {
   "cell_type": "markdown",
   "id": "0ff7937f",
   "metadata": {},
   "source": [
    "## d\n",
    "음... 밀도는 같아도 크기가 큰 네트워크일수록 훨씬 더 많은 연결이 요구된다."
   ]
  },
  {
   "cell_type": "markdown",
   "id": "929e3ab6",
   "metadata": {},
   "source": [
    "## e"
   ]
  },
  {
   "cell_type": "code",
   "execution_count": 26,
   "id": "c5373f5c",
   "metadata": {},
   "outputs": [
    {
     "data": {
      "image/png": "[encoded data removed]",
      "text/plain": [
       "<Figure size 432x288 with 1 Axes>"
      ]
     },
     "metadata": {},
     "output_type": "display_data"
    }
   ],
   "source": [
    "df = pd.DataFrame([\n",
    "    (\"A\", \"C\"), (\"B\", \"C\"), (\"B\", \"A\"),\n",
    "    (\"C\", \"D\"), (\"D\", \"E\"), (\"F\",\"C\"), (\"G\",\"C\"), (\"F\",\"D\"), (\"G\",\"D\")\n",
    "], columns=['from','to'])\n",
    "G = nx.from_pandas_edgelist(df, 'from', 'to') \n",
    "# nx.from_pandas_edgelist(데이터프레임 이름, 노드를 나타낼 변수명, 노드를 나타낼 변수명)\n",
    "nx.draw(G, with_labels=True, node_color='lightblue', node_size=1600)\n",
    "plt.show()"
   ]
  },
  {
   "cell_type": "code",
   "execution_count": 28,
   "id": "dbedcaba",
   "metadata": {},
   "outputs": [
    {
     "data": {
      "text/plain": [
       "[0, 1, 4, 0, 1, 1]"
      ]
     },
     "execution_count": 28,
     "metadata": {},
     "output_type": "execute_result"
    }
   ],
   "source": [
    "degreeCount = collections.Counter(d for node, d in G.degree())\n",
    "degreeDistribution = [0] * (1 + max(degreeCount))\n",
    "for degree, count in degreeCount.items():\n",
    "    degreeDistribution[degree] = count\n",
    "degreeDistribution"
   ]
  },
  {
   "cell_type": "code",
   "execution_count": 30,
   "id": "668d6139",
   "metadata": {},
   "outputs": [
    {
     "data": {
      "text/html": [
       "<div>\n",
       "<style scoped>\n",
       "    .dataframe tbody tr th:only-of-type {\n",
       "        vertical-align: middle;\n",
       "    }\n",
       "\n",
       "    .dataframe tbody tr th {\n",
       "        vertical-align: top;\n",
       "    }\n",
       "\n",
       "    .dataframe thead th {\n",
       "        text-align: right;\n",
       "    }\n",
       "</style>\n",
       "<table border=\"1\" class=\"dataframe\">\n",
       "  <thead>\n",
       "    <tr style=\"text-align: right;\">\n",
       "      <th></th>\n",
       "      <th>count</th>\n",
       "    </tr>\n",
       "  </thead>\n",
       "  <tbody>\n",
       "    <tr>\n",
       "      <th>0</th>\n",
       "      <td>0</td>\n",
       "    </tr>\n",
       "    <tr>\n",
       "      <th>1</th>\n",
       "      <td>1</td>\n",
       "    </tr>\n",
       "    <tr>\n",
       "      <th>2</th>\n",
       "      <td>4</td>\n",
       "    </tr>\n",
       "    <tr>\n",
       "      <th>3</th>\n",
       "      <td>0</td>\n",
       "    </tr>\n",
       "    <tr>\n",
       "      <th>4</th>\n",
       "      <td>1</td>\n",
       "    </tr>\n",
       "    <tr>\n",
       "      <th>5</th>\n",
       "      <td>1</td>\n",
       "    </tr>\n",
       "  </tbody>\n",
       "</table>\n",
       "</div>"
      ],
      "text/plain": [
       "   count\n",
       "0      0\n",
       "1      1\n",
       "2      4\n",
       "3      0\n",
       "4      1\n",
       "5      1"
      ]
     },
     "execution_count": 30,
     "metadata": {},
     "output_type": "execute_result"
    }
   ],
   "source": [
    "pd.DataFrame(degreeDistribution,[0,1,2,3,4,5],columns=['count'])"
   ]
  },
  {
   "cell_type": "markdown",
   "id": "6759d2d2",
   "metadata": {},
   "source": [
    "# 19.3\n",
    "## a"
   ]
  },
  {
   "cell_type": "markdown",
   "id": "ce226124",
   "metadata": {},
   "source": [
    "A - B C D  \n",
    "B - A F  \n",
    "C - A E  \n",
    "D - A E  \n",
    "E - C D  \n",
    "G - E  "
   ]
  },
  {
   "cell_type": "markdown",
   "id": "5c4fcd9c",
   "metadata": {},
   "source": [
    "공통 이웃 개수가 많은 조합 (2개) - (A,E),(C,D)  \n",
    "(C,D)는 이미 이웃이 같음.  \n",
    "(A,E)는 공통이웃이 많고 닮았으니, A와 연결된 B가 E도 연결될 가능성이 높음\n",
    "\n",
    "즉, (B,E)"
   ]
  },
  {
   "cell_type": "markdown",
   "id": "468a6149",
   "metadata": {},
   "source": [
    "## b"
   ]
  },
  {
   "cell_type": "markdown",
   "id": "d39cd4db",
   "metadata": {},
   "source": [
    "(F,G) : 최단경로가 5로, 가장 큼"
   ]
  }
 ],
 "metadata": {
  "kernelspec": {
   "display_name": "Python 3 (ipykernel)",
   "language": "python",
   "name": "python3"
  },
  "language_info": {
   "codemirror_mode": {
    "name": "ipython",
    "version": 3
   },
   "file_extension": ".py",
   "mimetype": "text/x-python",
   "name": "python",
   "nbconvert_exporter": "python",
   "pygments_lexer": "ipython3",
   "version": "3.9.7"
  }
 },
 "nbformat": 4,
 "nbformat_minor": 5
}
